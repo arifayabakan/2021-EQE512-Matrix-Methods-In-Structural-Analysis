{
 "cells": [
  {
   "cell_type": "markdown",
   "metadata": {
    "slideshow": {
     "slide_type": "slide"
    },
    "tags": []
   },
   "source": [
    "<h1 align=\"center\">EQE512 MATRIX METHODS IN STRUCTURAL ANALYSIS \n",
    "<br>\n",
    "<br>\n",
    "Week 11\n",
    "<br>\n",
    "<br>\n",
    "Dynamic characteristics of the systems and application in Earthquake Engineering (MDOF)</h1> \n",
    "\n",
    "<h3 align=\"center\">Dr. Ahmet Anıl Dindar (adindar@gtu.edu.tr)</h3> \n",
    "<h4 align=\"center\">2021 Fall  </h4> "
   ]
  },
  {
   "cell_type": "markdown",
   "metadata": {
    "tags": []
   },
   "source": [
    "---\n",
    "**Today's Topics**\n",
    "\n",
    "This code is composed of three sections, namely \n",
    "\n",
    "A. Pre-process\n",
    "\n",
    "B. Process\n",
    "\n",
    "C. Post-Process\n",
    "\n",
    "---\n",
    "\n",
    "Problem: This is a multistory 2D Elastic RC frame under static loads\n",
    "\n",
    "---"
   ]
  },
  {
   "cell_type": "markdown",
   "metadata": {},
   "source": [
    "# A. Pre-Process"
   ]
  },
  {
   "cell_type": "code",
   "execution_count": 58,
   "metadata": {
    "tags": []
   },
   "outputs": [],
   "source": [
    "# from openseespy import *\n",
    "\n",
    "import openseespy.opensees as ops"
   ]
  },
  {
   "cell_type": "code",
   "execution_count": 59,
   "metadata": {},
   "outputs": [],
   "source": [
    "ops.wipe() # Clear all OS values"
   ]
  },
  {
   "cell_type": "code",
   "execution_count": 60,
   "metadata": {},
   "outputs": [],
   "source": [
    "ops.model( \"Basic\", \"-ndm\", 2 , \"-ndf\", 3) # This is a 2D Frame"
   ]
  },
  {
   "cell_type": "code",
   "execution_count": 61,
   "metadata": {},
   "outputs": [],
   "source": [
    "numBay = 2\n",
    "numFloor = 3"
   ]
  },
  {
   "cell_type": "code",
   "execution_count": 62,
   "metadata": {},
   "outputs": [],
   "source": [
    "bayWidht = 3.0 # m\n",
    "storyHeight = 3.0 # m"
   ]
  },
  {
   "cell_type": "code",
   "execution_count": 63,
   "metadata": {},
   "outputs": [],
   "source": [
    "E = 295000000 # kN/m2\n",
    "massX = 0.49\n",
    "M = 0. \n",
    "coordTransfer = \"Linear\" # Linear Transformation\n",
    "massType = \"-lMass\" # Lumped mass"
   ]
  },
  {
   "cell_type": "code",
   "execution_count": 64,
   "metadata": {},
   "outputs": [],
   "source": [
    "beams = [ \"B20X50\" for item in range( numFloor)]\n",
    "eColumn = [ \"C50X50\" for item in range( numFloor)]\n",
    "iColumn = [ \"C50X50\" for item in range( numFloor)]\n",
    "\n",
    "columns = [eColumn , iColumn , eColumn]"
   ]
  },
  {
   "cell_type": "code",
   "execution_count": 65,
   "metadata": {},
   "outputs": [],
   "source": [
    "Section = { \"C50X50\" : [ 0.5 * .5 , (0.5*0.5**3)/12],\n",
    "          \"B20X50\": [0.2*.5 , (.2*0.5**3)/12]}"
   ]
  },
  {
   "cell_type": "code",
   "execution_count": 66,
   "metadata": {},
   "outputs": [
    {
     "data": {
      "text/plain": [
       "{'C50X50': [0.25, 0.005208333333333333],\n",
       " 'B20X50': [0.1, 0.0020833333333333333]}"
      ]
     },
     "execution_count": 66,
     "metadata": {},
     "output_type": "execute_result"
    }
   ],
   "source": [
    "Section"
   ]
  },
  {
   "cell_type": "code",
   "execution_count": 67,
   "metadata": {},
   "outputs": [],
   "source": [
    "def ElasticBeamColum( eleTag, iNode, jNode, sectType, E, transfTag, M, massType) :\n",
    "    \n",
    "    prop = Section[sectType]\n",
    "    Area = prop[0]\n",
    "    I = prop[1]\n",
    "    \n",
    "    ops.element( \"elasticBeamColumn\", eleTag ,iNode, jNode, Area, E , I , transfTag , \"-mass\", M, massType)"
   ]
  },
  {
   "cell_type": "code",
   "execution_count": 68,
   "metadata": {},
   "outputs": [],
   "source": [
    "import numpy as np\n",
    "axis_h = np.linspace( 0 , (numBay * bayWidht)  ,numBay+1)\n",
    "axis_v = np.linspace( 0 , (numFloor * storyHeight)  ,numFloor+1)\n"
   ]
  },
  {
   "cell_type": "code",
   "execution_count": 69,
   "metadata": {},
   "outputs": [],
   "source": [
    "node_no =  1\n",
    "node_dict = {}\n",
    "floorNo = 0\n",
    "floorNodes = {}\n",
    "nodes = []\n",
    "for i in axis_v:\n",
    "    floorNodes[floorNo] = []\n",
    "    \n",
    "    for j in axis_h:\n",
    "        nodes.append(node_no)\n",
    "\n",
    "        # OPENSEES COMMAND\n",
    "        ops.node( node_no , float(j) , float(i))\n",
    "        \n",
    "        node_dict[node_no] = [float(j) , float(i)]\n",
    "        floorNodes[floorNo].append(node_no)\n",
    "        \n",
    "        \n",
    "        node_no += 1\n",
    "    floorNo += 1"
   ]
  },
  {
   "cell_type": "code",
   "execution_count": 70,
   "metadata": {},
   "outputs": [],
   "source": [
    "for nodeNumber in floorNodes[0]:\n",
    "    ops.fix( nodeNumber , 1,1,1)"
   ]
  },
  {
   "cell_type": "code",
   "execution_count": 71,
   "metadata": {},
   "outputs": [
    {
     "data": {
      "text/plain": [
       "{0: [1, 2, 3], 1: [4, 5, 6], 2: [7, 8, 9], 3: [10, 11, 12]}"
      ]
     },
     "execution_count": 71,
     "metadata": {},
     "output_type": "execute_result"
    }
   ],
   "source": [
    "# Rigid Diaphram Assignment\n",
    "floorNodes"
   ]
  },
  {
   "cell_type": "code",
   "execution_count": 72,
   "metadata": {},
   "outputs": [],
   "source": [
    "for key, value in floorNodes.items():\n",
    "    for item in value[:]:\n",
    "        if item == value[0]:\n",
    "            ops.mass( item , massX , 0.000001 , 0.0000001 )\n",
    "        else: \n",
    "            ops.equalDOF( value[0] , item , 1)"
   ]
  },
  {
   "cell_type": "markdown",
   "metadata": {},
   "source": [
    "Adding columns"
   ]
  },
  {
   "cell_type": "code",
   "execution_count": 73,
   "metadata": {},
   "outputs": [],
   "source": [
    "ops.geomTransf(coordTransfer, 1)\n",
    "column_dict = {}\n",
    "eleTag = 1 \n",
    "for  j in range(0 , numBay + 1):\n",
    "    end1 = j + 1\n",
    "    end2 = end1 + numBay + 1\n",
    "    thisColumn = columns[j]\n",
    "    \n",
    "    for i in range( 0 ,numFloor):\n",
    "        secType = thisColumn[ i]\n",
    "        ElasticBeamColum( eleTag, end1 , end2 , secType , E , 1, M , massType)\n",
    "        column_dict[eleTag] = [end1, end2]\n",
    "        end1 =end2\n",
    "        end2 += numBay + 1\n",
    "        eleTag += 1        "
   ]
  },
  {
   "cell_type": "code",
   "execution_count": 74,
   "metadata": {},
   "outputs": [
    {
     "data": {
      "text/plain": [
       "10"
      ]
     },
     "execution_count": 74,
     "metadata": {},
     "output_type": "execute_result"
    }
   ],
   "source": [
    "eleTag"
   ]
  },
  {
   "cell_type": "code",
   "execution_count": 88,
   "metadata": {},
   "outputs": [
    {
     "data": {
      "image/png": "[encoded data removed]",
      "text/plain": [
       "<Figure size 432x288 with 1 Axes>"
      ]
     },
     "metadata": {
      "needs_background": "light"
     },
     "output_type": "display_data"
    }
   ],
   "source": [
    "import matplotlib.pyplot as plt\n",
    "%matplotlib inline\n",
    "\n",
    "for key in node_dict.keys():\n",
    "    plt.plot( node_dict[key][0] ,  node_dict[key][1] , \"o\"  )\n",
    "    plt.text( node_dict[key][0] ,  node_dict[key][1] , str(key) ,  )"
   ]
  },
  {
   "cell_type": "code",
   "execution_count": 76,
   "metadata": {},
   "outputs": [
    {
     "data": {
      "image/png": "[encoded data removed]",
      "text/plain": [
       "<Figure size 432x288 with 1 Axes>"
      ]
     },
     "metadata": {
      "needs_background": "light"
     },
     "output_type": "display_data"
    }
   ],
   "source": [
    "import matplotlib.pyplot as plt\n",
    "%matplotlib inline\n",
    "\n",
    "for key in column_dict.keys():\n",
    "    plt.plot([ node_dict[column_dict[key][0]][0] ,node_dict[column_dict[key][1]][0]],\n",
    "              [ node_dict[column_dict[key][0]][1] ,node_dict[column_dict[key][1]][1]]  )\n",
    "    "
   ]
  },
  {
   "cell_type": "code",
   "execution_count": 77,
   "metadata": {},
   "outputs": [],
   "source": [
    "beam_dict = {}\n",
    "for j in range( 1 , numFloor +1):\n",
    "    end1 = (numBay + 1) * j + 1\n",
    "    end2 = end1+1\n",
    "    secType = beams[j -1 ]\n",
    "    for i in range(0, numBay):\n",
    "        ElasticBeamColum(eleTag, end1, end2, secType, E, 1, M, massType) \n",
    "        beam_dict[eleTag] = [end1, end2]\n",
    "        end1 = end2\n",
    "        end2 = end1 + 1\n",
    "        eleTag += 1"
   ]
  },
  {
   "cell_type": "code",
   "execution_count": 78,
   "metadata": {},
   "outputs": [
    {
     "data": {
      "image/png": "[encoded data removed]",
      "text/plain": [
       "<Figure size 432x288 with 1 Axes>"
      ]
     },
     "metadata": {
      "needs_background": "light"
     },
     "output_type": "display_data"
    }
   ],
   "source": [
    "import matplotlib.pyplot as plt\n",
    "%matplotlib inline\n",
    "\n",
    "for key in beam_dict.keys():\n",
    "    plt.plot([ node_dict[beam_dict[key][0]][0] ,node_dict[beam_dict[key][1]][0]],\n",
    "              [ node_dict[beam_dict[key][0]][1] ,node_dict[beam_dict[key][1]][1]]  )\n",
    "    "
   ]
  },
  {
   "cell_type": "code",
   "execution_count": 79,
   "metadata": {},
   "outputs": [
    {
     "data": {
      "image/png": "[encoded data removed]",
      "text/plain": [
       "<Figure size 360x360 with 1 Axes>"
      ]
     },
     "metadata": {
      "needs_background": "light"
     },
     "output_type": "display_data"
    }
   ],
   "source": [
    "plt.figure(figsize= (5,5))\n",
    "\n",
    "\n",
    "for key in node_dict.keys():\n",
    "    plt.plot( node_dict[key][0] ,  node_dict[key][1] , \"o\" , MS = 10 , color=\"gray\")\n",
    "for key in column_dict.keys():\n",
    "    plt.plot([ node_dict[column_dict[key][0]][0] ,node_dict[column_dict[key][1]][0]],\n",
    "              [ node_dict[column_dict[key][0]][1] ,node_dict[column_dict[key][1]][1]]  \n",
    "            , color=\"red\")\n",
    "for key in beam_dict.keys():\n",
    "    plt.plot([ node_dict[beam_dict[key][0]][0] ,node_dict[beam_dict[key][1]][0]],\n",
    "              [ node_dict[beam_dict[key][0]][1] ,node_dict[beam_dict[key][1]][1]] \n",
    "            , color=\"k\")\n",
    "    "
   ]
  },
  {
   "cell_type": "code",
   "execution_count": 80,
   "metadata": {},
   "outputs": [],
   "source": [
    "from math import asin, sqrt\n",
    "\n",
    "\n",
    "numEigen = numFloor\n",
    "eigenValues = ops.eigen( numEigen) \n",
    "\n",
    "PI = 3.14"
   ]
  },
  {
   "cell_type": "code",
   "execution_count": 81,
   "metadata": {},
   "outputs": [
    {
     "data": {
      "text/plain": [
       "[253945.04221043308, 3037243.0114364256, 10942995.574245013]"
      ]
     },
     "execution_count": 81,
     "metadata": {},
     "output_type": "execute_result"
    }
   ],
   "source": [
    "eigenValues"
   ]
  },
  {
   "cell_type": "code",
   "execution_count": 82,
   "metadata": {},
   "outputs": [
    {
     "name": "stdout",
     "output_type": "stream",
     "text": [
      "0.012462058181108964\n",
      "0.003603461389418709\n",
      "0.0018984166401965095\n"
     ]
    }
   ],
   "source": [
    "for i in eigenValues:\n",
    "    print( 2*3.14/(sqrt( i )))"
   ]
  },
  {
   "cell_type": "code",
   "execution_count": 111,
   "metadata": {
    "tags": []
   },
   "outputs": [
    {
     "name": "stdout",
     "output_type": "stream",
     "text": [
      "No Model_ODB specified to plot modeshapes\n",
      "2D model\n"
     ]
    },
    {
     "data": {
      "image/png": "[encoded data removed]",
      "text/plain": [
       "<Figure size 432x288 with 1 Axes>"
      ]
     },
     "metadata": {
      "needs_background": "light"
     },
     "output_type": "display_data"
    },
    {
     "name": "stdout",
     "output_type": "stream",
     "text": [
      "No Model_ODB specified to plot modeshapes\n",
      "2D model\n"
     ]
    },
    {
     "data": {
      "image/png": "[encoded data removed]",
      "text/plain": [
       "<Figure size 432x288 with 1 Axes>"
      ]
     },
     "metadata": {
      "needs_background": "light"
     },
     "output_type": "display_data"
    },
    {
     "data": {
      "text/plain": [
       "(<Figure size 432x288 with 1 Axes>,\n",
       " <matplotlib.axes._subplots.AxesSubplot at 0x1fffffc87f0>)"
      ]
     },
     "execution_count": 111,
     "metadata": {},
     "output_type": "execute_result"
    }
   ],
   "source": [
    "import openseespy.postprocessing.Get_Rendering as opsplt\n",
    "\n",
    "opsplt.plot_modeshape(1, 1) # 1st Mode Shape\n",
    "opsplt.plot_modeshape(2, 1) # 2nd Mode Shape"
   ]
  },
  {
   "cell_type": "markdown",
   "metadata": {},
   "source": [
    "**Now think of the eigenvector**"
   ]
  },
  {
   "cell_type": "code",
   "execution_count": 109,
   "metadata": {},
   "outputs": [
    {
     "name": "stdout",
     "output_type": "stream",
     "text": [
      "[0.0, 0.9201208781005956, 0.7538512929487384, -0.7911397199499888]\n"
     ]
    }
   ],
   "source": [
    "mode_shape = []\n",
    "for i in [1,4,7,10]:\n",
    "    value = ops.nodeEigenvector( i , 2 )[0]\n",
    "    mode_shape.append( value)\n",
    "print( mode_shape )"
   ]
  },
  {
   "cell_type": "code",
   "execution_count": 110,
   "metadata": {},
   "outputs": [
    {
     "data": {
      "text/plain": [
       "[<matplotlib.lines.Line2D at 0x1ffffef4d00>]"
      ]
     },
     "execution_count": 110,
     "metadata": {},
     "output_type": "execute_result"
    },
    {
     "data": {
      "image/png": "[encoded data removed]",
      "text/plain": [
       "<Figure size 432x288 with 1 Axes>"
      ]
     },
     "metadata": {
      "needs_background": "light"
     },
     "output_type": "display_data"
    }
   ],
   "source": [
    "plt.plot(  mode_shape , range( len(mode_shape)) ,  marker = \"o\")"
   ]
  },
  {
   "cell_type": "code",
   "execution_count": null,
   "metadata": {},
   "outputs": [],
   "source": []
  },
  {
   "cell_type": "code",
   "execution_count": null,
   "metadata": {},
   "outputs": [],
   "source": []
  },
  {
   "cell_type": "code",
   "execution_count": null,
   "metadata": {},
   "outputs": [],
   "source": []
  },
  {
   "cell_type": "code",
   "execution_count": null,
   "metadata": {},
   "outputs": [],
   "source": []
  },
  {
   "cell_type": "code",
   "execution_count": null,
   "metadata": {},
   "outputs": [],
   "source": []
  },
  {
   "cell_type": "code",
   "execution_count": null,
   "metadata": {},
   "outputs": [],
   "source": []
  },
  {
   "cell_type": "markdown",
   "metadata": {
    "tags": []
   },
   "source": [
    "# B. Process"
   ]
  },
  {
   "cell_type": "code",
   "execution_count": null,
   "metadata": {},
   "outputs": [],
   "source": []
  },
  {
   "cell_type": "markdown",
   "metadata": {
    "tags": []
   },
   "source": [
    "# C. Post-Process"
   ]
  },
  {
   "cell_type": "markdown",
   "metadata": {},
   "source": [
    "---\n",
    "\n",
    "**NEXT WEEK**\n",
    "The topics for the next week \n",
    "\n",
    "- Loads and solution"
   ]
  },
  {
   "cell_type": "code",
   "execution_count": null,
   "metadata": {},
   "outputs": [],
   "source": []
  }
 ],
 "metadata": {
  "anaconda-cloud": {},
  "celltoolbar": "Slideshow",
  "kernelspec": {
   "display_name": "Python 3 (ipykernel)",
   "language": "python",
   "name": "python3"
  },
  "language_info": {
   "codemirror_mode": {
    "name": "ipython",
    "version": 3
   },
   "file_extension": ".py",
   "mimetype": "text/x-python",
   "name": "python",
   "nbconvert_exporter": "python",
   "pygments_lexer": "ipython3",
   "version": "3.8.1"
  },
  "toc-autonumbering": false,
  "toc-showcode": true,
  "toc-showmarkdowntxt": true
 },
 "nbformat": 4,
 "nbformat_minor": 4
}
