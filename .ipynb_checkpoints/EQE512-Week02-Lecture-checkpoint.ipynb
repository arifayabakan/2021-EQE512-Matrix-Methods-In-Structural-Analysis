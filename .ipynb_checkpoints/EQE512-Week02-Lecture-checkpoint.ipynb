{
 "cells": [
  {
   "cell_type": "markdown",
   "metadata": {
    "slideshow": {
     "slide_type": "slide"
    }
   },
   "source": [
    "<h1 align=\"center\">EQE512 MATRIX METHODS IN STRUCTURAL ANALYSIS \n",
    "<br>\n",
    "<br>\n",
    "Week 02\n",
    "<br>\n",
    "<br>\n",
    "Development of computer algorithms </h1> \n",
    "\n",
    "<h3 align=\"center\">Dr. Ahmet Anıl Dindar (adindar@gtu.edu.tr)</h3> \n",
    "<h4 align=\"center\">2020 Fall  </h4> "
   ]
  },
  {
   "cell_type": "markdown",
   "metadata": {
    "slideshow": {
     "slide_type": "slide"
    }
   },
   "source": [
    "**Computer programming languages**\n",
    "\n",
    "<img src=\"http://www.digibarn.com/collections/posters/tongues/ComputerLanguagesChart.png\" alt=\"Drawing\" style=\"width: 100%;\"/>\n"
   ]
  },
  {
   "cell_type": "markdown",
   "metadata": {
    "slideshow": {
     "slide_type": "slide"
    }
   },
   "source": [
    "**MATLAB?**\n",
    "\n",
    "<img src=\"./images/week02_popularComputerLanguages.png\" alt=\"Drawing\" style=\"width: 80%;\"/>\n"
   ]
  },
  {
   "cell_type": "markdown",
   "metadata": {
    "slideshow": {
     "slide_type": "slide"
    }
   },
   "source": [
    "**What else?**\n",
    "\n",
    "<img src=\"./images/programs1965_2019.jpg\" alt=\"Drawing\" style=\"height: 60%;\"/>"
   ]
  },
  {
   "cell_type": "markdown",
   "metadata": {
    "slideshow": {
     "slide_type": "slide"
    }
   },
   "source": [
    "**Future?**\n",
    "\n",
    "Source : https://insights.stackoverflow.com/survey/2019\n",
    "\n",
    "<img src=\"./images/wee02_salary_devtype-1.svg\" alt=\"Drawing\" style=\"height: 70%;\"/>\n",
    "\n",
    "<img src=\"./images/week02_salary_language-1.svg\" alt=\"Drawing\" style=\"height: 70%;\"/>"
   ]
  },
  {
   "cell_type": "markdown",
   "metadata": {},
   "source": [
    "**Let's see these programs**\n",
    "\n",
    "- Flowchart Drawing (Draw.io)\n",
    "- Spreadsheet programs (MS Excel, Google Spreadsheet)\n",
    "- Numerical programming (PYTHON)\n",
    "- Mathematical Calculations (SMATH)"
   ]
  },
  {
   "cell_type": "code",
   "execution_count": null,
   "metadata": {},
   "outputs": [],
   "source": []
  }
 ],
 "metadata": {
  "celltoolbar": "Slideshow",
  "kernelspec": {
   "display_name": "Python 3",
   "language": "python",
   "name": "python3"
  },
  "language_info": {
   "codemirror_mode": {
    "name": "ipython",
    "version": 3
   },
   "file_extension": ".py",
   "mimetype": "text/x-python",
   "name": "python",
   "nbconvert_exporter": "python",
   "pygments_lexer": "ipython3",
   "version": "3.7.6"
  }
 },
 "nbformat": 4,
 "nbformat_minor": 4
}
