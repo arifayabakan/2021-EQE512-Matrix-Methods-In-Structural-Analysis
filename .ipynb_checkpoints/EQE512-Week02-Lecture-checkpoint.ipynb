{
 "cells": [
  {
   "cell_type": "markdown",
   "metadata": {
    "slideshow": {
     "slide_type": "slide"
    }
   },
   "source": [
    "<h1 align=\"center\">EQE512 MATRIX METHODS IN STRUCTURAL ANALYSIS \n",
    "<br>\n",
    "<br>\n",
    "Week 01\n",
    "<br>\n",
    "<br>\n",
    "Computer Algorithms</h1> \n",
    "\n",
    "<h3 align=\"center\">Dr. Ahmet Anıl Dindar (adindar@gtu.edu.tr)</h3> \n",
    "<h4 align=\"center\">2021 Fall  </h4> "
   ]
  },
  {
   "cell_type": "markdown",
   "metadata": {},
   "source": [
    "Today we will cover the given concepts\n",
    "\n",
    "- Development of computer algorithms (Determinate Single Degree of Freedom systems) \n",
    "\n",
    "- Development of algorithms for parametric calculations and optimal solution approach (Design of the Determinate Single Degree Freedom Systems under Desing Load Combinations) \n",
    "\n",
    "---"
   ]
  },
  {
   "cell_type": "markdown",
   "metadata": {
    "slideshow": {
     "slide_type": "slide"
    }
   },
   "source": [
    "## ALGORITHM\n",
    "\n",
    "Calculate the followings;\n",
    "- Support reactions\n",
    "- Draw the internal force diagrams\n",
    "\n",
    "using ~~Excel~~ and Python.\n",
    "\n",
    "<img src=\"./images/9-simple_cantilever_beam.svg\" width=\"80%\" align=\"center\">"
   ]
  },
  {
   "cell_type": "markdown",
   "metadata": {
    "slideshow": {
     "slide_type": "slide"
    }
   },
   "source": [
    "### ALGORITHM = PLANNING + EXPERIENCE + KNOWLEDGE\n",
    "\n",
    "Let's develop an algorithm for this problem: \n",
    "\n",
    "<img src=\"./images/week03-task02-algorithm-00.svg\" width=\"50%\" >"
   ]
  },
  {
   "cell_type": "markdown",
   "metadata": {},
   "source": [
    "Let's see a simple but effective tool for algorithm development :\n",
    "\n",
    "\n",
    "Clicking this link <a href=\"https://app.diagrams.net/\" target=\"_blank\">Draw.io = diagrams.net</a> will open a new tab where we will do the flowchart for the problem. We'll embed the flowchart to the cell below. \n",
    "\n"
   ]
  },
  {
   "cell_type": "code",
   "execution_count": null,
   "metadata": {},
   "outputs": [],
   "source": []
  },
  {
   "cell_type": "markdown",
   "metadata": {},
   "source": [
    "--- \n",
    "**Introduction**\n",
    "\n",
    "Having learned Python basics in terms of variables, loops and visualization, it is time to go for a simple but efficient structural analysis problem; Lateral drift limit of a cantilever column. "
   ]
  },
  {
   "cell_type": "markdown",
   "metadata": {},
   "source": [
    "# Relation between force and deformation\n",
    "\n",
    "Remember the spring under axial load. \n",
    "\n",
    "<img src=\"./images/week04-Spring.png\" width=\"20%\" align=\"center\">\n"
   ]
  },
  {
   "cell_type": "markdown",
   "metadata": {},
   "source": [
    "## Axial Stiffness\n",
    "\n",
    "<img src=\"./images/Week04-1_axialStiffness.png\" width=\"50%\">\n"
   ]
  },
  {
   "cell_type": "markdown",
   "metadata": {},
   "source": [
    "## Flexural Stiffness\n",
    "\n",
    "<img src=\"./images/Week04-2_shearStiffness.png\" width=\"50%\">\n"
   ]
  },
  {
   "cell_type": "markdown",
   "metadata": {},
   "source": [
    "# Flexural Stiffness Example\n",
    "\n",
    "<img src= \"./images/week04-task01-lateral-stiffness-TASK03.png\" width=\"40%\">\n",
    "\n",
    "**TASK**\n",
    "\n",
    "Let's create the algorithm to determine the lateral flexural stiffness of the given cantilever column"
   ]
  },
  {
   "cell_type": "code",
   "execution_count": null,
   "metadata": {},
   "outputs": [],
   "source": [
    "b"
   ]
  },
  {
   "cell_type": "code",
   "execution_count": null,
   "metadata": {},
   "outputs": [],
   "source": []
  },
  {
   "cell_type": "code",
   "execution_count": null,
   "metadata": {},
   "outputs": [],
   "source": []
  },
  {
   "cell_type": "code",
   "execution_count": null,
   "metadata": {},
   "outputs": [],
   "source": []
  },
  {
   "cell_type": "markdown",
   "metadata": {},
   "source": [
    "## Parametric Study\n",
    "\n",
    "Let's see the parameters affecting the lateral stiffness of a cantilever member with free end.\n",
    "\n",
    "<img src= \"./images/week04-task01-lateral-stiffness-TASK03.png\" width=\"30%\">\n",
    "\n",
    "Let's take two cases: \n",
    "\n",
    "1- Varying \"b\"\n",
    "\n",
    "2- Varying \"h\""
   ]
  },
  {
   "cell_type": "markdown",
   "metadata": {},
   "source": [
    "### Case 1- Varying \"b\""
   ]
  },
  {
   "cell_type": "code",
   "execution_count": null,
   "metadata": {},
   "outputs": [],
   "source": []
  },
  {
   "cell_type": "code",
   "execution_count": null,
   "metadata": {},
   "outputs": [],
   "source": []
  },
  {
   "cell_type": "code",
   "execution_count": null,
   "metadata": {},
   "outputs": [],
   "source": []
  },
  {
   "cell_type": "code",
   "execution_count": null,
   "metadata": {},
   "outputs": [],
   "source": []
  },
  {
   "cell_type": "code",
   "execution_count": null,
   "metadata": {},
   "outputs": [],
   "source": []
  },
  {
   "cell_type": "markdown",
   "metadata": {},
   "source": [
    "### Case 2- Varying \"h\""
   ]
  },
  {
   "cell_type": "code",
   "execution_count": null,
   "metadata": {},
   "outputs": [],
   "source": []
  },
  {
   "cell_type": "code",
   "execution_count": null,
   "metadata": {},
   "outputs": [],
   "source": []
  },
  {
   "cell_type": "code",
   "execution_count": null,
   "metadata": {},
   "outputs": [],
   "source": []
  },
  {
   "cell_type": "code",
   "execution_count": null,
   "metadata": {},
   "outputs": [],
   "source": []
  },
  {
   "cell_type": "code",
   "execution_count": null,
   "metadata": {},
   "outputs": [],
   "source": []
  },
  {
   "cell_type": "markdown",
   "metadata": {},
   "source": [
    "## Optimal Solution for Top Drift\n",
    "\n",
    "<img src=\"./images/week04-task01-SDOF-drift.png\" width=\"30%\" >\n",
    "\n",
    "For the given ranges of section geometry, calculate the most optimum geometry if the lateral drift is limited **1%** with **0.1%** tolerance. "
   ]
  },
  {
   "cell_type": "code",
   "execution_count": null,
   "metadata": {},
   "outputs": [],
   "source": []
  },
  {
   "cell_type": "code",
   "execution_count": null,
   "metadata": {},
   "outputs": [],
   "source": []
  },
  {
   "cell_type": "code",
   "execution_count": null,
   "metadata": {},
   "outputs": [],
   "source": []
  },
  {
   "cell_type": "code",
   "execution_count": null,
   "metadata": {},
   "outputs": [],
   "source": []
  },
  {
   "cell_type": "markdown",
   "metadata": {},
   "source": [
    "---\n",
    "\n",
    "**NEXT WEEK**\n",
    "\n",
    "<table >\n",
    "<tr>\n",
    "<td>\n",
    "<img src=\"http://worshiphousemedia.s3.amazonaws.com/images/main/s/st/bnt/st/seeyounextweek1.jpg\" width=\"50%\" >\n",
    "</td>\n",
    "<td align=\"left\">\n",
    "The topics for the next week \n",
    "<br><br>\n",
    "\n",
    "1- Assignment #1 : Tonight 8pm\n",
    "<br><br>\n",
    "2- \"Truss Element & System - Stifness Matrix\"\n",
    "<br>\n",
    "</td>\n",
    "</tr>\n",
    "</table>"
   ]
  },
  {
   "cell_type": "code",
   "execution_count": null,
   "metadata": {},
   "outputs": [],
   "source": []
  }
 ],
 "metadata": {
  "anaconda-cloud": {},
  "celltoolbar": "Slideshow",
  "kernelspec": {
   "display_name": "Python 3",
   "language": "python",
   "name": "python3"
  },
  "language_info": {
   "codemirror_mode": {
    "name": "ipython",
    "version": 3
   },
   "file_extension": ".py",
   "mimetype": "text/x-python",
   "name": "python",
   "nbconvert_exporter": "python",
   "pygments_lexer": "ipython3",
   "version": "3.8.1"
  }
 },
 "nbformat": 4,
 "nbformat_minor": 4
}
