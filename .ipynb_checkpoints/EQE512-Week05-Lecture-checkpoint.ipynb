{
 "cells": [
  {
   "cell_type": "markdown",
   "metadata": {
    "slideshow": {
     "slide_type": "slide"
    }
   },
   "source": [
    "<h1 align=\"center\">EQE512 MATRIX METHODS IN STRUCTURAL ANALYSIS \n",
    "<br>\n",
    "<br>\n",
    "Week 05\n",
    "<br>\n",
    "<br>\n",
    "Beam member w/ span load & Column member</h1> \n",
    "\n",
    "<h3 align=\"center\">Dr. Ahmet Anıl Dindar (adindar@gtu.edu.tr)</h3> \n",
    "<h4 align=\"center\">2021 Fall  </h4> "
   ]
  },
  {
   "cell_type": "markdown",
   "metadata": {},
   "source": [
    "---\n",
    "**Today's Topics**\n",
    "\n",
    "1- Beam system stiffness matrix\n",
    "\n",
    "2- Beam member with span load\n",
    "\n",
    "3- Column member stiffness matrix"
   ]
  },
  {
   "cell_type": "code",
   "execution_count": null,
   "metadata": {},
   "outputs": [],
   "source": [
    "import numpy as np"
   ]
  },
  {
   "cell_type": "markdown",
   "metadata": {},
   "source": [
    "## Beam System Stiffness Matrix"
   ]
  },
  {
   "cell_type": "code",
   "execution_count": 42,
   "metadata": {},
   "outputs": [],
   "source": [
    "########### PLEASE FILL THE MATRIX GIVEN BELOW IN YOUR MIDTERM EXAM ###########\n",
    "def beam_stiffness_matrix( member_props ):\n",
    "    \"\"\"\n",
    "    member_props\n",
    "    \n",
    "    Example: \n",
    "    member_1 = {\"E\":30_000 ,  \"I\" : 26E-4 * 1.E12 ,  \n",
    "                \"jointI\": joint_nodes[1] , \n",
    "                \"jointJ\": joint_nodes[2]}\n",
    "                \n",
    "    Returns    \n",
    "    k: Member Stiffness matrix\n",
    "    \"\"\"\n",
    "    \n",
    "    import numpy as np\n",
    "    E = member_props[\"E\"]\n",
    "    I = member_props[\"I\"]\n",
    "    \n",
    "    # Length of the member\n",
    "    delta_1 = member_props[\"jointJ\"][0] - member_props[\"jointI\"][0] \n",
    "    delta_2 = member_props[\"jointJ\"][1] - member_props[\"jointI\"][1] \n",
    "    L = (delta_1**2 + delta_2**2)**.5\n",
    "    print( L )\n",
    "    \n",
    "    # Let's denote some terms\n",
    "    twelveEIL3 = 12*E*I/(L**3)\n",
    "    sixEIL2 = 6 * E * I / (L**2)\n",
    "    fourEIL = 4 * E * I / (L)\n",
    "    twoEIL =  2* E * I / (L)\n",
    "    \n",
    "    # Finally, the member stiffness matrix\n",
    "    K = np.array( [[ twelveEIL3 , sixEIL2 , -1* twelveEIL3 , sixEIL2],\n",
    "                  [sixEIL2 , fourEIL , -1* sixEIL2 , twoEIL],\n",
    "                  [-1* twelveEIL3 , -1 * sixEIL2 , twelveEIL3, -1*sixEIL2],\n",
    "                  [sixEIL2 , twoEIL , -1*sixEIL2 , fourEIL]])\n",
    "                  \n",
    "    return( K )\n"
   ]
  },
  {
   "cell_type": "markdown",
   "metadata": {},
   "source": [
    "### Let's demonstrate"
   ]
  },
  {
   "cell_type": "markdown",
   "metadata": {},
   "source": [
    "<img src=\"figures/beam_example_01.png\" width=\"80%\">"
   ]
  },
  {
   "cell_type": "code",
   "execution_count": 51,
   "metadata": {
    "tags": []
   },
   "outputs": [
    {
     "data": {
      "text/plain": [
       "{1: {'E': 30000000, 'I': 0.0026041667, 'jointI': [0, 0], 'jointJ': [0, 1]},\n",
       " 2: {'E': 30000000, 'I': 0.0026041667, 'jointI': [0, 1], 'jointJ': [0, 2]}}"
      ]
     },
     "execution_count": 51,
     "metadata": {},
     "output_type": "execute_result"
    }
   ],
   "source": [
    "DOF = 2\n",
    "\n",
    "joint_nodes = {1:[0,0] , 2:[0,1], 3:[0, 2]}\n",
    "\n",
    "member_nodes= {1:[1,2] , 2:[2,3]}\n",
    "\n",
    "member_1 = {\"E\":30_000_000 ,  \"I\" : round((.250 * .500**3 )/12 ,10) ,  \n",
    "                \"jointI\": joint_nodes[1] , \n",
    "                \"jointJ\": joint_nodes[2]}\n",
    "\n",
    "member_2 = {\"E\":30_000_000 ,  \"I\" : round((.250*.500**3)/12 ,10) ,  \n",
    "                \"jointI\": joint_nodes[2] , \n",
    "                \"jointJ\": joint_nodes[3]}\n",
    "\n",
    "member_props = {}\n",
    "\n",
    "for member_no , member_property in zip( member_nodes.keys() , [member_1 ,  member_2] ):\n",
    "    \n",
    "    member_props[ member_no ] = member_property   \n",
    "    \n",
    "member_props"
   ]
  },
  {
   "cell_type": "code",
   "execution_count": 52,
   "metadata": {
    "tags": []
   },
   "outputs": [
    {
     "name": "stdout",
     "output_type": "stream",
     "text": [
      "1\n",
      "1.0\n",
      "==================================================================================================== \n",
      " [[ 937500.012  468750.006 -937500.012  468750.006]\n",
      " [ 468750.006  312500.004 -468750.006  156250.002]\n",
      " [-937500.012 -468750.006  937500.012 -468750.006]\n",
      " [ 468750.006  156250.002 -468750.006  312500.004]]\n",
      "2\n",
      "1.0\n",
      "==================================================================================================== \n",
      " [[ 937500.012  468750.006 -937500.012  468750.006]\n",
      " [ 468750.006  312500.004 -468750.006  156250.002]\n",
      " [-937500.012 -468750.006  937500.012 -468750.006]\n",
      " [ 468750.006  156250.002 -468750.006  312500.004]]\n",
      "~~~~~~~~~~~~~~~~~~~~~~~~~~~~~~~~~~~~~~~~~~~~~~~~~~~~~~~~~~~~~~~~~~~~~~~~~~~~~~~~~~~~~~~~~~~~~~~~~~~~\n"
     ]
    }
   ],
   "source": [
    "k_members = {}\n",
    "\n",
    "for member_no , member_property in member_props.items() : \n",
    "    print( member_no)\n",
    "    k_members[member_no] =  beam_stiffness_matrix(member_property  )\n",
    "    \n",
    "    print( \"=\"*100 , \"\\n\" , k_members[member_no])\n",
    "    \n",
    "print( \"~\"*100)    \n"
   ]
  },
  {
   "cell_type": "markdown",
   "metadata": {},
   "source": [
    "**Let's compile the system stiffness matrix**"
   ]
  },
  {
   "cell_type": "code",
   "execution_count": 147,
   "metadata": {
    "tags": []
   },
   "outputs": [
    {
     "name": "stdout",
     "output_type": "stream",
     "text": [
      "K= [[0 0 0 0 0 0]\n",
      " [0 0 0 0 0 0]\n",
      " [0 0 0 0 0 0]\n",
      " [0 0 0 0 0 0]\n",
      " [0 0 0 0 0 0]\n",
      " [0 0 0 0 0 0]] \n",
      "====================================================================================================\n",
      "~~~~~~~~~~~~~~~~~~~~~~~~~~~~~~~~~~~~~~~~~~~~~~~~~~~~~~~~~~~~~~~~~~~~~~~~~~~~~~~~~~~~~~~~~~~~~~~~~~~~ \n",
      "1 member \n",
      " [[ 937500.012  468750.006 -937500.012  468750.006]\n",
      " [ 468750.006  312500.004 -468750.006  156250.002]\n",
      " [-937500.012 -468750.006  937500.012 -468750.006]\n",
      " [ 468750.006  156250.002 -468750.006  312500.004]] \n",
      "====================================================================================================\n",
      "1 1 \n",
      "====================================================================================================\n",
      "[[937500.012 468750.006]\n",
      " [468750.006 312500.004]] \n",
      "====================================================================================================\n",
      "[[0 0]\n",
      " [0 0]] =\n",
      " [[0 0]\n",
      " [0 0]] +\n",
      " [[937500.012 468750.006]\n",
      " [468750.006 312500.004]] \n",
      "____________________________________________________________________________________________________\n",
      "[[937500 468750      0      0      0      0]\n",
      " [468750 312500      0      0      0      0]\n",
      " [     0      0      0      0      0      0]\n",
      " [     0      0      0      0      0      0]\n",
      " [     0      0      0      0      0      0]\n",
      " [     0      0      0      0      0      0]] \n",
      "~~~~~~~~~~~~~~~~~~~~~~~~~~~~~~~~~~~~~~~~~~~~~~~~~~~~~~~~~~~~~~~~~~~~~~~~~~~~~~~~~~~~~~~~~~~~~~~~~~~~\n",
      "1 2 \n",
      "====================================================================================================\n",
      "[[-937500.012  468750.006]\n",
      " [-468750.006  156250.002]] \n",
      "====================================================================================================\n",
      "[[0 0]\n",
      " [0 0]] =\n",
      " [[0 0]\n",
      " [0 0]] +\n",
      " [[-937500.012  468750.006]\n",
      " [-468750.006  156250.002]] \n",
      "____________________________________________________________________________________________________\n",
      "[[ 937500  468750 -937500  468750       0       0]\n",
      " [ 468750  312500 -468750  156250       0       0]\n",
      " [      0       0       0       0       0       0]\n",
      " [      0       0       0       0       0       0]\n",
      " [      0       0       0       0       0       0]\n",
      " [      0       0       0       0       0       0]] \n",
      "~~~~~~~~~~~~~~~~~~~~~~~~~~~~~~~~~~~~~~~~~~~~~~~~~~~~~~~~~~~~~~~~~~~~~~~~~~~~~~~~~~~~~~~~~~~~~~~~~~~~\n",
      "2 1 \n",
      "====================================================================================================\n",
      "[[-937500.012 -468750.006]\n",
      " [ 468750.006  156250.002]] \n",
      "====================================================================================================\n",
      "[[0 0]\n",
      " [0 0]] =\n",
      " [[0 0]\n",
      " [0 0]] +\n",
      " [[-937500.012 -468750.006]\n",
      " [ 468750.006  156250.002]] \n",
      "____________________________________________________________________________________________________\n",
      "[[ 937500  468750 -937500  468750       0       0]\n",
      " [ 468750  312500 -468750  156250       0       0]\n",
      " [-937500 -468750       0       0       0       0]\n",
      " [ 468750  156250       0       0       0       0]\n",
      " [      0       0       0       0       0       0]\n",
      " [      0       0       0       0       0       0]] \n",
      "~~~~~~~~~~~~~~~~~~~~~~~~~~~~~~~~~~~~~~~~~~~~~~~~~~~~~~~~~~~~~~~~~~~~~~~~~~~~~~~~~~~~~~~~~~~~~~~~~~~~\n",
      "2 2 \n",
      "====================================================================================================\n",
      "[[ 937500.012 -468750.006]\n",
      " [-468750.006  312500.004]] \n",
      "====================================================================================================\n",
      "[[0 0]\n",
      " [0 0]] =\n",
      " [[0 0]\n",
      " [0 0]] +\n",
      " [[ 937500.012 -468750.006]\n",
      " [-468750.006  312500.004]] \n",
      "____________________________________________________________________________________________________\n",
      "[[ 937500  468750 -937500  468750       0       0]\n",
      " [ 468750  312500 -468750  156250       0       0]\n",
      " [-937500 -468750  937500 -468750       0       0]\n",
      " [ 468750  156250 -468750  312500       0       0]\n",
      " [      0       0       0       0       0       0]\n",
      " [      0       0       0       0       0       0]] \n",
      "~~~~~~~~~~~~~~~~~~~~~~~~~~~~~~~~~~~~~~~~~~~~~~~~~~~~~~~~~~~~~~~~~~~~~~~~~~~~~~~~~~~~~~~~~~~~~~~~~~~~\n",
      "~~~~~~~~~~~~~~~~~~~~~~~~~~~~~~~~~~~~~~~~~~~~~~~~~~~~~~~~~~~~~~~~~~~~~~~~~~~~~~~~~~~~~~~~~~~~~~~~~~~~ \n",
      "2 member \n",
      " [[ 937500.012  468750.006 -937500.012  468750.006]\n",
      " [ 468750.006  312500.004 -468750.006  156250.002]\n",
      " [-937500.012 -468750.006  937500.012 -468750.006]\n",
      " [ 468750.006  156250.002 -468750.006  312500.004]] \n",
      "====================================================================================================\n",
      "2 2 \n",
      "====================================================================================================\n",
      "[[937500.012 468750.006]\n",
      " [468750.006 312500.004]] \n",
      "====================================================================================================\n",
      "[[ 937500 -468750]\n",
      " [-468750  312500]] =\n",
      " [[ 937500 -468750]\n",
      " [-468750  312500]] +\n",
      " [[937500.012 468750.006]\n",
      " [468750.006 312500.004]] \n",
      "____________________________________________________________________________________________________\n",
      "[[ 937500  468750 -937500  468750       0       0]\n",
      " [ 468750  312500 -468750  156250       0       0]\n",
      " [-937500 -468750 1875000       0       0       0]\n",
      " [ 468750  156250       0  625000       0       0]\n",
      " [      0       0       0       0       0       0]\n",
      " [      0       0       0       0       0       0]] \n",
      "~~~~~~~~~~~~~~~~~~~~~~~~~~~~~~~~~~~~~~~~~~~~~~~~~~~~~~~~~~~~~~~~~~~~~~~~~~~~~~~~~~~~~~~~~~~~~~~~~~~~\n",
      "2 3 \n",
      "====================================================================================================\n",
      "[[-937500.012  468750.006]\n",
      " [-468750.006  156250.002]] \n",
      "====================================================================================================\n",
      "[[0 0]\n",
      " [0 0]] =\n",
      " [[0 0]\n",
      " [0 0]] +\n",
      " [[-937500.012  468750.006]\n",
      " [-468750.006  156250.002]] \n",
      "____________________________________________________________________________________________________\n",
      "[[ 937500  468750 -937500  468750       0       0]\n",
      " [ 468750  312500 -468750  156250       0       0]\n",
      " [-937500 -468750 1875000       0 -937500  468750]\n",
      " [ 468750  156250       0  625000 -468750  156250]\n",
      " [      0       0       0       0       0       0]\n",
      " [      0       0       0       0       0       0]] \n",
      "~~~~~~~~~~~~~~~~~~~~~~~~~~~~~~~~~~~~~~~~~~~~~~~~~~~~~~~~~~~~~~~~~~~~~~~~~~~~~~~~~~~~~~~~~~~~~~~~~~~~\n",
      "3 2 \n",
      "====================================================================================================\n",
      "[[-937500.012 -468750.006]\n",
      " [ 468750.006  156250.002]] \n",
      "====================================================================================================\n",
      "[[0 0]\n",
      " [0 0]] =\n",
      " [[0 0]\n",
      " [0 0]] +\n",
      " [[-937500.012 -468750.006]\n",
      " [ 468750.006  156250.002]] \n",
      "____________________________________________________________________________________________________\n",
      "[[ 937500  468750 -937500  468750       0       0]\n",
      " [ 468750  312500 -468750  156250       0       0]\n",
      " [-937500 -468750 1875000       0 -937500  468750]\n",
      " [ 468750  156250       0  625000 -468750  156250]\n",
      " [      0       0 -937500 -468750       0       0]\n",
      " [      0       0  468750  156250       0       0]] \n",
      "~~~~~~~~~~~~~~~~~~~~~~~~~~~~~~~~~~~~~~~~~~~~~~~~~~~~~~~~~~~~~~~~~~~~~~~~~~~~~~~~~~~~~~~~~~~~~~~~~~~~\n",
      "3 3 \n",
      "====================================================================================================\n",
      "[[ 937500.012 -468750.006]\n",
      " [-468750.006  312500.004]] \n",
      "====================================================================================================\n",
      "[[0 0]\n",
      " [0 0]] =\n",
      " [[0 0]\n",
      " [0 0]] +\n",
      " [[ 937500.012 -468750.006]\n",
      " [-468750.006  312500.004]] \n",
      "____________________________________________________________________________________________________\n",
      "[[ 937500  468750 -937500  468750       0       0]\n",
      " [ 468750  312500 -468750  156250       0       0]\n",
      " [-937500 -468750 1875000       0 -937500  468750]\n",
      " [ 468750  156250       0  625000 -468750  156250]\n",
      " [      0       0 -937500 -468750  937500 -468750]\n",
      " [      0       0  468750  156250 -468750  312500]] \n",
      "~~~~~~~~~~~~~~~~~~~~~~~~~~~~~~~~~~~~~~~~~~~~~~~~~~~~~~~~~~~~~~~~~~~~~~~~~~~~~~~~~~~~~~~~~~~~~~~~~~~~\n"
     ]
    }
   ],
   "source": [
    "K = np.zeros( (len(joint_nodes) * DOF , len(joint_nodes) * DOF) , dtype=int)\n",
    "\n",
    "print(\"K=\", K,\"\\n\"+\"=\"*100)\n",
    "\n",
    "for beam_no , beam_node in member_nodes.items() :     \n",
    "    \n",
    "    k_temp = k_members[ beam_no]\n",
    "    \n",
    "    print( \"~\"*100 , f\"\\n{beam_no} member\",\"\\n\" , k_temp ,\"\\n\"+\"=\"*100)\n",
    "    \n",
    "    for counter_i , i in enumerate( beam_node ): \n",
    "        \n",
    "        for counter_j , j in enumerate(beam_node) :\n",
    "            \n",
    "            print( i, j,\"\\n\"+\"=\"*100)\n",
    "            \n",
    "            add_k = k_temp[ counter_i * DOF  : counter_i * DOF + DOF  , counter_j * DOF  : counter_j * DOF + DOF  ] \n",
    "            \n",
    "            print(  add_k , \"\\n\"+\"=\"*100)\n",
    "            \n",
    "            if i == 1 and j == 1 : \n",
    "                print(K[ 0  : DOF  , 0  : DOF] ,\"=\\n\", K[ 0  : DOF  , 0  : DOF ] ,\"+\\n\", add_k ,\"\\n\"+\"_\"*100)\n",
    "                \n",
    "                K[ 0  : DOF  , 0  : DOF] = K[ 0  : DOF  , 0  : DOF ] + add_k\n",
    "                \n",
    "            else:\n",
    "                \n",
    "                print( K[ i * DOF - DOF  : i * DOF   , j * DOF - DOF : j * DOF  ] ,\"=\\n\" ,K[ i * DOF - DOF  : i * DOF  , j * DOF - DOF : j * DOF  ]  ,\"+\\n\" , add_k,\"\\n\"+\"_\"*100)\n",
    "                \n",
    "                K[ i * DOF - DOF  : i * DOF   , j * DOF - DOF : j * DOF  ] = K[ i * DOF - DOF  : i * DOF  , j * DOF - DOF : j * DOF  ] + add_k                             \n",
    "            print( K ,\"\\n\"+\"~\"*100 )    "
   ]
  },
  {
   "cell_type": "markdown",
   "metadata": {},
   "source": [
    "---\n",
    "\n",
    "<img src=\"figures/beam_example_01.png\" width=\"50%\">\n",
    "\n",
    "<img src=\"figures/beam_example_02.png\" width=\"80%\">"
   ]
  },
  {
   "cell_type": "code",
   "execution_count": 63,
   "metadata": {
    "tags": []
   },
   "outputs": [
    {
     "data": {
      "text/plain": [
       "array([[ 937500,  468750, -937500,  468750,       0,       0],\n",
       "       [ 468750,  312500, -468750,  156250,       0,       0],\n",
       "       [-937500, -468750, 1875000,       0, -937500,  468750],\n",
       "       [ 468750,  156250,       0,  625000, -468750,  156250],\n",
       "       [      0,       0, -937500, -468750,  937500, -468750],\n",
       "       [      0,       0,  468750,  156250, -468750,  312500]])"
      ]
     },
     "execution_count": 63,
     "metadata": {},
     "output_type": "execute_result"
    }
   ],
   "source": [
    "K"
   ]
  },
  {
   "cell_type": "markdown",
   "metadata": {},
   "source": [
    "Displacement Vector\n",
    "\n",
    "U=[u1 , u2, u3, u4 , u5 , u6]"
   ]
  },
  {
   "cell_type": "code",
   "execution_count": 64,
   "metadata": {},
   "outputs": [],
   "source": [
    "u1 , u2, u5 , u6 = 0 , 0 , 0 , 0 "
   ]
  },
  {
   "cell_type": "code",
   "execution_count": null,
   "metadata": {},
   "outputs": [],
   "source": [
    "# U = np.array( [ 0 , 0 , ? , ? , 0,0])"
   ]
  },
  {
   "cell_type": "code",
   "execution_count": 99,
   "metadata": {},
   "outputs": [],
   "source": [
    "U_factor = np.array( [ 0 , 0 , 1 , 1 , 0,0])"
   ]
  },
  {
   "cell_type": "markdown",
   "metadata": {},
   "source": [
    "Loading vector\n",
    "\n",
    "P=[P1 , P2, P3, P4 , P5 , P6]"
   ]
  },
  {
   "cell_type": "code",
   "execution_count": 69,
   "metadata": {},
   "outputs": [],
   "source": [
    "P3   , P4 = -100 , 0 "
   ]
  },
  {
   "cell_type": "code",
   "execution_count": null,
   "metadata": {},
   "outputs": [],
   "source": [
    "# P = np.array( [ ? , ? , -100 , 0 , ? , ?])"
   ]
  },
  {
   "cell_type": "code",
   "execution_count": 113,
   "metadata": {},
   "outputs": [],
   "source": [
    "P_factor = np.array( [ 0 , 0 , 1, 1 , 0 , 0])"
   ]
  },
  {
   "cell_type": "markdown",
   "metadata": {},
   "source": [
    "Apply the boundary condition\n",
    "\n",
    "$$ P = K \\times U $$\n",
    "\n",
    "$$ K \\times U = P$$"
   ]
  },
  {
   "cell_type": "markdown",
   "metadata": {},
   "source": [
    "$$ K^{(-1)} \\times K \\times U = K^{(-1)} \\times  P$$"
   ]
  },
  {
   "cell_type": "markdown",
   "metadata": {},
   "source": [
    "$$ [K^{(-1)} \\times K = 1 ] \\times U = K^{(-1)} \\times  P$$"
   ]
  },
  {
   "cell_type": "markdown",
   "metadata": {},
   "source": [
    "Apply the BC to the equilibrium equation $ K \\times U = P $\n",
    "\n",
    "\n",
    "\n",
    "U=[u1 , u2, u3, u4 , u5 , u6]\n",
    "\n",
    "P=[P1 , P2, P3, P4 , P5 , P6]"
   ]
  },
  {
   "cell_type": "code",
   "execution_count": 123,
   "metadata": {
    "collapsed": true,
    "jupyter": {
     "outputs_hidden": true
    },
    "tags": []
   },
   "outputs": [
    {
     "data": {
      "text/plain": [
       "array([[ 937500,  468750, -937500,  468750,       0,       0],\n",
       "       [ 468750,  312500, -468750,  156250,       0,       0],\n",
       "       [-937500, -468750, 1875000,       0, -937500,  468750],\n",
       "       [ 468750,  156250,       0,  625000, -468750,  156250],\n",
       "       [      0,       0, -937500, -468750,  937500, -468750],\n",
       "       [      0,       0,  468750,  156250, -468750,  312500]])"
      ]
     },
     "execution_count": 123,
     "metadata": {},
     "output_type": "execute_result"
    }
   ],
   "source": [
    "K"
   ]
  },
  {
   "cell_type": "markdown",
   "metadata": {},
   "source": [
    "$$\\begin{bmatrix} 937500 &  468750 & -937500 &  468750 &       0 &       \\\\\n",
    " 468750 &  312500 & -468750 &  156250 &       0 &       \\\\\n",
    "-937500 & -468750 & 1875000 &       0 & -937500 &  46875\\\\\n",
    " 468750 &  156250 &       0 &  625000 & -468750 &  15625\\\\\n",
    "      0 &       0 & -937500 & -468750 &  937500 & -46875\\\\\n",
    "      0 &       0 &  468750 &  156250 & -468750 &  31250\\end{bmatrix} \\times \\begin{bmatrix} u1=0 \\\\ u2=0\\\\ u3\\\\ u4 \\\\ u5=0 \\\\ u6=0 \\end{bmatrix} = \\begin{bmatrix} P1 \\\\ P2\\\\ P3=-100\\\\ P4=0 \\\\ P5 \\\\ P6 \\end{bmatrix}$$"
   ]
  },
  {
   "cell_type": "markdown",
   "metadata": {},
   "source": [
    "---\n",
    "\n",
    "**Method 1 - Manuel-Calculation**"
   ]
  },
  {
   "cell_type": "code",
   "execution_count": 134,
   "metadata": {},
   "outputs": [
    {
     "data": {
      "text/plain": [
       "array([[1875000,       0],\n",
       "       [      0,  625000]])"
      ]
     },
     "execution_count": 134,
     "metadata": {},
     "output_type": "execute_result"
    }
   ],
   "source": [
    "K_bc = np.array([[1875000 , 0],[0,625000]])\n",
    "K_bc"
   ]
  },
  {
   "cell_type": "markdown",
   "metadata": {},
   "source": [
    "U_bc = [ u3 , u4]"
   ]
  },
  {
   "cell_type": "code",
   "execution_count": 135,
   "metadata": {},
   "outputs": [
    {
     "data": {
      "text/plain": [
       "array([[-100],\n",
       "       [   0]])"
      ]
     },
     "execution_count": 135,
     "metadata": {},
     "output_type": "execute_result"
    }
   ],
   "source": [
    "P_bc = np.array([[-100],[0]])\n",
    "P_bc"
   ]
  },
  {
   "cell_type": "code",
   "execution_count": 136,
   "metadata": {},
   "outputs": [],
   "source": [
    "U_bc = np.matmul( np.linalg.inv( K_bc)  , P_bc ) "
   ]
  },
  {
   "cell_type": "code",
   "execution_count": 137,
   "metadata": {},
   "outputs": [
    {
     "data": {
      "text/plain": [
       "array([[-5.33333333e-05],\n",
       "       [ 0.00000000e+00]])"
      ]
     },
     "execution_count": 137,
     "metadata": {},
     "output_type": "execute_result"
    }
   ],
   "source": [
    "U_bc"
   ]
  },
  {
   "cell_type": "markdown",
   "metadata": {},
   "source": [
    "---\n",
    "**Method 2: Algorithm-Calculation**\n",
    "\n",
    "Can we do it (Applying BC to the equilibrium equation) using algorithm?"
   ]
  },
  {
   "cell_type": "code",
   "execution_count": 138,
   "metadata": {},
   "outputs": [],
   "source": [
    "P_factor = np.array( [ 0 , 0 , 1, 1 , 0 , 0])"
   ]
  },
  {
   "cell_type": "code",
   "execution_count": 139,
   "metadata": {},
   "outputs": [],
   "source": [
    "U_factor = np.array( [ 0 , 0 , 1 , 1 , 0,0])"
   ]
  },
  {
   "cell_type": "code",
   "execution_count": 140,
   "metadata": {
    "tags": []
   },
   "outputs": [
    {
     "data": {
      "text/plain": [
       "array([[      1,       0,       0,       0,       0,       0],\n",
       "       [      0,       1,       0,       0,       0,       0],\n",
       "       [      0,       0, 1875000,       0,       0,       0],\n",
       "       [      0,       0,       0,  625000,       0,       0],\n",
       "       [      0,       0,       0,       0,       1,       0],\n",
       "       [      0,       0,       0,       0,       0,       1]])"
      ]
     },
     "execution_count": 140,
     "metadata": {},
     "output_type": "execute_result"
    }
   ],
   "source": [
    "K_bc = K\n",
    "for count_i , i in enumerate( U_factor ):\n",
    "    for count_j , j in enumerate( P_factor):\n",
    "        if i == 0 or j == 0:\n",
    "            K_bc[count_i][count_j] = 0\n",
    "            if count_i == count_j : \n",
    "                K_bc[count_i][count_j] = 1\n",
    "            \n",
    "        else: \n",
    "            K_bc[count_i][count_j] = K_bc[count_i][count_j]\n",
    "        \n",
    "K_bc"
   ]
  },
  {
   "cell_type": "code",
   "execution_count": 141,
   "metadata": {
    "tags": []
   },
   "outputs": [
    {
     "data": {
      "text/plain": [
       "array([[      1,       0,       0,       0,       0,       0],\n",
       "       [      0,       1,       0,       0,       0,       0],\n",
       "       [      0,       0, 1875000,       0,       0,       0],\n",
       "       [      0,       0,       0,  625000,       0,       0],\n",
       "       [      0,       0,       0,       0,       1,       0],\n",
       "       [      0,       0,       0,       0,       0,       1]])"
      ]
     },
     "execution_count": 141,
     "metadata": {},
     "output_type": "execute_result"
    }
   ],
   "source": [
    "K_bc"
   ]
  },
  {
   "cell_type": "code",
   "execution_count": 142,
   "metadata": {},
   "outputs": [
    {
     "data": {
      "text/plain": [
       "array([[ 1.00000000e+00,  0.00000000e+00,  0.00000000e+00,\n",
       "         0.00000000e+00,  0.00000000e+00,  0.00000000e+00],\n",
       "       [ 0.00000000e+00,  1.00000000e+00,  0.00000000e+00,\n",
       "         0.00000000e+00,  0.00000000e+00,  0.00000000e+00],\n",
       "       [ 0.00000000e+00,  0.00000000e+00,  5.33333333e-07,\n",
       "         0.00000000e+00,  0.00000000e+00,  0.00000000e+00],\n",
       "       [-0.00000000e+00, -0.00000000e+00, -0.00000000e+00,\n",
       "         1.60000000e-06, -0.00000000e+00, -0.00000000e+00],\n",
       "       [ 0.00000000e+00,  0.00000000e+00,  0.00000000e+00,\n",
       "         0.00000000e+00,  1.00000000e+00,  0.00000000e+00],\n",
       "       [ 0.00000000e+00,  0.00000000e+00,  0.00000000e+00,\n",
       "         0.00000000e+00,  0.00000000e+00,  1.00000000e+00]])"
      ]
     },
     "execution_count": 142,
     "metadata": {},
     "output_type": "execute_result"
    }
   ],
   "source": [
    "np.linalg.inv( K_bc )"
   ]
  },
  {
   "cell_type": "code",
   "execution_count": 143,
   "metadata": {},
   "outputs": [],
   "source": [
    "U = np.matmul( np.linalg.inv( K_bc ) , np.array([[0],[0],[-100],[0],[0],[0]]) ) "
   ]
  },
  {
   "cell_type": "code",
   "execution_count": 144,
   "metadata": {},
   "outputs": [
    {
     "data": {
      "text/plain": [
       "array([[ 0.00000000e+00],\n",
       "       [ 0.00000000e+00],\n",
       "       [-5.33333333e-05],\n",
       "       [ 0.00000000e+00],\n",
       "       [ 0.00000000e+00],\n",
       "       [ 0.00000000e+00]])"
      ]
     },
     "execution_count": 144,
     "metadata": {},
     "output_type": "execute_result"
    }
   ],
   "source": [
    "U"
   ]
  },
  {
   "cell_type": "markdown",
   "metadata": {},
   "source": [
    "**Obtain the Load Vector**"
   ]
  },
  {
   "cell_type": "code",
   "execution_count": 148,
   "metadata": {},
   "outputs": [
    {
     "data": {
      "text/plain": [
       "array([[ 937500,  468750, -937500,  468750,       0,       0],\n",
       "       [ 468750,  312500, -468750,  156250,       0,       0],\n",
       "       [-937500, -468750, 1875000,       0, -937500,  468750],\n",
       "       [ 468750,  156250,       0,  625000, -468750,  156250],\n",
       "       [      0,       0, -937500, -468750,  937500, -468750],\n",
       "       [      0,       0,  468750,  156250, -468750,  312500]])"
      ]
     },
     "execution_count": 148,
     "metadata": {},
     "output_type": "execute_result"
    }
   ],
   "source": [
    "K"
   ]
  },
  {
   "cell_type": "code",
   "execution_count": 149,
   "metadata": {},
   "outputs": [
    {
     "data": {
      "text/plain": [
       "array([[  50.],\n",
       "       [  25.],\n",
       "       [-100.],\n",
       "       [   0.],\n",
       "       [  50.],\n",
       "       [ -25.]])"
      ]
     },
     "execution_count": 149,
     "metadata": {},
     "output_type": "execute_result"
    }
   ],
   "source": [
    "P = np.matmul( K ,  U)\n",
    "\n",
    "P"
   ]
  },
  {
   "cell_type": "code",
   "execution_count": null,
   "metadata": {},
   "outputs": [],
   "source": []
  },
  {
   "cell_type": "code",
   "execution_count": null,
   "metadata": {},
   "outputs": [],
   "source": []
  },
  {
   "cell_type": "code",
   "execution_count": null,
   "metadata": {},
   "outputs": [],
   "source": []
  },
  {
   "cell_type": "code",
   "execution_count": null,
   "metadata": {},
   "outputs": [],
   "source": []
  },
  {
   "cell_type": "code",
   "execution_count": null,
   "metadata": {},
   "outputs": [],
   "source": []
  },
  {
   "cell_type": "code",
   "execution_count": null,
   "metadata": {},
   "outputs": [],
   "source": []
  },
  {
   "cell_type": "markdown",
   "metadata": {},
   "source": [
    "---\n",
    "# Beam member with span load \n",
    "\n",
    "<img src=\"figures/11-EQE512-Loads.PNG\"   style=\"width:60%\">"
   ]
  },
  {
   "cell_type": "markdown",
   "metadata": {
    "tags": []
   },
   "source": [
    "---\n",
    "## Unloaded\n",
    "\n",
    "_Similar to the Truss elements, the loads act on the nodes._\n"
   ]
  },
  {
   "cell_type": "markdown",
   "metadata": {
    "tags": []
   },
   "source": [
    "---\n",
    "## Loaded\n",
    "\n",
    "**Uniform Loading**\n",
    "\n",
    "<img src=\"./figures/10a-EQE512-BeamLoading-Uniform.png\" width=\"60%\">\n",
    "\n",
    "**Triangle Loading**\n",
    "\n",
    "<img src=\"./figures/10b-EQE512-BeamLoading-Triangle.png\" width=\"60%\">\n",
    "\n",
    "**Point Loading**\n",
    "\n",
    "<img src=\"./figures/10c-EQE512-BeamLoading-SingleLoad.png\" width=\"60%\">\n",
    "\n",
    "**Trapezoidal Loading**\n",
    "\n",
    "<img src=\"./figures/10d-EQE512-BeamLoading-Trapz.png\" width=\"60%\">"
   ]
  },
  {
   "cell_type": "markdown",
   "metadata": {},
   "source": [
    "**Solution :**\n",
    "\n",
    "1. Obtain the equivalent end forces\n",
    "2. Apply the obtained values in opposite directions at the nodes\n",
    "3. Ignore the span loads\n",
    "\n",
    "<img src=\"./figures/12-EQE512-Loads-Apply.PNG\"   style=\"width:70%\">\n"
   ]
  },
  {
   "cell_type": "markdown",
   "metadata": {},
   "source": [
    "Please consider writing the functions for each loading pattern in Python. "
   ]
  },
  {
   "cell_type": "markdown",
   "metadata": {},
   "source": [
    "---\n",
    "\n",
    "**NEXT WEEK**\n",
    "The topics for the next week \n",
    "\n",
    "- \"Frame Systems- Moment Resisting Frames with truss/tension members with truss/tension members\"\n",
    "\n",
    "\n",
    "<img src=\"http://worshiphousemedia.s3.amazonaws.com/images/main/s/st/bnt/st/seeyounextweek1.jpg\" width=\"30%\" >\n",
    "\n",
    "\n",
    "\n"
   ]
  },
  {
   "cell_type": "code",
   "execution_count": null,
   "metadata": {},
   "outputs": [],
   "source": []
  }
 ],
 "metadata": {
  "anaconda-cloud": {},
  "celltoolbar": "Slideshow",
  "kernelspec": {
   "display_name": "Python 3",
   "language": "python",
   "name": "python3"
  },
  "language_info": {
   "codemirror_mode": {
    "name": "ipython",
    "version": 3
   },
   "file_extension": ".py",
   "mimetype": "text/x-python",
   "name": "python",
   "nbconvert_exporter": "python",
   "pygments_lexer": "ipython3",
   "version": "3.8.1"
  },
  "toc-autonumbering": false
 },
 "nbformat": 4,
 "nbformat_minor": 4
}
