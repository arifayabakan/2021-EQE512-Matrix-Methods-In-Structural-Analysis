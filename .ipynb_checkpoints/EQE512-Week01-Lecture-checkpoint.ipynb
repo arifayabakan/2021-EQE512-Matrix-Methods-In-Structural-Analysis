{
 "cells": [
  {
   "cell_type": "markdown",
   "metadata": {
    "slideshow": {
     "slide_type": "slide"
    }
   },
   "source": [
    "<h1 align=\"center\">EQE512 MATRIX METHODS IN STRUCTURAL ANALYSIS \n",
    "<br>\n",
    "<br>\n",
    "Week 01\n",
    "<br>\n",
    "<br>\n",
    "Defining the solution methods in engineering calculations using matrices and development of algorithms</h1> \n",
    "\n",
    "<h3 align=\"center\">Dr. Ahmet Anıl Dindar (adindar@gtu.edu.tr)</h3> \n",
    "<h4 align=\"center\">2021 Fall  </h4> "
   ]
  },
  {
   "cell_type": "markdown",
   "metadata": {
    "slideshow": {
     "slide_type": "slide"
    }
   },
   "source": [
    "** What is \"Structural Analysis\"?**\n",
    "<table style=\"width:100%\">\n",
    "<tr>\n",
    "<th><img src=\"https://media-cdn.tripadvisor.com/media/photo-o/0d/fc/4c/03/burj-khalifa.jpg\" alt=\"Drawing\" style=\"width: 500px;\"/> </th>\n",
    "<th><img src=\"http://www.mooseyscountrygarden.com/willow-tree-garden/bridge-wood-willow.jpg\" alt=\"Drawing\" style=\"width: 500px;\"/></th>\n",
    "</tr>\n",
    "</table>\n",
    "- It is essential to do a system analysis before design and construction of the (engineering) structures. \n",
    "- Indeed, structural analysis is the first step in the determination of the internal forces occcuring due to the external forces acting on the structures. "
   ]
  },
  {
   "cell_type": "markdown",
   "metadata": {
    "slideshow": {
     "slide_type": "slide"
    }
   },
   "source": [
    "** What are the methods in the Structural Analysis? **\n",
    "\n",
    "Structures are assumed that they are in the statically equilibrium under the external forces. \n",
    "<table style=\"width:100%\">\n",
    "<tr>\n",
    "<th><img src=\"./images/1-two_story_building.jpg\" alt=\"Drawing\" style=\"width: 500px;\"/></th>\n",
    "<th><img src=\"./images/2-tsunami_vehicle_on_top.jpg\" alt=\"Drawing\" style=\"width: 500px;\"/></th>\n",
    "</tr>\n",
    "<tr>\n",
    "<th>Static Forces</th><th>Dynamic Forces</th>\n",
    "</tr>\n",
    "</table>\n",
    "However, a structure may undergo dynamic forces due to sudden natural disasters such as earthquakes, tsunami, flood or man-made disasters blast, bomb, accident etc. "
   ]
  },
  {
   "cell_type": "markdown",
   "metadata": {
    "slideshow": {
     "slide_type": "slide"
    }
   },
   "source": [
    "** What are the methods in the Structural Analysis? **\n",
    "\n",
    "External forces are grouped in two classes; \n",
    "\n",
    "<img src=\"./images/3-loads.svg\" alt=\"Drawing\" style=\"width: 80%;\"/>"
   ]
  },
  {
   "cell_type": "markdown",
   "metadata": {
    "slideshow": {
     "slide_type": "slide"
    }
   },
   "source": [
    "** What are the methods in the Structural Analysis? **\n",
    "\n",
    "Structural Analysis Methods are divided into two groups; \n",
    "\n",
    "<img src=\"./images/4-SA methods.svg\" alt=\"Drawing\" style=\"width: 80%;\"/>"
   ]
  },
  {
   "cell_type": "markdown",
   "metadata": {
    "slideshow": {
     "slide_type": "slide"
    }
   },
   "source": [
    "** Now another question arises: What is the relation between computers and structural analysis?**\n",
    "\n",
    "To be more specific, do we need algorithms and programs running these algorithms?\n",
    "\n",
    "** Question: Can you solve the following problem?**\n",
    "\n",
    "<img src=\"./images/5-simple_beam.svg\" alt=\"Drawing\" align=\"middle\" style=\"width: 50%\"/>\n",
    "\n",
    "- Calculate the support reactions.\n",
    "- Calculate the max axial (N), shear (V) and bending moment (M) values on the beam. \n",
    "\n",
    "_Can you draw the flow chart of the steps you'll follow?_"
   ]
  },
  {
   "cell_type": "markdown",
   "metadata": {
    "slideshow": {
     "slide_type": "slide"
    }
   },
   "source": [
    "** Flow-chart for the simple beam with uniform loading problem **\n",
    "\n",
    "<img src=\"./images/5-simple_beam_flowchart.svg\" alt=\"Drawing\" align=\"middle\" style=\"width: 100%\"/>"
   ]
  },
  {
   "cell_type": "markdown",
   "metadata": {
    "slideshow": {
     "slide_type": "slide"
    }
   },
   "source": [
    "** Flow-chart for the simple beam with uniform loading problem **\n",
    "\n",
    "<img src=\"./images/5-simple_beam_solution-Hand Calculation.png\" alt=\"Drawing\" align=\"middle\" style=\"height: 120%\"/>"
   ]
  },
  {
   "cell_type": "markdown",
   "metadata": {
    "slideshow": {
     "slide_type": "slide"
    }
   },
   "source": [
    "** Why do we need computers for engineering works? **\n",
    "\n",
    "Think of the simple beam problem given above. What if the \"given\" values are found in a range i.e.: L is between 1 to 10m increasing at 25cm and q is between 1 to 100kN/m increasing at 1kN/m. Would you solve the problem easily?\n",
    "\n",
    "Answer is yes because this is a simple system and the calculations are indeed based on analytical methods. \n",
    "\n",
    "When the system becomes more complex for example indeterminate structure and the loading cases are more than one, that is usual in case of the loading combinations are encountered, there is strong tool for the computation.\n",
    "<img src=\"./images/6-sdof+mdof+truss.svg\" alt=\"Drawing\" style=\"width: 100%;\"/>\n",
    "\n",
    "How can you effectively solve the above problems? Let's learn throughout EQE512. "
   ]
  },
  {
   "cell_type": "markdown",
   "metadata": {
    "slideshow": {
     "slide_type": "slide"
    }
   },
   "source": [
    "<img src=\"http://i2.cdn.cnn.com/cnnnext/dam/assets/140116120426-northridge-earthquake-09-horizontal-large-gallery.jpg\" alt=\"Drawing\" style=\"width: 100%;\"/>\n",
    "Source: http://www.cnn.com/2014/01/16/us/northridge-earthquake-things-learned/index.html"
   ]
  },
  {
   "cell_type": "code",
   "execution_count": null,
   "metadata": {},
   "outputs": [],
   "source": []
  },
  {
   "cell_type": "markdown",
   "metadata": {
    "slideshow": {
     "slide_type": "slide"
    }
   },
   "source": [
    "**Computer programming languages**\n",
    "\n",
    "<img src=\"http://www.digibarn.com/collections/posters/tongues/ComputerLanguagesChart.png\" alt=\"Drawing\" style=\"width: 100%;\"/>\n"
   ]
  },
  {
   "cell_type": "markdown",
   "metadata": {
    "slideshow": {
     "slide_type": "slide"
    }
   },
   "source": [
    "**MATLAB?**\n",
    "\n",
    "<img src=\"./images/week02_popularComputerLanguages.png\" alt=\"Drawing\" style=\"width: 80%;\"/>\n"
   ]
  },
  {
   "cell_type": "markdown",
   "metadata": {
    "slideshow": {
     "slide_type": "slide"
    }
   },
   "source": [
    "**What else?**\n",
    "\n",
    "<img src=\"./images/programs1965_2019.jpg\" alt=\"Drawing\" style=\"height: 60%;\"/>"
   ]
  },
  {
   "cell_type": "markdown",
   "metadata": {
    "slideshow": {
     "slide_type": "slide"
    }
   },
   "source": [
    "**Future?**\n",
    "\n",
    "Source : https://insights.stackoverflow.com/survey/2019\n",
    "\n",
    "<img src=\"./images/wee02_salary_devtype-1.svg\" alt=\"Drawing\" style=\"height: 70%;\"/>\n",
    "\n",
    "<img src=\"./images/week02_salary_language-1.svg\" alt=\"Drawing\" style=\"height: 70%;\"/>"
   ]
  },
  {
   "cell_type": "markdown",
   "metadata": {},
   "source": [
    "**Let's see these programs**\n",
    "\n",
    "- Flowchart Drawing (Draw.io)\n",
    "- Spreadsheet programs (MS Excel, Google Spreadsheet)\n",
    "- Numerical programming (PYTHON)\n",
    "- Mathematical Calculations (SMATH)"
   ]
  },
  {
   "cell_type": "markdown",
   "metadata": {},
   "source": [
    "**Algorithm**\n",
    "\n",
    "An algorithm is a list of rules to follow in order to solve a problem.\n",
    "\n",
    "<img src=\"http://ichef.bbci.co.uk/images/ic/320x180/p0258tkq.jpg\"/>"
   ]
  },
  {
   "cell_type": "markdown",
   "metadata": {},
   "source": [
    "# TASK 01- QUESTION\n",
    "\n",
    "Calculate the followings;\n",
    "- Support reactions\n",
    "- Draw the internal force diagrams\n",
    "\n",
    "using Excel and Python.\n",
    "\n",
    "<img src=\"./images/5-simple_beam.svg\"/>"
   ]
  },
  {
   "cell_type": "code",
   "execution_count": null,
   "metadata": {},
   "outputs": [],
   "source": []
  },
  {
   "cell_type": "code",
   "execution_count": null,
   "metadata": {},
   "outputs": [],
   "source": []
  },
  {
   "cell_type": "code",
   "execution_count": null,
   "metadata": {},
   "outputs": [],
   "source": []
  },
  {
   "cell_type": "code",
   "execution_count": null,
   "metadata": {},
   "outputs": [],
   "source": []
  },
  {
   "cell_type": "markdown",
   "metadata": {},
   "source": [
    "## TASK 01- ALGORITHM\n",
    "\n",
    "Let's develop an algorithm in Engineering Problems: \n",
    "\n",
    "<img src=\"./images/5-simple_beam_flowchart.svg\"/>"
   ]
  },
  {
   "cell_type": "markdown",
   "metadata": {},
   "source": [
    "## TASK 01- SOLUTION IN EXCEL\n",
    "\n",
    "<img src=\"./images/7-Excel-00.png\" width=\"60%\">\n",
    "\n",
    "Follow this part in the class video."
   ]
  },
  {
   "cell_type": "markdown",
   "metadata": {},
   "source": [
    "## CODING PRACTICE IN MATLAB AND PYTHON \n",
    "\n",
    "Keywords in coding:\n",
    "\n",
    "- Variables (number, string, array)\n",
    "- Calculations (adding, subtracting, multiplying, dividing)\n",
    "- Flows\n",
    "    - for / (end)\n",
    "    - If / else / (end)\n",
    "    - While / (end)"
   ]
  },
  {
   "cell_type": "markdown",
   "metadata": {},
   "source": [
    "### MATLAB \n",
    "\n",
    "<img src=\"./images/8-MATLAB-00.png\" width=\"60%\">\n",
    "\n",
    "Let's watch this part in class video"
   ]
  },
  {
   "cell_type": "markdown",
   "metadata": {},
   "source": [
    "### PYTHON\n",
    "\n",
    "It is right now :)\n",
    "\n",
    "---\n",
    "\n",
    "this is a code.\n",
    "\n",
    "$\\alpha = \\beta^3$"
   ]
  },
  {
   "cell_type": "code",
   "execution_count": 1,
   "metadata": {
    "slideshow": {
     "slide_type": "slide"
    }
   },
   "outputs": [],
   "source": [
    "# Variables; Some coding about variables"
   ]
  },
  {
   "cell_type": "code",
   "execution_count": 2,
   "metadata": {},
   "outputs": [],
   "source": [
    "a  = 10"
   ]
  },
  {
   "cell_type": "code",
   "execution_count": 3,
   "metadata": {},
   "outputs": [
    {
     "data": {
      "text/plain": [
       "20"
      ]
     },
     "execution_count": 3,
     "metadata": {},
     "output_type": "execute_result"
    }
   ],
   "source": [
    "2*a"
   ]
  },
  {
   "cell_type": "code",
   "execution_count": 4,
   "metadata": {},
   "outputs": [],
   "source": [
    "b = [1 , 2 , 3 ,5 , a]"
   ]
  },
  {
   "cell_type": "code",
   "execution_count": 5,
   "metadata": {},
   "outputs": [
    {
     "data": {
      "text/plain": [
       "[1, 2, 3, 5, 10]"
      ]
     },
     "execution_count": 5,
     "metadata": {},
     "output_type": "execute_result"
    }
   ],
   "source": [
    "b "
   ]
  },
  {
   "cell_type": "code",
   "execution_count": 6,
   "metadata": {},
   "outputs": [],
   "source": [
    "c = { \"d\" : \"Cimbom is the best team\", \"e\" : b}"
   ]
  },
  {
   "cell_type": "code",
   "execution_count": 7,
   "metadata": {},
   "outputs": [
    {
     "data": {
      "text/plain": [
       "dict"
      ]
     },
     "execution_count": 7,
     "metadata": {},
     "output_type": "execute_result"
    }
   ],
   "source": [
    "type( c )"
   ]
  },
  {
   "cell_type": "code",
   "execution_count": 8,
   "metadata": {},
   "outputs": [
    {
     "data": {
      "text/plain": [
       "'Cimbom is the best team'"
      ]
     },
     "execution_count": 8,
     "metadata": {},
     "output_type": "execute_result"
    }
   ],
   "source": [
    "c[\"d\"]"
   ]
  },
  {
   "cell_type": "code",
   "execution_count": 9,
   "metadata": {},
   "outputs": [
    {
     "data": {
      "text/plain": [
       "[1, 2, 3, 5, 10]"
      ]
     },
     "execution_count": 9,
     "metadata": {},
     "output_type": "execute_result"
    }
   ],
   "source": [
    "c[\"e\"]"
   ]
  },
  {
   "cell_type": "code",
   "execution_count": 10,
   "metadata": {
    "slideshow": {
     "slide_type": "slide"
    }
   },
   "outputs": [],
   "source": [
    "# Numbers; Some coding about variables"
   ]
  },
  {
   "cell_type": "code",
   "execution_count": 11,
   "metadata": {},
   "outputs": [],
   "source": [
    "f = 1 # this is an integer"
   ]
  },
  {
   "cell_type": "code",
   "execution_count": 12,
   "metadata": {},
   "outputs": [
    {
     "data": {
      "text/plain": [
       "1"
      ]
     },
     "execution_count": 12,
     "metadata": {},
     "output_type": "execute_result"
    }
   ],
   "source": [
    "f"
   ]
  },
  {
   "cell_type": "code",
   "execution_count": 13,
   "metadata": {},
   "outputs": [],
   "source": [
    "g = 1.4 # this is an float"
   ]
  },
  {
   "cell_type": "code",
   "execution_count": 14,
   "metadata": {},
   "outputs": [
    {
     "data": {
      "text/plain": [
       "1.4"
      ]
     },
     "execution_count": 14,
     "metadata": {},
     "output_type": "execute_result"
    }
   ],
   "source": [
    "g"
   ]
  },
  {
   "cell_type": "code",
   "execution_count": 15,
   "metadata": {},
   "outputs": [
    {
     "data": {
      "text/plain": [
       "2"
      ]
     },
     "execution_count": 15,
     "metadata": {},
     "output_type": "execute_result"
    }
   ],
   "source": [
    "b[1]"
   ]
  },
  {
   "cell_type": "code",
   "execution_count": 16,
   "metadata": {},
   "outputs": [
    {
     "ename": "TypeError",
     "evalue": "list indices must be integers or slices, not float",
     "output_type": "error",
     "traceback": [
      "\u001b[1;31m---------------------------------------------------------------------------\u001b[0m",
      "\u001b[1;31mTypeError\u001b[0m                                 Traceback (most recent call last)",
      "\u001b[1;32m<ipython-input-16-70d4b65f33c0>\u001b[0m in \u001b[0;36m<module>\u001b[1;34m\u001b[0m\n\u001b[1;32m----> 1\u001b[1;33m \u001b[0mb\u001b[0m\u001b[1;33m[\u001b[0m\u001b[0mg\u001b[0m\u001b[1;33m]\u001b[0m\u001b[1;33m\u001b[0m\u001b[1;33m\u001b[0m\u001b[0m\n\u001b[0m",
      "\u001b[1;31mTypeError\u001b[0m: list indices must be integers or slices, not float"
     ]
    }
   ],
   "source": [
    "b[g]"
   ]
  },
  {
   "cell_type": "code",
   "execution_count": null,
   "metadata": {
    "slideshow": {
     "slide_type": "slide"
    }
   },
   "outputs": [],
   "source": [
    "# For loop"
   ]
  },
  {
   "cell_type": "code",
   "execution_count": 17,
   "metadata": {},
   "outputs": [
    {
     "data": {
      "text/plain": [
       "[1, 2, 3, 5, 10]"
      ]
     },
     "execution_count": 17,
     "metadata": {},
     "output_type": "execute_result"
    }
   ],
   "source": [
    "b"
   ]
  },
  {
   "cell_type": "code",
   "execution_count": 18,
   "metadata": {},
   "outputs": [
    {
     "name": "stdout",
     "output_type": "stream",
     "text": [
      "1\n",
      "2\n",
      "3\n",
      "5\n",
      "10\n",
      "This is the end of the for loop\n"
     ]
    }
   ],
   "source": [
    "for item in b :\n",
    "    print( item )\n",
    "  \n",
    "print( \"This is the end of the for loop\")    "
   ]
  },
  {
   "cell_type": "code",
   "execution_count": 19,
   "metadata": {
    "slideshow": {
     "slide_type": "slide"
    }
   },
   "outputs": [
    {
     "name": "stdout",
     "output_type": "stream",
     "text": [
      "This is NOT TWO\n",
      "This is two\n",
      "This is NOT TWO\n",
      "This is NOT TWO\n",
      "This is NOT TWO\n"
     ]
    }
   ],
   "source": [
    "# If/Else loop\n",
    "\n",
    "for item in b :\n",
    "    if item == 2 :\n",
    "        print( \"This is two\")\n",
    "    else:\n",
    "        print( \"This is NOT TWO\")"
   ]
  },
  {
   "cell_type": "code",
   "execution_count": 20,
   "metadata": {
    "scrolled": true,
    "slideshow": {
     "slide_type": "slide"
    }
   },
   "outputs": [
    {
     "name": "stdout",
     "output_type": "stream",
     "text": [
      "counter is 0 and item is 0\n",
      "counter is 0 and item is 1\n",
      "counter is 1 and item is 2\n",
      "counter is 2 and item is 3\n",
      "counter is 3 and item is 4\n",
      "counter is 4 and item is 5\n"
     ]
    }
   ],
   "source": [
    "# While Loop\n",
    "item =  0 \n",
    "counter = 0 \n",
    "while counter < 5 :\n",
    "    #print( counter , item )\n",
    "    print( f\"counter is {counter } and item is {item}\")\n",
    "    counter = item\n",
    "    item += 1"
   ]
  },
  {
   "cell_type": "markdown",
   "metadata": {
    "slideshow": {
     "slide_type": "slide"
    }
   },
   "source": [
    "### TASK 01- SOLUTION IN PYTHON\n",
    "\n",
    "Calculate the followings;\n",
    "- Support reactions\n",
    "- Draw the internal force diagrams\n",
    "\n",
    "using Excel and **Python**.\n",
    "\n",
    "<img src=\"./images/5-simple_beam.svg\" width=\"80%\"/>\n",
    "\n",
    "Let's do it rigth now!"
   ]
  },
  {
   "cell_type": "code",
   "execution_count": 21,
   "metadata": {
    "slideshow": {
     "slide_type": "slide"
    }
   },
   "outputs": [],
   "source": [
    "# TASK 01- SOLUTION IN PYTHON"
   ]
  },
  {
   "cell_type": "code",
   "execution_count": 22,
   "metadata": {},
   "outputs": [],
   "source": [
    "q , L = 10 , 5"
   ]
  },
  {
   "cell_type": "code",
   "execution_count": 23,
   "metadata": {},
   "outputs": [
    {
     "name": "stdout",
     "output_type": "stream",
     "text": [
      "Ax is equal to 0kN\n"
     ]
    }
   ],
   "source": [
    "Ax = 0 \n",
    "print( f\"Ax is equal to {Ax}kN\")"
   ]
  },
  {
   "cell_type": "code",
   "execution_count": 24,
   "metadata": {},
   "outputs": [
    {
     "name": "stdout",
     "output_type": "stream",
     "text": [
      "Ay is equal to 25.0kN\n"
     ]
    }
   ],
   "source": [
    "Ay = 0.5 * q * L\n",
    "print( f\"Ay is equal to {Ay}kN\")"
   ]
  },
  {
   "cell_type": "code",
   "execution_count": 25,
   "metadata": {},
   "outputs": [
    {
     "name": "stdout",
     "output_type": "stream",
     "text": [
      "By is equal to 25.0kN\n"
     ]
    }
   ],
   "source": [
    "By = q * L - Ay\n",
    "print( f\"By is equal to {By}kN\")"
   ]
  },
  {
   "cell_type": "code",
   "execution_count": 26,
   "metadata": {},
   "outputs": [],
   "source": [
    "interimLength = [ 0,1,2,3,4,5] # distance from point A\n",
    "interimLength = range(6)"
   ]
  },
  {
   "cell_type": "code",
   "execution_count": 27,
   "metadata": {},
   "outputs": [
    {
     "data": {
      "text/plain": [
       "range(0, 6)"
      ]
     },
     "execution_count": 27,
     "metadata": {},
     "output_type": "execute_result"
    }
   ],
   "source": [
    "interimLength"
   ]
  },
  {
   "cell_type": "code",
   "execution_count": 28,
   "metadata": {},
   "outputs": [
    {
     "name": "stdout",
     "output_type": "stream",
     "text": [
      "0\n",
      "1\n",
      "2\n",
      "3\n",
      "4\n",
      "5\n"
     ]
    }
   ],
   "source": [
    "for item in interimLength: print( item)"
   ]
  },
  {
   "cell_type": "code",
   "execution_count": 29,
   "metadata": {},
   "outputs": [],
   "source": [
    "# Why don't we use the given format for array creation. COMPREHENSION\n",
    "dx = .1\n",
    "interimLength =  [ item * dx for item in range( int( L/dx) + 1)]"
   ]
  },
  {
   "cell_type": "code",
   "execution_count": 30,
   "metadata": {
    "collapsed": true,
    "jupyter": {
     "outputs_hidden": true
    }
   },
   "outputs": [
    {
     "data": {
      "text/plain": [
       "[0.0,\n",
       " 0.1,\n",
       " 0.2,\n",
       " 0.30000000000000004,\n",
       " 0.4,\n",
       " 0.5,\n",
       " 0.6000000000000001,\n",
       " 0.7000000000000001,\n",
       " 0.8,\n",
       " 0.9,\n",
       " 1.0,\n",
       " 1.1,\n",
       " 1.2000000000000002,\n",
       " 1.3,\n",
       " 1.4000000000000001,\n",
       " 1.5,\n",
       " 1.6,\n",
       " 1.7000000000000002,\n",
       " 1.8,\n",
       " 1.9000000000000001,\n",
       " 2.0,\n",
       " 2.1,\n",
       " 2.2,\n",
       " 2.3000000000000003,\n",
       " 2.4000000000000004,\n",
       " 2.5,\n",
       " 2.6,\n",
       " 2.7,\n",
       " 2.8000000000000003,\n",
       " 2.9000000000000004,\n",
       " 3.0,\n",
       " 3.1,\n",
       " 3.2,\n",
       " 3.3000000000000003,\n",
       " 3.4000000000000004,\n",
       " 3.5,\n",
       " 3.6,\n",
       " 3.7,\n",
       " 3.8000000000000003,\n",
       " 3.9000000000000004,\n",
       " 4.0,\n",
       " 4.1000000000000005,\n",
       " 4.2,\n",
       " 4.3,\n",
       " 4.4,\n",
       " 4.5,\n",
       " 4.6000000000000005,\n",
       " 4.7,\n",
       " 4.800000000000001,\n",
       " 4.9,\n",
       " 5.0]"
      ]
     },
     "execution_count": 30,
     "metadata": {},
     "output_type": "execute_result"
    }
   ],
   "source": [
    "interimLength"
   ]
  },
  {
   "cell_type": "code",
   "execution_count": 31,
   "metadata": {},
   "outputs": [
    {
     "data": {
      "text/plain": [
       "[4.6000000000000005, 4.7, 4.800000000000001, 4.9, 5.0]"
      ]
     },
     "execution_count": 31,
     "metadata": {},
     "output_type": "execute_result"
    }
   ],
   "source": [
    "interimLength[-5:]"
   ]
  },
  {
   "cell_type": "code",
   "execution_count": 32,
   "metadata": {},
   "outputs": [
    {
     "data": {
      "text/plain": [
       "51"
      ]
     },
     "execution_count": 32,
     "metadata": {},
     "output_type": "execute_result"
    }
   ],
   "source": [
    "len(interimLength)"
   ]
  },
  {
   "cell_type": "code",
   "execution_count": 33,
   "metadata": {},
   "outputs": [],
   "source": [
    "distanceList , VList , MList= [] , [] , []\n",
    "\n",
    "for distance in interimLength :\n",
    "    V = Ay - distance * q\n",
    "    # ------------------------------------\n",
    "    M = - (q * distance) * distance / 2 + Ay * distance\n",
    "    # ------------------------------------\n",
    "    #print( f\"at {distance}m distance V is {V}kN and M is {M}kN.m\")\n",
    "    distanceList.append( distance)\n",
    "    VList.append( V )\n",
    "    MList.append( M )"
   ]
  },
  {
   "cell_type": "code",
   "execution_count": 35,
   "metadata": {
    "collapsed": true,
    "jupyter": {
     "outputs_hidden": true
    }
   },
   "outputs": [
    {
     "data": {
      "text/plain": [
       "[0.0,\n",
       " 2.45,\n",
       " 4.8,\n",
       " 7.050000000000001,\n",
       " 9.2,\n",
       " 11.25,\n",
       " 13.200000000000001,\n",
       " 15.049999999999999,\n",
       " 16.8,\n",
       " 18.45,\n",
       " 20.0,\n",
       " 21.450000000000003,\n",
       " 22.8,\n",
       " 24.049999999999997,\n",
       " 25.199999999999996,\n",
       " 26.25,\n",
       " 27.2,\n",
       " 28.050000000000004,\n",
       " 28.8,\n",
       " 29.45,\n",
       " 30.0,\n",
       " 30.45,\n",
       " 30.800000000000004,\n",
       " 31.05,\n",
       " 31.2,\n",
       " 31.25,\n",
       " 31.199999999999996,\n",
       " 31.049999999999997,\n",
       " 30.79999999999999,\n",
       " 30.450000000000003,\n",
       " 30.0,\n",
       " 29.449999999999996,\n",
       " 28.799999999999997,\n",
       " 28.049999999999997,\n",
       " 27.20000000000001,\n",
       " 26.25,\n",
       " 25.200000000000003,\n",
       " 24.049999999999997,\n",
       " 22.799999999999997,\n",
       " 21.450000000000003,\n",
       " 20.0,\n",
       " 18.44999999999999,\n",
       " 16.799999999999997,\n",
       " 15.049999999999997,\n",
       " 13.200000000000003,\n",
       " 11.25,\n",
       " 9.199999999999989,\n",
       " 7.049999999999997,\n",
       " 4.799999999999983,\n",
       " 2.450000000000003,\n",
       " 0.0]"
      ]
     },
     "execution_count": 35,
     "metadata": {},
     "output_type": "execute_result"
    }
   ],
   "source": [
    "MList"
   ]
  },
  {
   "cell_type": "markdown",
   "metadata": {},
   "source": [
    "Visualization in Python"
   ]
  },
  {
   "cell_type": "code",
   "execution_count": 36,
   "metadata": {},
   "outputs": [],
   "source": [
    "import matplotlib.pyplot as plt"
   ]
  },
  {
   "cell_type": "code",
   "execution_count": 37,
   "metadata": {},
   "outputs": [
    {
     "data": {
      "text/plain": [
       "(5.0, -25.0)"
      ]
     },
     "execution_count": 37,
     "metadata": {},
     "output_type": "execute_result"
    }
   ],
   "source": [
    "distance, V"
   ]
  },
  {
   "cell_type": "code",
   "execution_count": 38,
   "metadata": {
    "collapsed": true,
    "jupyter": {
     "outputs_hidden": true
    }
   },
   "outputs": [
    {
     "data": {
      "text/plain": [
       "([0.0,\n",
       "  0.1,\n",
       "  0.2,\n",
       "  0.30000000000000004,\n",
       "  0.4,\n",
       "  0.5,\n",
       "  0.6000000000000001,\n",
       "  0.7000000000000001,\n",
       "  0.8,\n",
       "  0.9,\n",
       "  1.0,\n",
       "  1.1,\n",
       "  1.2000000000000002,\n",
       "  1.3,\n",
       "  1.4000000000000001,\n",
       "  1.5,\n",
       "  1.6,\n",
       "  1.7000000000000002,\n",
       "  1.8,\n",
       "  1.9000000000000001,\n",
       "  2.0,\n",
       "  2.1,\n",
       "  2.2,\n",
       "  2.3000000000000003,\n",
       "  2.4000000000000004,\n",
       "  2.5,\n",
       "  2.6,\n",
       "  2.7,\n",
       "  2.8000000000000003,\n",
       "  2.9000000000000004,\n",
       "  3.0,\n",
       "  3.1,\n",
       "  3.2,\n",
       "  3.3000000000000003,\n",
       "  3.4000000000000004,\n",
       "  3.5,\n",
       "  3.6,\n",
       "  3.7,\n",
       "  3.8000000000000003,\n",
       "  3.9000000000000004,\n",
       "  4.0,\n",
       "  4.1000000000000005,\n",
       "  4.2,\n",
       "  4.3,\n",
       "  4.4,\n",
       "  4.5,\n",
       "  4.6000000000000005,\n",
       "  4.7,\n",
       "  4.800000000000001,\n",
       "  4.9,\n",
       "  5.0],\n",
       " [25.0,\n",
       "  24.0,\n",
       "  23.0,\n",
       "  22.0,\n",
       "  21.0,\n",
       "  20.0,\n",
       "  19.0,\n",
       "  18.0,\n",
       "  17.0,\n",
       "  16.0,\n",
       "  15.0,\n",
       "  14.0,\n",
       "  12.999999999999998,\n",
       "  12.0,\n",
       "  10.999999999999998,\n",
       "  10.0,\n",
       "  9.0,\n",
       "  8.0,\n",
       "  7.0,\n",
       "  6.0,\n",
       "  5.0,\n",
       "  4.0,\n",
       "  3.0,\n",
       "  1.9999999999999964,\n",
       "  0.9999999999999964,\n",
       "  0.0,\n",
       "  -1.0,\n",
       "  -2.0,\n",
       "  -3.0000000000000036,\n",
       "  -4.0000000000000036,\n",
       "  -5.0,\n",
       "  -6.0,\n",
       "  -7.0,\n",
       "  -8.0,\n",
       "  -9.0,\n",
       "  -10.0,\n",
       "  -11.0,\n",
       "  -12.0,\n",
       "  -13.0,\n",
       "  -14.0,\n",
       "  -15.0,\n",
       "  -16.000000000000007,\n",
       "  -17.0,\n",
       "  -18.0,\n",
       "  -19.0,\n",
       "  -20.0,\n",
       "  -21.000000000000007,\n",
       "  -22.0,\n",
       "  -23.000000000000007,\n",
       "  -24.0,\n",
       "  -25.0],\n",
       " [0.0,\n",
       "  2.45,\n",
       "  4.8,\n",
       "  7.050000000000001,\n",
       "  9.2,\n",
       "  11.25,\n",
       "  13.200000000000001,\n",
       "  15.049999999999999,\n",
       "  16.8,\n",
       "  18.45,\n",
       "  20.0,\n",
       "  21.450000000000003,\n",
       "  22.8,\n",
       "  24.049999999999997,\n",
       "  25.199999999999996,\n",
       "  26.25,\n",
       "  27.2,\n",
       "  28.050000000000004,\n",
       "  28.8,\n",
       "  29.45,\n",
       "  30.0,\n",
       "  30.45,\n",
       "  30.800000000000004,\n",
       "  31.05,\n",
       "  31.2,\n",
       "  31.25,\n",
       "  31.199999999999996,\n",
       "  31.049999999999997,\n",
       "  30.79999999999999,\n",
       "  30.450000000000003,\n",
       "  30.0,\n",
       "  29.449999999999996,\n",
       "  28.799999999999997,\n",
       "  28.049999999999997,\n",
       "  27.20000000000001,\n",
       "  26.25,\n",
       "  25.200000000000003,\n",
       "  24.049999999999997,\n",
       "  22.799999999999997,\n",
       "  21.450000000000003,\n",
       "  20.0,\n",
       "  18.44999999999999,\n",
       "  16.799999999999997,\n",
       "  15.049999999999997,\n",
       "  13.200000000000003,\n",
       "  11.25,\n",
       "  9.199999999999989,\n",
       "  7.049999999999997,\n",
       "  4.799999999999983,\n",
       "  2.450000000000003,\n",
       "  0.0])"
      ]
     },
     "execution_count": 38,
     "metadata": {},
     "output_type": "execute_result"
    }
   ],
   "source": [
    "distanceList  , VList , MList"
   ]
  },
  {
   "cell_type": "code",
   "execution_count": 41,
   "metadata": {},
   "outputs": [
    {
     "data": {
      "image/png": "[encoded data removed]",
      "text/plain": [
       "<Figure size 432x288 with 1 Axes>"
      ]
     },
     "metadata": {
      "needs_background": "light"
     },
     "output_type": "display_data"
    }
   ],
   "source": [
    "plt.plot(distanceList , VList , \".\")\n",
    "plt.axhline(c=\"k\")\n",
    "plt.box(False)"
   ]
  },
  {
   "cell_type": "code",
   "execution_count": 45,
   "metadata": {},
   "outputs": [
    {
     "data": {
      "image/png": "[encoded data removed]",
      "text/plain": [
       "<Figure size 432x288 with 1 Axes>"
      ]
     },
     "metadata": {
      "needs_background": "light"
     },
     "output_type": "display_data"
    }
   ],
   "source": [
    "plt.plot(distanceList , MList, \". \")\n",
    "plt.axhline(c=\"k\")\n",
    "plt.box(False)"
   ]
  },
  {
   "cell_type": "markdown",
   "metadata": {
    "slideshow": {
     "slide_type": "slide"
    }
   },
   "source": [
    "## TASK 02- QUESTION\n",
    "\n",
    "Calculate the followings;\n",
    "- Support reactions\n",
    "- Draw the internal force diagrams\n",
    "\n",
    "using ~~Excel~~ and Python.\n",
    "\n",
    "<img src=\"./images/9-simple_cantilever_beam.svg\" width=\"80%\" align=\"center\">"
   ]
  },
  {
   "cell_type": "markdown",
   "metadata": {
    "slideshow": {
     "slide_type": "slide"
    }
   },
   "source": [
    "### TASK 02- ALGORITHM\n",
    "\n",
    "Let's develop an algorithm for this problem: \n",
    "\n",
    "<img src=\"./images/week03-task02-algorithm-00.svg\"/>"
   ]
  }
 ],
 "metadata": {
  "anaconda-cloud": {},
  "celltoolbar": "Slideshow",
  "kernelspec": {
   "display_name": "Python 3",
   "language": "python",
   "name": "python3"
  },
  "language_info": {
   "codemirror_mode": {
    "name": "ipython",
    "version": 3
   },
   "file_extension": ".py",
   "mimetype": "text/x-python",
   "name": "python",
   "nbconvert_exporter": "python",
   "pygments_lexer": "ipython3",
   "version": "3.8.1"
  }
 },
 "nbformat": 4,
 "nbformat_minor": 4
}
