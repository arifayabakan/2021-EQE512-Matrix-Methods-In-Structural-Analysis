{
 "cells": [
  {
   "cell_type": "markdown",
   "metadata": {
    "slideshow": {
     "slide_type": "slide"
    }
   },
   "source": [
    "<h1 align=\"center\">EQE512 MATRIX METHODS IN STRUCTURAL ANALYSIS \n",
    "<br>\n",
    "<br>\n",
    "Week 01\n",
    "<br>\n",
    "<br>\n",
    "Defining the solution methods in engineering calculations using matrices and development of algorithms</h1> \n",
    "\n",
    "<h3 align=\"center\">Dr. Ahmet Anıl Dindar (adindar@gtu.edu.tr)</h3> \n",
    "<h4 align=\"center\">2020 Fall  </h4> "
   ]
  },
  {
   "cell_type": "markdown",
   "metadata": {
    "slideshow": {
     "slide_type": "slide"
    }
   },
   "source": [
    "** What is \"Structural Analysis\"?**\n",
    "<table style=\"width:100%\">\n",
    "<tr>\n",
    "<th><img src=\"https://media-cdn.tripadvisor.com/media/photo-o/0d/fc/4c/03/burj-khalifa.jpg\" alt=\"Drawing\" style=\"width: 500px;\"/> </th>\n",
    "<th><img src=\"http://www.mooseyscountrygarden.com/willow-tree-garden/bridge-wood-willow.jpg\" alt=\"Drawing\" style=\"width: 500px;\"/></th>\n",
    "</tr>\n",
    "</table>\n",
    "- It is essential to do a system analysis before design and construction of the (engineering) structures. \n",
    "- Indeed, structural analysis is the first step in the determination of the internal forces occcuring due to the external forces acting on the structures. "
   ]
  },
  {
   "cell_type": "markdown",
   "metadata": {
    "slideshow": {
     "slide_type": "slide"
    }
   },
   "source": [
    "** What are the methods in the Structural Analysis? **\n",
    "\n",
    "Structures are assumed that they are in the statically equilibrium under the external forces. \n",
    "<table style=\"width:100%\">\n",
    "<tr>\n",
    "<th><img src=\"./images/1-two_story_building.jpg\" alt=\"Drawing\" style=\"width: 500px;\"/></th>\n",
    "<th><img src=\"./images/2-tsunami_vehicle_on_top.jpg\" alt=\"Drawing\" style=\"width: 500px;\"/></th>\n",
    "</tr>\n",
    "<tr>\n",
    "<th>Static Forces</th><th>Dynamic Forces</th>\n",
    "</tr>\n",
    "</table>\n",
    "However, a structure may undergo dynamic forces due to sudden natural disasters such as earthquakes, tsunami, flood or man-made disasters blast, bomb, accident etc. "
   ]
  },
  {
   "cell_type": "markdown",
   "metadata": {
    "slideshow": {
     "slide_type": "slide"
    }
   },
   "source": [
    "** What are the methods in the Structural Analysis? **\n",
    "\n",
    "External forces are grouped in two classes; \n",
    "\n",
    "<img src=\"./images/3-loads.svg\" alt=\"Drawing\" style=\"width: 80%;\"/>"
   ]
  },
  {
   "cell_type": "markdown",
   "metadata": {
    "slideshow": {
     "slide_type": "slide"
    }
   },
   "source": [
    "** What are the methods in the Structural Analysis? **\n",
    "\n",
    "Structural Analysis Methods are divided into two groups; \n",
    "\n",
    "<img src=\"./images/4-SA methods.svg\" alt=\"Drawing\" style=\"width: 80%;\"/>"
   ]
  },
  {
   "cell_type": "markdown",
   "metadata": {
    "slideshow": {
     "slide_type": "slide"
    }
   },
   "source": [
    "** Now another question arises: What is the relation between computers and structural analysis?**\n",
    "\n",
    "To be more specific, do we need algorithms and programs running these algorithms?\n",
    "\n",
    "** Question: Can you solve the following problem?**\n",
    "\n",
    "<img src=\"./images/5-simple_beam.svg\" alt=\"Drawing\" align=\"middle\" style=\"width: 50%\"/>\n",
    "\n",
    "- Calculate the support reactions.\n",
    "- Calculate the max axial (N), shear (V) and bending moment (M) values on the beam. \n",
    "\n",
    "_Can you draw the flow chart of the steps you'll follow?_"
   ]
  },
  {
   "cell_type": "markdown",
   "metadata": {
    "slideshow": {
     "slide_type": "slide"
    }
   },
   "source": [
    "** Flow-chart for the simple beam with uniform loading problem **\n",
    "\n",
    "<img src=\"./images/5-simple_beam_flowchart.svg\" alt=\"Drawing\" align=\"middle\" style=\"width: 100%\"/>"
   ]
  },
  {
   "cell_type": "markdown",
   "metadata": {
    "slideshow": {
     "slide_type": "slide"
    }
   },
   "source": [
    "** Flow-chart for the simple beam with uniform loading problem **\n",
    "\n",
    "<img src=\"./images/5-simple_beam_solution-Hand Calculation.png\" alt=\"Drawing\" align=\"middle\" style=\"height: 80%\"/>"
   ]
  },
  {
   "cell_type": "markdown",
   "metadata": {
    "slideshow": {
     "slide_type": "slide"
    }
   },
   "source": [
    "** Why do we need computers for engineering works? **\n",
    "\n",
    "Think of the simple beam problem given above. What if the \"given\" values are found in a range i.e.: L is between 1 to 10m increasing at 25cm and q is between 1 to 100kN/m increasing at 1kN/m. Would you solve the problem easily?\n",
    "\n",
    "Answer is yes because this is a simple system and the calculations are indeed based on analytical methods. \n",
    "\n",
    "When the system becomes more complex for example indeterminate structure and the loading cases are more than one, that is usual in case of the loading combinations are encountered, there is strong tool for the computation.\n",
    "<img src=\"./images/6-sdof+mdof+truss.svg\" alt=\"Drawing\" style=\"width: 100%;\"/>\n",
    "\n",
    "How can you effectively solve the above problems? Let's learn throughout EQE512. "
   ]
  },
  {
   "cell_type": "markdown",
   "metadata": {
    "slideshow": {
     "slide_type": "slide"
    }
   },
   "source": [
    "<img src=\"http://i2.cdn.cnn.com/cnnnext/dam/assets/140116120426-northridge-earthquake-09-horizontal-large-gallery.jpg\" alt=\"Drawing\" style=\"width: 100%;\"/>\n",
    "Source: http://www.cnn.com/2014/01/16/us/northridge-earthquake-things-learned/index.html"
   ]
  }
 ],
 "metadata": {
  "anaconda-cloud": {},
  "celltoolbar": "Slideshow",
  "kernelspec": {
   "display_name": "Python 3",
   "language": "python",
   "name": "python3"
  },
  "language_info": {
   "codemirror_mode": {
    "name": "ipython",
    "version": 3
   },
   "file_extension": ".py",
   "mimetype": "text/x-python",
   "name": "python",
   "nbconvert_exporter": "python",
   "pygments_lexer": "ipython3",
   "version": "3.7.6"
  }
 },
 "nbformat": 4,
 "nbformat_minor": 4
}
