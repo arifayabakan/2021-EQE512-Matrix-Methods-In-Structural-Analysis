{
 "cells": [
  {
   "cell_type": "markdown",
   "metadata": {
    "slideshow": {
     "slide_type": "slide"
    }
   },
   "source": [
    "<h1 align=\"center\">EQE512 MATRIX METHODS IN STRUCTURAL ANALYSIS \n",
    "<br>\n",
    "<br>\n",
    "Week 07\n",
    "<br>\n",
    "<br>\n",
    "Frame Systems- Compression/Tension Members - Support displacement</h1> \n",
    "\n",
    "<h3 align=\"center\">Dr. Ahmet Anıl Dindar (adindar@gtu.edu.tr)</h3> \n",
    "<h4 align=\"center\">2021 Fall  </h4> "
   ]
  },
  {
   "cell_type": "markdown",
   "metadata": {},
   "source": [
    "---\n",
    "**Today's Topics**\n",
    "\n",
    "1- Frame member stiffness matrix\n",
    "\n",
    "2- Frame System Stiffness matrix\n",
    "\n",
    "3- Support settlements\n",
    "\n",
    "4- Elastic supports"
   ]
  },
  {
   "cell_type": "markdown",
   "metadata": {},
   "source": [
    "## Frame member stiffness matrix"
   ]
  },
  {
   "cell_type": "markdown",
   "metadata": {},
   "source": [
    "**Freedom**\n",
    "\n",
    "<img src=\"figures/9-EQE512-ColumnMemberExplanation.PNG\" width=\"1000\">\n",
    "\n",
    "---\n",
    "\n",
    "**Transformation Matrix**\n",
    "\n",
    "Remember the relation between local and global terms\n",
    "\n",
    "$$ {\\large k^i = (T^i) \\hat{k}^i T^i }$$\n",
    "\n",
    "Remember the transformation matrix;\n",
    "\n",
    "$$ {\\large\n",
    "T^i = \\begin{bmatrix} \n",
    "\\frac{\\Delta_1}{L} & \\frac{\\Delta_2}{L}  & 0 & 0 & 0 & 0 \\\\ \n",
    "-\\frac{\\Delta_2}{L} & \\frac{\\Delta_1}{L}  & 0 & 0 & 0 & 0  \\\\ \n",
    "0 & 0 & 1 & 0 & 0 & 0 \\\\\n",
    "0 & 0 & 0 &\\frac{\\Delta_1}{L} & \\frac{\\Delta_2}{L}  & 0  \\\\\n",
    "0 & 0 & 0 & -\\frac{\\Delta_2}{L} & \\frac{\\Delta_1}{L}  & 0   \\\\\n",
    "0 & 0 & 0 & 0 & 0 & 1 \n",
    "\\end{bmatrix}}$$\n",
    "\n",
    "---\n",
    "\n",
    "**Local Stiffness Matrix**\n",
    "\n",
    "<img src=\"figures/column_stiffness_in_local_coordinates.png\" width=\"600\">\n",
    "\n",
    "**Global Stiffness Matrix**\n",
    "\n",
    "After applying the transformation matrix\n",
    "\n",
    "<img src=\"figures/9-EQE512-ColumnMemberStiffness.PNG\" width=\"900\">"
   ]
  },
  {
   "cell_type": "markdown",
   "metadata": {},
   "source": [
    "**Transformation Matrix of Frame Element**"
   ]
  },
  {
   "cell_type": "code",
   "execution_count": 1,
   "metadata": {
    "tags": []
   },
   "outputs": [],
   "source": [
    "import numpy as np\n",
    "\n",
    "def transformation_matrix( x1,y1,x2,y2) :\n",
    "    delta_1 = (x2-x1)\n",
    "    delta_2 = (y2-y1)\n",
    "    L = ( (delta_1)**2 + (delta_2)**2)**(0.5)\n",
    "    \n",
    "    T = np.array( [[ delta_1 / L , delta_2 / L  , 0 , 0 , 0 , 0],\n",
    "                   [-delta_2 / L , delta_1 / L  , 0 , 0 , 0 , 0],\n",
    "                   [0 , 0 , 1 , 0 , 0 , 0  ], \n",
    "                   [ 0 , 0 , 0 , delta_1 / L , delta_2 / L , 0 ],\n",
    "                   [ 0 , 0 , 0, -delta_2 / L , delta_1 / L  , 0],\n",
    "                   [0 , 0 , 0 , 0 , 0 , 1] ])\n",
    "    \n",
    "    return( T)"
   ]
  },
  {
   "cell_type": "markdown",
   "metadata": {},
   "source": [
    "**Frame Element Member Stiffness Matrix in Local Coordinates**"
   ]
  },
  {
   "cell_type": "code",
   "execution_count": 2,
   "metadata": {
    "tags": []
   },
   "outputs": [],
   "source": [
    "def column_stiffness_matrix( E , A , I , x1,y1,x2,y2):\n",
    "    delta_1 = (x2-x1)\n",
    "    delta_2 = (y2-y1)\n",
    "    L = ( (delta_1)**2 + (delta_2)**2)**(0.5)\n",
    "    #\n",
    "    EA_L = E * A / L\n",
    "    EI_L = E * I / L\n",
    "    EI_L2 = EI_L / L\n",
    "    EI_L3 = EI_L2 / L\n",
    "    #\n",
    "    k = np.array([[EA_L , 0 , 0 , -EA_L , 0 , 0],\n",
    "                  [ 0 , 12*EI_L3 , 6*EI_L2 ,0 , -12*EI_L3 , 6*EI_L2 ],\n",
    "                  [ 0 , 6*EI_L2 , 4*EI_L , 0 , -6*EI_L2 , 2*EI_L ],\n",
    "                  [ -EA_L , 0 , 0 , EA_L , 0 , 0 ],\n",
    "                  [ 0 , -12*EI_L3 ,-6*EI_L2 , 0 , 12*EI_L3 , -6*EI_L2 ],\n",
    "                  [ 0 , 6*EI_L2 , 2*EI_L , 0 , -6*EI_L2 , 4*EI_L]])\n",
    "                  \n",
    "    return( k )\n",
    "    \n",
    "    "
   ]
  },
  {
   "cell_type": "markdown",
   "metadata": {},
   "source": [
    "**Frame Element Member Stiffness Matrix in Global Coordinates**"
   ]
  },
  {
   "cell_type": "code",
   "execution_count": 3,
   "metadata": {
    "tags": []
   },
   "outputs": [],
   "source": [
    "def column_stiffness_matrix_global( k , T) :\n",
    "    k_global =  np.matmul( np.matmul(np.transpose( T) , k ) , T )\n",
    "                          \n",
    "    return( k_global )"
   ]
  },
  {
   "cell_type": "markdown",
   "metadata": {},
   "source": [
    "**Example- Test the functions- Beam**"
   ]
  },
  {
   "cell_type": "code",
   "execution_count": 4,
   "metadata": {},
   "outputs": [],
   "source": [
    "import matplotlib.pyplot as plt\n"
   ]
  },
  {
   "cell_type": "code",
   "execution_count": 13,
   "metadata": {},
   "outputs": [],
   "source": [
    "E , A  , I , x1, y1 , x2 , y2 = 21E7 , 334E-5 , 214E-7 , 0 , 0 , 3 , 0"
   ]
  },
  {
   "cell_type": "code",
   "execution_count": 14,
   "metadata": {},
   "outputs": [
    {
     "data": {
      "image/png": "[encoded data removed]",
      "text/plain": [
       "<Figure size 432x288 with 1 Axes>"
      ]
     },
     "metadata": {
      "needs_background": "light"
     },
     "output_type": "display_data"
    }
   ],
   "source": [
    "plt.plot( [x1 ,x2] , [ y1 , y2] , \"-\", marker = \"o\", ms = 10 , lw= 5) \n",
    "plt.grid()\n",
    "plt.axhline(c=\"gray\")\n",
    "plt.axvline(c=\"gray\")\n",
    "plt.box(False)"
   ]
  },
  {
   "cell_type": "code",
   "execution_count": 15,
   "metadata": {},
   "outputs": [
    {
     "data": {
      "text/plain": [
       "array([[1., 0., 0., 0., 0., 0.],\n",
       "       [0., 1., 0., 0., 0., 0.],\n",
       "       [0., 0., 1., 0., 0., 0.],\n",
       "       [0., 0., 0., 1., 0., 0.],\n",
       "       [0., 0., 0., 0., 1., 0.],\n",
       "       [0., 0., 0., 0., 0., 1.]])"
      ]
     },
     "execution_count": 15,
     "metadata": {},
     "output_type": "execute_result"
    }
   ],
   "source": [
    "T = transformation_matrix( x1,y1,x2,y2)\n",
    "T"
   ]
  },
  {
   "cell_type": "code",
   "execution_count": 16,
   "metadata": {},
   "outputs": [
    {
     "data": {
      "text/plain": [
       "array([[ 233800.        ,       0.        ,       0.        ,\n",
       "        -233800.        ,       0.        ,       0.        ],\n",
       "       [      0.        ,    1997.33333333,    2996.        ,\n",
       "              0.        ,   -1997.33333333,    2996.        ],\n",
       "       [      0.        ,    2996.        ,    5992.        ,\n",
       "              0.        ,   -2996.        ,    2996.        ],\n",
       "       [-233800.        ,       0.        ,       0.        ,\n",
       "         233800.        ,       0.        ,       0.        ],\n",
       "       [      0.        ,   -1997.33333333,   -2996.        ,\n",
       "              0.        ,    1997.33333333,   -2996.        ],\n",
       "       [      0.        ,    2996.        ,    2996.        ,\n",
       "              0.        ,   -2996.        ,    5992.        ]])"
      ]
     },
     "execution_count": 16,
     "metadata": {},
     "output_type": "execute_result"
    }
   ],
   "source": [
    "k = column_stiffness_matrix( E , A  , I , x1, y1 , x2 , y2)\n",
    "k"
   ]
  },
  {
   "cell_type": "code",
   "execution_count": 17,
   "metadata": {},
   "outputs": [
    {
     "data": {
      "text/plain": [
       "array([[ 233800.        ,       0.        ,       0.        ,\n",
       "        -233800.        ,       0.        ,       0.        ],\n",
       "       [      0.        ,    1997.33333333,    2996.        ,\n",
       "              0.        ,   -1997.33333333,    2996.        ],\n",
       "       [      0.        ,    2996.        ,    5992.        ,\n",
       "              0.        ,   -2996.        ,    2996.        ],\n",
       "       [-233800.        ,       0.        ,       0.        ,\n",
       "         233800.        ,       0.        ,       0.        ],\n",
       "       [      0.        ,   -1997.33333333,   -2996.        ,\n",
       "              0.        ,    1997.33333333,   -2996.        ],\n",
       "       [      0.        ,    2996.        ,    2996.        ,\n",
       "              0.        ,   -2996.        ,    5992.        ]])"
      ]
     },
     "execution_count": 17,
     "metadata": {},
     "output_type": "execute_result"
    }
   ],
   "source": [
    "k_glob = column_stiffness_matrix_global( k , T)\n",
    "k_glob"
   ]
  },
  {
   "cell_type": "markdown",
   "metadata": {},
   "source": [
    "**Example- Test the functions- Columns**"
   ]
  },
  {
   "cell_type": "code",
   "execution_count": 21,
   "metadata": {},
   "outputs": [],
   "source": [
    "E , A  , I , x1, y1 , x2 , y2 = 21E7 , 334E-5 , 214E-7 , 0 , 0 , 0 , 3 \n"
   ]
  },
  {
   "cell_type": "code",
   "execution_count": 22,
   "metadata": {},
   "outputs": [
    {
     "data": {
      "image/png": "[encoded data removed]",
      "text/plain": [
       "<Figure size 432x288 with 1 Axes>"
      ]
     },
     "metadata": {
      "needs_background": "light"
     },
     "output_type": "display_data"
    }
   ],
   "source": [
    "plt.plot( [x1 ,x2] , [ y1 , y2] , \"-\", marker = \"o\", ms = 10 , lw= 5) \n",
    "plt.grid()\n",
    "plt.axhline(c=\"gray\")\n",
    "plt.axvline(c=\"gray\")\n",
    "plt.box(False)"
   ]
  },
  {
   "cell_type": "code",
   "execution_count": 24,
   "metadata": {},
   "outputs": [
    {
     "data": {
      "text/plain": [
       "array([[ 0.,  1.,  0.,  0.,  0.,  0.],\n",
       "       [-1.,  0.,  0.,  0.,  0.,  0.],\n",
       "       [ 0.,  0.,  1.,  0.,  0.,  0.],\n",
       "       [ 0.,  0.,  0.,  0.,  1.,  0.],\n",
       "       [ 0.,  0.,  0., -1.,  0.,  0.],\n",
       "       [ 0.,  0.,  0.,  0.,  0.,  1.]])"
      ]
     },
     "execution_count": 24,
     "metadata": {},
     "output_type": "execute_result"
    }
   ],
   "source": [
    "T = transformation_matrix( x1,y1,x2,y2)\n",
    "T"
   ]
  },
  {
   "cell_type": "code",
   "execution_count": 25,
   "metadata": {},
   "outputs": [
    {
     "data": {
      "text/plain": [
       "array([[ 233800.        ,       0.        ,       0.        ,\n",
       "        -233800.        ,       0.        ,       0.        ],\n",
       "       [      0.        ,    1997.33333333,    2996.        ,\n",
       "              0.        ,   -1997.33333333,    2996.        ],\n",
       "       [      0.        ,    2996.        ,    5992.        ,\n",
       "              0.        ,   -2996.        ,    2996.        ],\n",
       "       [-233800.        ,       0.        ,       0.        ,\n",
       "         233800.        ,       0.        ,       0.        ],\n",
       "       [      0.        ,   -1997.33333333,   -2996.        ,\n",
       "              0.        ,    1997.33333333,   -2996.        ],\n",
       "       [      0.        ,    2996.        ,    2996.        ,\n",
       "              0.        ,   -2996.        ,    5992.        ]])"
      ]
     },
     "execution_count": 25,
     "metadata": {},
     "output_type": "execute_result"
    }
   ],
   "source": [
    "k = column_stiffness_matrix( E , A  , I , x1, y1 , x2 , y2)\n",
    "k"
   ]
  },
  {
   "cell_type": "code",
   "execution_count": 26,
   "metadata": {},
   "outputs": [
    {
     "data": {
      "text/plain": [
       "array([[   1997.33333333,       0.        ,   -2996.        ,\n",
       "          -1997.33333333,       0.        ,   -2996.        ],\n",
       "       [      0.        ,  233800.        ,       0.        ,\n",
       "              0.        , -233800.        ,       0.        ],\n",
       "       [  -2996.        ,       0.        ,    5992.        ,\n",
       "           2996.        ,       0.        ,    2996.        ],\n",
       "       [  -1997.33333333,       0.        ,    2996.        ,\n",
       "           1997.33333333,       0.        ,    2996.        ],\n",
       "       [      0.        , -233800.        ,       0.        ,\n",
       "              0.        ,  233800.        ,       0.        ],\n",
       "       [  -2996.        ,       0.        ,    2996.        ,\n",
       "           2996.        ,       0.        ,    5992.        ]])"
      ]
     },
     "execution_count": 26,
     "metadata": {},
     "output_type": "execute_result"
    }
   ],
   "source": [
    "k_glob = column_stiffness_matrix_global( k , T)\n",
    "k_glob"
   ]
  },
  {
   "cell_type": "markdown",
   "metadata": {},
   "source": [
    "**Incilined member**"
   ]
  },
  {
   "cell_type": "code",
   "execution_count": 32,
   "metadata": {},
   "outputs": [],
   "source": [
    "E , A  , I , x1, y1 , x2 , y2 = 21E7 , 334E-5 , 214E-7 , 0 , 0 , 2.5 , 2.5 \n"
   ]
  },
  {
   "cell_type": "code",
   "execution_count": 33,
   "metadata": {},
   "outputs": [
    {
     "data": {
      "image/png": "[encoded data removed]",
      "text/plain": [
       "<Figure size 432x288 with 1 Axes>"
      ]
     },
     "metadata": {
      "needs_background": "light"
     },
     "output_type": "display_data"
    }
   ],
   "source": [
    "plt.plot( [x1 ,x2] , [ y1 , y2] , \"-\", marker = \"o\", ms = 10 , lw= 5) \n",
    "plt.grid()\n",
    "plt.axhline(c=\"gray\")\n",
    "plt.axvline(c=\"gray\")\n",
    "plt.box(False)"
   ]
  },
  {
   "cell_type": "code",
   "execution_count": 34,
   "metadata": {},
   "outputs": [
    {
     "data": {
      "text/plain": [
       "array([[ 0.70710678,  0.70710678,  0.        ,  0.        ,  0.        ,\n",
       "         0.        ],\n",
       "       [-0.70710678,  0.70710678,  0.        ,  0.        ,  0.        ,\n",
       "         0.        ],\n",
       "       [ 0.        ,  0.        ,  1.        ,  0.        ,  0.        ,\n",
       "         0.        ],\n",
       "       [ 0.        ,  0.        ,  0.        ,  0.70710678,  0.70710678,\n",
       "         0.        ],\n",
       "       [ 0.        ,  0.        ,  0.        , -0.70710678,  0.70710678,\n",
       "         0.        ],\n",
       "       [ 0.        ,  0.        ,  0.        ,  0.        ,  0.        ,\n",
       "         1.        ]])"
      ]
     },
     "execution_count": 34,
     "metadata": {},
     "output_type": "execute_result"
    }
   ],
   "source": [
    "T = transformation_matrix( x1,y1,x2,y2)\n",
    "T"
   ]
  },
  {
   "cell_type": "code",
   "execution_count": 35,
   "metadata": {},
   "outputs": [
    {
     "data": {
      "text/plain": [
       "array([[ 198385.8785297 ,       0.        ,       0.        ,\n",
       "        -198385.8785297 ,       0.        ,       0.        ],\n",
       "       [      0.        ,    1220.25134387,    2157.12      ,\n",
       "              0.        ,   -1220.25134387,    2157.12      ],\n",
       "       [      0.        ,    2157.12      ,    5084.38059944,\n",
       "              0.        ,   -2157.12      ,    2542.19029972],\n",
       "       [-198385.8785297 ,       0.        ,       0.        ,\n",
       "         198385.8785297 ,       0.        ,       0.        ],\n",
       "       [      0.        ,   -1220.25134387,   -2157.12      ,\n",
       "              0.        ,    1220.25134387,   -2157.12      ],\n",
       "       [      0.        ,    2157.12      ,    2542.19029972,\n",
       "              0.        ,   -2157.12      ,    5084.38059944]])"
      ]
     },
     "execution_count": 35,
     "metadata": {},
     "output_type": "execute_result"
    }
   ],
   "source": [
    "k = column_stiffness_matrix( E , A  , I , x1, y1 , x2 , y2)\n",
    "k"
   ]
  },
  {
   "cell_type": "code",
   "execution_count": 36,
   "metadata": {},
   "outputs": [
    {
     "data": {
      "text/plain": [
       "array([[ 99803.06493678,  98582.81359292,  -1525.31417983,\n",
       "        -99803.06493678, -98582.81359292,  -1525.31417983],\n",
       "       [ 98582.81359292,  99803.06493678,   1525.31417983,\n",
       "        -98582.81359292, -99803.06493678,   1525.31417983],\n",
       "       [ -1525.31417983,   1525.31417983,   5084.38059944,\n",
       "          1525.31417983,  -1525.31417983,   2542.19029972],\n",
       "       [-99803.06493678, -98582.81359292,   1525.31417983,\n",
       "         99803.06493678,  98582.81359292,   1525.31417983],\n",
       "       [-98582.81359292, -99803.06493678,  -1525.31417983,\n",
       "         98582.81359292,  99803.06493678,  -1525.31417983],\n",
       "       [ -1525.31417983,   1525.31417983,   2542.19029972,\n",
       "          1525.31417983,  -1525.31417983,   5084.38059944]])"
      ]
     },
     "execution_count": 36,
     "metadata": {},
     "output_type": "execute_result"
    }
   ],
   "source": [
    "k_glob = column_stiffness_matrix_global( k , T)\n",
    "k_glob"
   ]
  },
  {
   "cell_type": "markdown",
   "metadata": {},
   "source": [
    "---\n",
    "\n",
    "## Frame System Stiffness matrix\n",
    "\n",
    "\n",
    "**Frame System Stiffness Matrix**\n",
    "\n",
    "Determine the system stiffness matrix\n",
    "\n",
    "<img src=\"./figures/Week07-FrameExample.png\">\n",
    "\n",
    "E= 210GPa , A = 334E-5 mm2 , I = 214E-7 mm4"
   ]
  },
  {
   "cell_type": "code",
   "execution_count": 37,
   "metadata": {},
   "outputs": [],
   "source": [
    "import EQE512_functions"
   ]
  },
  {
   "cell_type": "code",
   "execution_count": 38,
   "metadata": {
    "tags": []
   },
   "outputs": [
    {
     "data": {
      "text/plain": [
       "{1: {'E': 210000000,\n",
       "  'I': 2.14e-05,\n",
       "  'A': 0.00334,\n",
       "  'jointI': [0, 0],\n",
       "  'jointJ': [0, 3]},\n",
       " 2: {'E': 210000000,\n",
       "  'I': 2.14e-05,\n",
       "  'A': 0.00334,\n",
       "  'jointI': [0, 3],\n",
       "  'jointJ': [3, 3]}}"
      ]
     },
     "execution_count": 38,
     "metadata": {},
     "output_type": "execute_result"
    }
   ],
   "source": [
    "# Mapping and numbering\n",
    "DOF = 3\n",
    "#Nodes' names with coordinates\n",
    "joint_nodes = {1:[0,0] , 2:[0,3], 3:[3,3]}\n",
    "\n",
    "# Members' names and nodes\n",
    "member_nodes= {1:[1,2] , 2:[2,3]}\n",
    "\n",
    "# Member properties\n",
    "member_1 = {\"E\":210_000_000 ,  \"I\" : 214E-7 , \"A\": 334E-5 ,   \n",
    "                \"jointI\": joint_nodes[1] , \n",
    "                \"jointJ\": joint_nodes[2]}\n",
    "\n",
    "member_2 = { \"E\":210_000_000 ,  \"I\" : 214E-7 , \"A\": 334E-5 , \n",
    "                \"jointI\": joint_nodes[2] , \n",
    "                \"jointJ\": joint_nodes[3]}\n",
    "\n",
    "member_props = {}\n",
    "\n",
    "for member_no , member_property in zip( member_nodes.keys() , [member_1 ,  member_2] ):\n",
    "    \n",
    "    member_props[ member_no ] = member_property   \n",
    "    \n",
    "member_props"
   ]
  },
  {
   "cell_type": "code",
   "execution_count": 39,
   "metadata": {
    "tags": []
   },
   "outputs": [
    {
     "name": "stdout",
     "output_type": "stream",
     "text": [
      "1\n",
      "Transformation matrix = \n",
      "[[ 0.  1.  0.  0.  0.  0.]\n",
      " [-1.  0.  0.  0.  0.  0.]\n",
      " [ 0.  0.  1.  0.  0.  0.]\n",
      " [ 0.  0.  0.  0.  1.  0.]\n",
      " [ 0.  0.  0. -1.  0.  0.]\n",
      " [ 0.  0.  0.  0.  0.  1.]]\n",
      "and member stiffnes matrix = \n",
      "[[ 233800.               0.               0.         -233800.\n",
      "        0.               0.        ]\n",
      " [      0.            1997.33333333    2996.               0.\n",
      "    -1997.33333333    2996.        ]\n",
      " [      0.            2996.            5992.               0.\n",
      "    -2996.            2996.        ]\n",
      " [-233800.               0.               0.          233800.\n",
      "        0.               0.        ]\n",
      " [      0.           -1997.33333333   -2996.               0.\n",
      "     1997.33333333   -2996.        ]\n",
      " [      0.            2996.            2996.               0.\n",
      "    -2996.            5992.        ]]\n",
      "==================================================================================================== \n",
      " [[   1997.33333333       0.           -2996.           -1997.33333333\n",
      "        0.           -2996.        ]\n",
      " [      0.          233800.               0.               0.\n",
      "  -233800.               0.        ]\n",
      " [  -2996.               0.            5992.            2996.\n",
      "        0.            2996.        ]\n",
      " [  -1997.33333333       0.            2996.            1997.33333333\n",
      "        0.            2996.        ]\n",
      " [      0.         -233800.               0.               0.\n",
      "   233800.               0.        ]\n",
      " [  -2996.               0.            2996.            2996.\n",
      "        0.            5992.        ]]\n",
      "2\n",
      "Transformation matrix = \n",
      "[[1. 0. 0. 0. 0. 0.]\n",
      " [0. 1. 0. 0. 0. 0.]\n",
      " [0. 0. 1. 0. 0. 0.]\n",
      " [0. 0. 0. 1. 0. 0.]\n",
      " [0. 0. 0. 0. 1. 0.]\n",
      " [0. 0. 0. 0. 0. 1.]]\n",
      "and member stiffnes matrix = \n",
      "[[ 233800.               0.               0.         -233800.\n",
      "        0.               0.        ]\n",
      " [      0.            1997.33333333    2996.               0.\n",
      "    -1997.33333333    2996.        ]\n",
      " [      0.            2996.            5992.               0.\n",
      "    -2996.            2996.        ]\n",
      " [-233800.               0.               0.          233800.\n",
      "        0.               0.        ]\n",
      " [      0.           -1997.33333333   -2996.               0.\n",
      "     1997.33333333   -2996.        ]\n",
      " [      0.            2996.            2996.               0.\n",
      "    -2996.            5992.        ]]\n",
      "==================================================================================================== \n",
      " [[ 233800.               0.               0.         -233800.\n",
      "        0.               0.        ]\n",
      " [      0.            1997.33333333    2996.               0.\n",
      "    -1997.33333333    2996.        ]\n",
      " [      0.            2996.            5992.               0.\n",
      "    -2996.            2996.        ]\n",
      " [-233800.               0.               0.          233800.\n",
      "        0.               0.        ]\n",
      " [      0.           -1997.33333333   -2996.               0.\n",
      "     1997.33333333   -2996.        ]\n",
      " [      0.            2996.            2996.               0.\n",
      "    -2996.            5992.        ]]\n",
      "~~~~~~~~~~~~~~~~~~~~~~~~~~~~~~~~~~~~~~~~~~~~~~~~~~~~~~~~~~~~~~~~~~~~~~~~~~~~~~~~~~~~~~~~~~~~~~~~~~~~\n"
     ]
    }
   ],
   "source": [
    "# Data structure for member stiffness matrices\n",
    "k_members = {}\n",
    "\n",
    "for member_no , member_property in member_props.items() : \n",
    "    print( member_no)\n",
    "    k_members[member_no] =  EQE512_functions.column_stiffness_matrix_global(member_property , show_T_K= True )\n",
    "    \n",
    "    print( \"=\"*100 , \"\\n\" , k_members[member_no])\n",
    "    \n",
    "print( \"~\"*100)  "
   ]
  },
  {
   "cell_type": "code",
   "execution_count": 41,
   "metadata": {},
   "outputs": [
    {
     "data": {
      "text/plain": [
       "array([[   1997,       0,   -2996,   -1997,       0,   -2996,       0,\n",
       "              0,       0],\n",
       "       [      0,  233800,       0,       0, -233800,       0,       0,\n",
       "              0,       0],\n",
       "       [  -2996,       0,    5992,    2996,       0,    2996,       0,\n",
       "              0,       0],\n",
       "       [  -1997,       0,    2996,  235797,       0,    2996, -233800,\n",
       "              0,       0],\n",
       "       [      0, -233800,       0,       0,  235797,    2996,       0,\n",
       "          -1997,    2996],\n",
       "       [  -2996,       0,    2996,    2996,    2996,   11984,       0,\n",
       "          -2996,    2996],\n",
       "       [      0,       0,       0, -233800,       0,       0,  233800,\n",
       "              0,       0],\n",
       "       [      0,       0,       0,       0,   -1997,   -2996,       0,\n",
       "           1997,   -2996],\n",
       "       [      0,       0,       0,       0,    2996,    2996,       0,\n",
       "          -2996,    5992]])"
      ]
     },
     "execution_count": 41,
     "metadata": {},
     "output_type": "execute_result"
    }
   ],
   "source": [
    "K = EQE512_functions.system_stiffness_matrix( k_members , joint_nodes , member_nodes , DOF = 3)\n",
    "K"
   ]
  },
  {
   "cell_type": "markdown",
   "metadata": {},
   "source": [
    "Let's check the result \n",
    "\n",
    "<img src=\"./figures/Week07-FrameExample-Stiffness_matrix.png\">\n",
    "\n",
    "---"
   ]
  },
  {
   "cell_type": "code",
   "execution_count": null,
   "metadata": {},
   "outputs": [],
   "source": [
    "# Mapping and numbering\n",
    "DOF = 3\n",
    "#Nodes' names with coordinates\n",
    "#joint_nodes = {1:[0,0] , 2:[0,3], 3:[3,3]}\n",
    "\n",
    "# Members' names and nodes\n",
    "member_nodes= {1:[1,2] , 2:[2,3]}"
   ]
  },
  {
   "cell_type": "code",
   "execution_count": 119,
   "metadata": {
    "tags": []
   },
   "outputs": [
    {
     "data": {
      "image/png": "[encoded data removed]",
      "text/plain": [
       "<Figure size 432x288 with 1 Axes>"
      ]
     },
     "metadata": {
      "needs_background": "light"
     },
     "output_type": "display_data"
    }
   ],
   "source": [
    "joint_nodes = {}\n",
    "isim = 1\n",
    "for i in range(0,13,5) :\n",
    "    for j in range(0,9,4):\n",
    "        plt.plot( i , j , marker = \"o\", ms = 10 )\n",
    "        joint_nodes[isim ] = [i,j]\n",
    "        plt.text( i+.1, j , isim)\n",
    "        isim += 1\n",
    "\n",
    "plt.axhline()\n",
    "plt.ylim(bottom = 0 )\n",
    "plt.box(False)"
   ]
  },
  {
   "cell_type": "code",
   "execution_count": 120,
   "metadata": {
    "tags": []
   },
   "outputs": [
    {
     "data": {
      "text/plain": [
       "{1: [0, 0],\n",
       " 2: [0, 4],\n",
       " 3: [0, 8],\n",
       " 4: [5, 0],\n",
       " 5: [5, 4],\n",
       " 6: [5, 8],\n",
       " 7: [10, 0],\n",
       " 8: [10, 4],\n",
       " 9: [10, 8]}"
      ]
     },
     "execution_count": 120,
     "metadata": {},
     "output_type": "execute_result"
    }
   ],
   "source": [
    "joint_nodes"
   ]
  },
  {
   "cell_type": "code",
   "execution_count": 121,
   "metadata": {
    "tags": []
   },
   "outputs": [
    {
     "data": {
      "text/plain": [
       "{1: [1, 2],\n",
       " 2: [2, 3],\n",
       " 3: [4, 5],\n",
       " 4: [5, 6],\n",
       " 5: [7, 8],\n",
       " 6: [8, 9],\n",
       " 7: [2, 5],\n",
       " 8: [5, 8],\n",
       " 9: [3, 6],\n",
       " 10: [6, 9]}"
      ]
     },
     "execution_count": 121,
     "metadata": {},
     "output_type": "execute_result"
    }
   ],
   "source": [
    "member_nodes= {1:[1,2] , 2:[2,3] , 3:[4,5], 4:[5,6],5:[7,8] , 6:[8,9], 7:[2,5] , 8:[5,8],9:[3,6] , 10:[6,9]}\n",
    "member_nodes"
   ]
  },
  {
   "cell_type": "code",
   "execution_count": 122,
   "metadata": {},
   "outputs": [
    {
     "data": {
      "image/png": "[encoded data removed]",
      "text/plain": [
       "<Figure size 432x288 with 1 Axes>"
      ]
     },
     "metadata": {
      "needs_background": "light"
     },
     "output_type": "display_data"
    }
   ],
   "source": [
    "# Member properties\n",
    "column = {\"E\":30_000_000 ,  \"I\" : 200 , \"A\": 100 }\n",
    "beam = { \"E\":30_000_000 ,  \"I\" : 100 , \"A\": 50 }\n",
    "\n",
    "plt.figure()\n",
    "member_props = {}\n",
    "for member , nodes in member_nodes.items():\n",
    "    #print( member , joint_nodes[nodes[0]],  joint_nodes[nodes[1]])\n",
    "    \n",
    "    plt.plot( [joint_nodes[nodes[0]][0] , joint_nodes[nodes[1]][0]] ,\n",
    "            [joint_nodes[nodes[0]][1] , joint_nodes[nodes[1]][1]],c= \"k\", marker = \"o\",ms = 10) \n",
    "    \n",
    "    plt.text( joint_nodes[nodes[0]][0]+.2,joint_nodes[nodes[0]][1]+.3 , nodes[0])\n",
    "    plt.text( joint_nodes[nodes[1]][0]+.2,joint_nodes[nodes[1]][1]+.3 , nodes[1])\n",
    "    \n",
    "    \n",
    "    if joint_nodes[nodes[0]][0] ==  joint_nodes[nodes[1]][0]:\n",
    "     #   print( \"Column\")\n",
    "        member_props[member] = {\"E\":30_000_000 ,  \"I\" : 200 , \"A\": 100 , 'jointI': joint_nodes[nodes[0]],  'jointJ':joint_nodes[nodes[1]]}\n",
    "    else: \n",
    "      #  print(\"Beam\")\n",
    "        member_props[member] = {\"E\":30_000_000 ,  \"I\" : 100 , \"A\": 50, 'jointI':joint_nodes[nodes[0]],  'jointJ':joint_nodes[nodes[1]]}\n",
    "plt.axhline(c = \"black\",lw= 10)\n",
    "plt.ylim(bottom = 0 )\n",
    "plt.box(False)"
   ]
  },
  {
   "cell_type": "code",
   "execution_count": 123,
   "metadata": {
    "collapsed": true,
    "jupyter": {
     "outputs_hidden": true
    },
    "tags": []
   },
   "outputs": [
    {
     "name": "stdout",
     "output_type": "stream",
     "text": [
      "1\n",
      "Transformation matrix = \n",
      "[[ 0.  1.  0.  0.  0.  0.]\n",
      " [-1.  0.  0.  0.  0.  0.]\n",
      " [ 0.  0.  1.  0.  0.  0.]\n",
      " [ 0.  0.  0.  0.  1.  0.]\n",
      " [ 0.  0.  0. -1.  0.  0.]\n",
      " [ 0.  0.  0.  0.  0.  1.]]\n",
      "and member stiffnes matrix = \n",
      "[[ 7.500e+08  0.000e+00  0.000e+00 -7.500e+08  0.000e+00  0.000e+00]\n",
      " [ 0.000e+00  1.125e+09  2.250e+09  0.000e+00 -1.125e+09  2.250e+09]\n",
      " [ 0.000e+00  2.250e+09  6.000e+09  0.000e+00 -2.250e+09  3.000e+09]\n",
      " [-7.500e+08  0.000e+00  0.000e+00  7.500e+08  0.000e+00  0.000e+00]\n",
      " [ 0.000e+00 -1.125e+09 -2.250e+09  0.000e+00  1.125e+09 -2.250e+09]\n",
      " [ 0.000e+00  2.250e+09  3.000e+09  0.000e+00 -2.250e+09  6.000e+09]]\n",
      "==================================================================================================== \n",
      " [[ 1.125e+09  0.000e+00 -2.250e+09 -1.125e+09  0.000e+00 -2.250e+09]\n",
      " [ 0.000e+00  7.500e+08  0.000e+00  0.000e+00 -7.500e+08  0.000e+00]\n",
      " [-2.250e+09  0.000e+00  6.000e+09  2.250e+09  0.000e+00  3.000e+09]\n",
      " [-1.125e+09  0.000e+00  2.250e+09  1.125e+09  0.000e+00  2.250e+09]\n",
      " [ 0.000e+00 -7.500e+08  0.000e+00  0.000e+00  7.500e+08  0.000e+00]\n",
      " [-2.250e+09  0.000e+00  3.000e+09  2.250e+09  0.000e+00  6.000e+09]]\n",
      "2\n",
      "Transformation matrix = \n",
      "[[ 0.  1.  0.  0.  0.  0.]\n",
      " [-1.  0.  0.  0.  0.  0.]\n",
      " [ 0.  0.  1.  0.  0.  0.]\n",
      " [ 0.  0.  0.  0.  1.  0.]\n",
      " [ 0.  0.  0. -1.  0.  0.]\n",
      " [ 0.  0.  0.  0.  0.  1.]]\n",
      "and member stiffnes matrix = \n",
      "[[ 7.500e+08  0.000e+00  0.000e+00 -7.500e+08  0.000e+00  0.000e+00]\n",
      " [ 0.000e+00  1.125e+09  2.250e+09  0.000e+00 -1.125e+09  2.250e+09]\n",
      " [ 0.000e+00  2.250e+09  6.000e+09  0.000e+00 -2.250e+09  3.000e+09]\n",
      " [-7.500e+08  0.000e+00  0.000e+00  7.500e+08  0.000e+00  0.000e+00]\n",
      " [ 0.000e+00 -1.125e+09 -2.250e+09  0.000e+00  1.125e+09 -2.250e+09]\n",
      " [ 0.000e+00  2.250e+09  3.000e+09  0.000e+00 -2.250e+09  6.000e+09]]\n",
      "==================================================================================================== \n",
      " [[ 1.125e+09  0.000e+00 -2.250e+09 -1.125e+09  0.000e+00 -2.250e+09]\n",
      " [ 0.000e+00  7.500e+08  0.000e+00  0.000e+00 -7.500e+08  0.000e+00]\n",
      " [-2.250e+09  0.000e+00  6.000e+09  2.250e+09  0.000e+00  3.000e+09]\n",
      " [-1.125e+09  0.000e+00  2.250e+09  1.125e+09  0.000e+00  2.250e+09]\n",
      " [ 0.000e+00 -7.500e+08  0.000e+00  0.000e+00  7.500e+08  0.000e+00]\n",
      " [-2.250e+09  0.000e+00  3.000e+09  2.250e+09  0.000e+00  6.000e+09]]\n",
      "3\n",
      "Transformation matrix = \n",
      "[[ 0.  1.  0.  0.  0.  0.]\n",
      " [-1.  0.  0.  0.  0.  0.]\n",
      " [ 0.  0.  1.  0.  0.  0.]\n",
      " [ 0.  0.  0.  0.  1.  0.]\n",
      " [ 0.  0.  0. -1.  0.  0.]\n",
      " [ 0.  0.  0.  0.  0.  1.]]\n",
      "and member stiffnes matrix = \n",
      "[[ 7.500e+08  0.000e+00  0.000e+00 -7.500e+08  0.000e+00  0.000e+00]\n",
      " [ 0.000e+00  1.125e+09  2.250e+09  0.000e+00 -1.125e+09  2.250e+09]\n",
      " [ 0.000e+00  2.250e+09  6.000e+09  0.000e+00 -2.250e+09  3.000e+09]\n",
      " [-7.500e+08  0.000e+00  0.000e+00  7.500e+08  0.000e+00  0.000e+00]\n",
      " [ 0.000e+00 -1.125e+09 -2.250e+09  0.000e+00  1.125e+09 -2.250e+09]\n",
      " [ 0.000e+00  2.250e+09  3.000e+09  0.000e+00 -2.250e+09  6.000e+09]]\n",
      "==================================================================================================== \n",
      " [[ 1.125e+09  0.000e+00 -2.250e+09 -1.125e+09  0.000e+00 -2.250e+09]\n",
      " [ 0.000e+00  7.500e+08  0.000e+00  0.000e+00 -7.500e+08  0.000e+00]\n",
      " [-2.250e+09  0.000e+00  6.000e+09  2.250e+09  0.000e+00  3.000e+09]\n",
      " [-1.125e+09  0.000e+00  2.250e+09  1.125e+09  0.000e+00  2.250e+09]\n",
      " [ 0.000e+00 -7.500e+08  0.000e+00  0.000e+00  7.500e+08  0.000e+00]\n",
      " [-2.250e+09  0.000e+00  3.000e+09  2.250e+09  0.000e+00  6.000e+09]]\n",
      "4\n",
      "Transformation matrix = \n",
      "[[ 0.  1.  0.  0.  0.  0.]\n",
      " [-1.  0.  0.  0.  0.  0.]\n",
      " [ 0.  0.  1.  0.  0.  0.]\n",
      " [ 0.  0.  0.  0.  1.  0.]\n",
      " [ 0.  0.  0. -1.  0.  0.]\n",
      " [ 0.  0.  0.  0.  0.  1.]]\n",
      "and member stiffnes matrix = \n",
      "[[ 7.500e+08  0.000e+00  0.000e+00 -7.500e+08  0.000e+00  0.000e+00]\n",
      " [ 0.000e+00  1.125e+09  2.250e+09  0.000e+00 -1.125e+09  2.250e+09]\n",
      " [ 0.000e+00  2.250e+09  6.000e+09  0.000e+00 -2.250e+09  3.000e+09]\n",
      " [-7.500e+08  0.000e+00  0.000e+00  7.500e+08  0.000e+00  0.000e+00]\n",
      " [ 0.000e+00 -1.125e+09 -2.250e+09  0.000e+00  1.125e+09 -2.250e+09]\n",
      " [ 0.000e+00  2.250e+09  3.000e+09  0.000e+00 -2.250e+09  6.000e+09]]\n",
      "==================================================================================================== \n",
      " [[ 1.125e+09  0.000e+00 -2.250e+09 -1.125e+09  0.000e+00 -2.250e+09]\n",
      " [ 0.000e+00  7.500e+08  0.000e+00  0.000e+00 -7.500e+08  0.000e+00]\n",
      " [-2.250e+09  0.000e+00  6.000e+09  2.250e+09  0.000e+00  3.000e+09]\n",
      " [-1.125e+09  0.000e+00  2.250e+09  1.125e+09  0.000e+00  2.250e+09]\n",
      " [ 0.000e+00 -7.500e+08  0.000e+00  0.000e+00  7.500e+08  0.000e+00]\n",
      " [-2.250e+09  0.000e+00  3.000e+09  2.250e+09  0.000e+00  6.000e+09]]\n",
      "5\n",
      "Transformation matrix = \n",
      "[[ 0.  1.  0.  0.  0.  0.]\n",
      " [-1.  0.  0.  0.  0.  0.]\n",
      " [ 0.  0.  1.  0.  0.  0.]\n",
      " [ 0.  0.  0.  0.  1.  0.]\n",
      " [ 0.  0.  0. -1.  0.  0.]\n",
      " [ 0.  0.  0.  0.  0.  1.]]\n",
      "and member stiffnes matrix = \n",
      "[[ 7.500e+08  0.000e+00  0.000e+00 -7.500e+08  0.000e+00  0.000e+00]\n",
      " [ 0.000e+00  1.125e+09  2.250e+09  0.000e+00 -1.125e+09  2.250e+09]\n",
      " [ 0.000e+00  2.250e+09  6.000e+09  0.000e+00 -2.250e+09  3.000e+09]\n",
      " [-7.500e+08  0.000e+00  0.000e+00  7.500e+08  0.000e+00  0.000e+00]\n",
      " [ 0.000e+00 -1.125e+09 -2.250e+09  0.000e+00  1.125e+09 -2.250e+09]\n",
      " [ 0.000e+00  2.250e+09  3.000e+09  0.000e+00 -2.250e+09  6.000e+09]]\n",
      "==================================================================================================== \n",
      " [[ 1.125e+09  0.000e+00 -2.250e+09 -1.125e+09  0.000e+00 -2.250e+09]\n",
      " [ 0.000e+00  7.500e+08  0.000e+00  0.000e+00 -7.500e+08  0.000e+00]\n",
      " [-2.250e+09  0.000e+00  6.000e+09  2.250e+09  0.000e+00  3.000e+09]\n",
      " [-1.125e+09  0.000e+00  2.250e+09  1.125e+09  0.000e+00  2.250e+09]\n",
      " [ 0.000e+00 -7.500e+08  0.000e+00  0.000e+00  7.500e+08  0.000e+00]\n",
      " [-2.250e+09  0.000e+00  3.000e+09  2.250e+09  0.000e+00  6.000e+09]]\n",
      "6\n",
      "Transformation matrix = \n",
      "[[ 0.  1.  0.  0.  0.  0.]\n",
      " [-1.  0.  0.  0.  0.  0.]\n",
      " [ 0.  0.  1.  0.  0.  0.]\n",
      " [ 0.  0.  0.  0.  1.  0.]\n",
      " [ 0.  0.  0. -1.  0.  0.]\n",
      " [ 0.  0.  0.  0.  0.  1.]]\n",
      "and member stiffnes matrix = \n",
      "[[ 7.500e+08  0.000e+00  0.000e+00 -7.500e+08  0.000e+00  0.000e+00]\n",
      " [ 0.000e+00  1.125e+09  2.250e+09  0.000e+00 -1.125e+09  2.250e+09]\n",
      " [ 0.000e+00  2.250e+09  6.000e+09  0.000e+00 -2.250e+09  3.000e+09]\n",
      " [-7.500e+08  0.000e+00  0.000e+00  7.500e+08  0.000e+00  0.000e+00]\n",
      " [ 0.000e+00 -1.125e+09 -2.250e+09  0.000e+00  1.125e+09 -2.250e+09]\n",
      " [ 0.000e+00  2.250e+09  3.000e+09  0.000e+00 -2.250e+09  6.000e+09]]\n",
      "==================================================================================================== \n",
      " [[ 1.125e+09  0.000e+00 -2.250e+09 -1.125e+09  0.000e+00 -2.250e+09]\n",
      " [ 0.000e+00  7.500e+08  0.000e+00  0.000e+00 -7.500e+08  0.000e+00]\n",
      " [-2.250e+09  0.000e+00  6.000e+09  2.250e+09  0.000e+00  3.000e+09]\n",
      " [-1.125e+09  0.000e+00  2.250e+09  1.125e+09  0.000e+00  2.250e+09]\n",
      " [ 0.000e+00 -7.500e+08  0.000e+00  0.000e+00  7.500e+08  0.000e+00]\n",
      " [-2.250e+09  0.000e+00  3.000e+09  2.250e+09  0.000e+00  6.000e+09]]\n",
      "7\n",
      "Transformation matrix = \n",
      "[[1. 0. 0. 0. 0. 0.]\n",
      " [0. 1. 0. 0. 0. 0.]\n",
      " [0. 0. 1. 0. 0. 0.]\n",
      " [0. 0. 0. 1. 0. 0.]\n",
      " [0. 0. 0. 0. 1. 0.]\n",
      " [0. 0. 0. 0. 0. 1.]]\n",
      "and member stiffnes matrix = \n",
      "[[ 3.00e+08  0.00e+00  0.00e+00 -3.00e+08  0.00e+00  0.00e+00]\n",
      " [ 0.00e+00  2.88e+08  7.20e+08  0.00e+00 -2.88e+08  7.20e+08]\n",
      " [ 0.00e+00  7.20e+08  2.40e+09  0.00e+00 -7.20e+08  1.20e+09]\n",
      " [-3.00e+08  0.00e+00  0.00e+00  3.00e+08  0.00e+00  0.00e+00]\n",
      " [ 0.00e+00 -2.88e+08 -7.20e+08  0.00e+00  2.88e+08 -7.20e+08]\n",
      " [ 0.00e+00  7.20e+08  1.20e+09  0.00e+00 -7.20e+08  2.40e+09]]\n",
      "==================================================================================================== \n",
      " [[ 3.00e+08  0.00e+00  0.00e+00 -3.00e+08  0.00e+00  0.00e+00]\n",
      " [ 0.00e+00  2.88e+08  7.20e+08  0.00e+00 -2.88e+08  7.20e+08]\n",
      " [ 0.00e+00  7.20e+08  2.40e+09  0.00e+00 -7.20e+08  1.20e+09]\n",
      " [-3.00e+08  0.00e+00  0.00e+00  3.00e+08  0.00e+00  0.00e+00]\n",
      " [ 0.00e+00 -2.88e+08 -7.20e+08  0.00e+00  2.88e+08 -7.20e+08]\n",
      " [ 0.00e+00  7.20e+08  1.20e+09  0.00e+00 -7.20e+08  2.40e+09]]\n",
      "8\n",
      "Transformation matrix = \n",
      "[[1. 0. 0. 0. 0. 0.]\n",
      " [0. 1. 0. 0. 0. 0.]\n",
      " [0. 0. 1. 0. 0. 0.]\n",
      " [0. 0. 0. 1. 0. 0.]\n",
      " [0. 0. 0. 0. 1. 0.]\n",
      " [0. 0. 0. 0. 0. 1.]]\n",
      "and member stiffnes matrix = \n",
      "[[ 3.00e+08  0.00e+00  0.00e+00 -3.00e+08  0.00e+00  0.00e+00]\n",
      " [ 0.00e+00  2.88e+08  7.20e+08  0.00e+00 -2.88e+08  7.20e+08]\n",
      " [ 0.00e+00  7.20e+08  2.40e+09  0.00e+00 -7.20e+08  1.20e+09]\n",
      " [-3.00e+08  0.00e+00  0.00e+00  3.00e+08  0.00e+00  0.00e+00]\n",
      " [ 0.00e+00 -2.88e+08 -7.20e+08  0.00e+00  2.88e+08 -7.20e+08]\n",
      " [ 0.00e+00  7.20e+08  1.20e+09  0.00e+00 -7.20e+08  2.40e+09]]\n",
      "==================================================================================================== \n",
      " [[ 3.00e+08  0.00e+00  0.00e+00 -3.00e+08  0.00e+00  0.00e+00]\n",
      " [ 0.00e+00  2.88e+08  7.20e+08  0.00e+00 -2.88e+08  7.20e+08]\n",
      " [ 0.00e+00  7.20e+08  2.40e+09  0.00e+00 -7.20e+08  1.20e+09]\n",
      " [-3.00e+08  0.00e+00  0.00e+00  3.00e+08  0.00e+00  0.00e+00]\n",
      " [ 0.00e+00 -2.88e+08 -7.20e+08  0.00e+00  2.88e+08 -7.20e+08]\n",
      " [ 0.00e+00  7.20e+08  1.20e+09  0.00e+00 -7.20e+08  2.40e+09]]\n",
      "9\n",
      "Transformation matrix = \n",
      "[[1. 0. 0. 0. 0. 0.]\n",
      " [0. 1. 0. 0. 0. 0.]\n",
      " [0. 0. 1. 0. 0. 0.]\n",
      " [0. 0. 0. 1. 0. 0.]\n",
      " [0. 0. 0. 0. 1. 0.]\n",
      " [0. 0. 0. 0. 0. 1.]]\n",
      "and member stiffnes matrix = \n",
      "[[ 3.00e+08  0.00e+00  0.00e+00 -3.00e+08  0.00e+00  0.00e+00]\n",
      " [ 0.00e+00  2.88e+08  7.20e+08  0.00e+00 -2.88e+08  7.20e+08]\n",
      " [ 0.00e+00  7.20e+08  2.40e+09  0.00e+00 -7.20e+08  1.20e+09]\n",
      " [-3.00e+08  0.00e+00  0.00e+00  3.00e+08  0.00e+00  0.00e+00]\n",
      " [ 0.00e+00 -2.88e+08 -7.20e+08  0.00e+00  2.88e+08 -7.20e+08]\n",
      " [ 0.00e+00  7.20e+08  1.20e+09  0.00e+00 -7.20e+08  2.40e+09]]\n",
      "==================================================================================================== \n",
      " [[ 3.00e+08  0.00e+00  0.00e+00 -3.00e+08  0.00e+00  0.00e+00]\n",
      " [ 0.00e+00  2.88e+08  7.20e+08  0.00e+00 -2.88e+08  7.20e+08]\n",
      " [ 0.00e+00  7.20e+08  2.40e+09  0.00e+00 -7.20e+08  1.20e+09]\n",
      " [-3.00e+08  0.00e+00  0.00e+00  3.00e+08  0.00e+00  0.00e+00]\n",
      " [ 0.00e+00 -2.88e+08 -7.20e+08  0.00e+00  2.88e+08 -7.20e+08]\n",
      " [ 0.00e+00  7.20e+08  1.20e+09  0.00e+00 -7.20e+08  2.40e+09]]\n",
      "10\n",
      "Transformation matrix = \n",
      "[[1. 0. 0. 0. 0. 0.]\n",
      " [0. 1. 0. 0. 0. 0.]\n",
      " [0. 0. 1. 0. 0. 0.]\n",
      " [0. 0. 0. 1. 0. 0.]\n",
      " [0. 0. 0. 0. 1. 0.]\n",
      " [0. 0. 0. 0. 0. 1.]]\n",
      "and member stiffnes matrix = \n",
      "[[ 3.00e+08  0.00e+00  0.00e+00 -3.00e+08  0.00e+00  0.00e+00]\n",
      " [ 0.00e+00  2.88e+08  7.20e+08  0.00e+00 -2.88e+08  7.20e+08]\n",
      " [ 0.00e+00  7.20e+08  2.40e+09  0.00e+00 -7.20e+08  1.20e+09]\n",
      " [-3.00e+08  0.00e+00  0.00e+00  3.00e+08  0.00e+00  0.00e+00]\n",
      " [ 0.00e+00 -2.88e+08 -7.20e+08  0.00e+00  2.88e+08 -7.20e+08]\n",
      " [ 0.00e+00  7.20e+08  1.20e+09  0.00e+00 -7.20e+08  2.40e+09]]\n",
      "==================================================================================================== \n",
      " [[ 3.00e+08  0.00e+00  0.00e+00 -3.00e+08  0.00e+00  0.00e+00]\n",
      " [ 0.00e+00  2.88e+08  7.20e+08  0.00e+00 -2.88e+08  7.20e+08]\n",
      " [ 0.00e+00  7.20e+08  2.40e+09  0.00e+00 -7.20e+08  1.20e+09]\n",
      " [-3.00e+08  0.00e+00  0.00e+00  3.00e+08  0.00e+00  0.00e+00]\n",
      " [ 0.00e+00 -2.88e+08 -7.20e+08  0.00e+00  2.88e+08 -7.20e+08]\n",
      " [ 0.00e+00  7.20e+08  1.20e+09  0.00e+00 -7.20e+08  2.40e+09]]\n",
      "~~~~~~~~~~~~~~~~~~~~~~~~~~~~~~~~~~~~~~~~~~~~~~~~~~~~~~~~~~~~~~~~~~~~~~~~~~~~~~~~~~~~~~~~~~~~~~~~~~~~\n"
     ]
    }
   ],
   "source": [
    "# Data structure for member stiffness matrices\n",
    "k_members = {}\n",
    "\n",
    "for member_no , member_property in member_props.items() : \n",
    "    print( member_no)\n",
    "    k_members[member_no] =  EQE512_functions.column_stiffness_matrix_global(member_property , show_T_K= True )\n",
    "    \n",
    "    print( \"=\"*100 , \"\\n\" , k_members[member_no])\n",
    "    \n",
    "print( \"~\"*100)  "
   ]
  },
  {
   "cell_type": "code",
   "execution_count": 84,
   "metadata": {
    "collapsed": true,
    "jupyter": {
     "outputs_hidden": true
    },
    "tags": []
   },
   "outputs": [
    {
     "data": {
      "text/plain": [
       "array([[ 1125000000,           0, -2147483648, -1125000000,           0,\n",
       "        -2147483648,           0,           0,           0,           0,\n",
       "                  0,           0,           0,           0,           0,\n",
       "                  0,           0,           0,           0,           0,\n",
       "                  0,           0,           0,           0,           0,\n",
       "                  0,           0],\n",
       "       [          0,   750000000,           0,           0,  -750000000,\n",
       "                  0,           0,           0,           0,           0,\n",
       "                  0,           0,           0,           0,           0,\n",
       "                  0,           0,           0,           0,           0,\n",
       "                  0,           0,           0,           0,           0,\n",
       "                  0,           0],\n",
       "       [-2147483648,           0, -2147483648, -2147483648,           0,\n",
       "        -2147483648,           0,           0,           0,           0,\n",
       "                  0,           0,           0,           0,           0,\n",
       "                  0,           0,           0,           0,           0,\n",
       "                  0,           0,           0,           0,           0,\n",
       "                  0,           0],\n",
       "       [-1125000000,           0, -2147483648, -1847483648,           0,\n",
       "        -2147483648, -1125000000,           0, -2147483648,           0,\n",
       "                  0,           0,  -300000000,           0,           0,\n",
       "                  0,           0,           0,           0,           0,\n",
       "                  0,           0,           0,           0,           0,\n",
       "                  0,           0],\n",
       "       [          0,  -750000000,           0,           0,  1788000000,\n",
       "          720000000,           0,  -750000000,           0,           0,\n",
       "                  0,           0,           0,  -288000000,   720000000,\n",
       "                  0,           0,           0,           0,           0,\n",
       "                  0,           0,           0,           0,           0,\n",
       "                  0,           0],\n",
       "       [-2147483648,           0, -2147483648, -2147483648,   720000000,\n",
       "          252516352, -2147483648,           0, -2147483648,           0,\n",
       "                  0,           0,           0,  -720000000,  1200000000,\n",
       "                  0,           0,           0,           0,           0,\n",
       "                  0,           0,           0,           0,           0,\n",
       "                  0,           0],\n",
       "       [          0,           0,           0, -1125000000,           0,\n",
       "        -2147483648,  1425000000,           0, -2147483648,           0,\n",
       "                  0,           0,           0,           0,           0,\n",
       "         -300000000,           0,           0,           0,           0,\n",
       "                  0,           0,           0,           0,           0,\n",
       "                  0,           0],\n",
       "       [          0,           0,           0,           0,  -750000000,\n",
       "                  0,           0,  1038000000,   720000000,           0,\n",
       "                  0,           0,           0,           0,           0,\n",
       "                  0,  -288000000,   720000000,           0,           0,\n",
       "                  0,           0,           0,           0,           0,\n",
       "                  0,           0],\n",
       "       [          0,           0,           0, -2147483648,           0,\n",
       "        -2147483648, -2147483648,   720000000,   252516352,           0,\n",
       "                  0,           0,           0,           0,           0,\n",
       "                  0,  -720000000,  1200000000,           0,           0,\n",
       "                  0,           0,           0,           0,           0,\n",
       "                  0,           0],\n",
       "       [          0,           0,           0,           0,           0,\n",
       "                  0,           0,           0,           0,  1125000000,\n",
       "                  0, -2147483648, -1125000000,           0, -2147483648,\n",
       "                  0,           0,           0,           0,           0,\n",
       "                  0,           0,           0,           0,           0,\n",
       "                  0,           0],\n",
       "       [          0,           0,           0,           0,           0,\n",
       "                  0,           0,           0,           0,           0,\n",
       "          750000000,           0,           0,  -750000000,           0,\n",
       "                  0,           0,           0,           0,           0,\n",
       "                  0,           0,           0,           0,           0,\n",
       "                  0,           0],\n",
       "       [          0,           0,           0,           0,           0,\n",
       "                  0,           0,           0,           0, -2147483648,\n",
       "                  0, -2147483648, -2147483648,           0, -2147483648,\n",
       "                  0,           0,           0,           0,           0,\n",
       "                  0,           0,           0,           0,           0,\n",
       "                  0,           0],\n",
       "       [          0,           0,           0,  -300000000,           0,\n",
       "                  0,           0,           0,           0, -1125000000,\n",
       "                  0, -2147483648, -1547483648,           0, -2147483648,\n",
       "        -1125000000,           0, -2147483648,           0,           0,\n",
       "                  0,  -300000000,           0,           0,           0,\n",
       "                  0,           0],\n",
       "       [          0,           0,           0,           0,  -288000000,\n",
       "         -720000000,           0,           0,           0,           0,\n",
       "         -750000000,           0,           0,  2076000000,           0,\n",
       "                  0,  -750000000,           0,           0,           0,\n",
       "                  0,           0,  -288000000,   720000000,           0,\n",
       "                  0,           0],\n",
       "       [          0,           0,           0,           0,   720000000,\n",
       "         1200000000,           0,           0,           0, -2147483648,\n",
       "                  0, -2147483648, -2147483648,           0, -2147483648,\n",
       "        -2147483648,           0, -2147483648,           0,           0,\n",
       "                  0,           0,  -720000000,  1200000000,           0,\n",
       "                  0,           0],\n",
       "       [          0,           0,           0,           0,           0,\n",
       "                  0,  -300000000,           0,           0,           0,\n",
       "                  0,           0, -1125000000,           0, -2147483648,\n",
       "         1725000000,           0, -2147483648,           0,           0,\n",
       "                  0,           0,           0,           0,  -300000000,\n",
       "                  0,           0],\n",
       "       [          0,           0,           0,           0,           0,\n",
       "                  0,           0,  -288000000,  -720000000,           0,\n",
       "                  0,           0,           0,  -750000000,           0,\n",
       "                  0,  1326000000,           0,           0,           0,\n",
       "                  0,           0,           0,           0,           0,\n",
       "         -288000000,   720000000],\n",
       "       [          0,           0,           0,           0,           0,\n",
       "                  0,           0,   720000000,  1200000000,           0,\n",
       "                  0,           0, -2147483648,           0, -2147483648,\n",
       "        -2147483648,           0, -2147483648,           0,           0,\n",
       "                  0,           0,           0,           0,           0,\n",
       "         -720000000,  1200000000],\n",
       "       [          0,           0,           0,           0,           0,\n",
       "                  0,           0,           0,           0,           0,\n",
       "                  0,           0,           0,           0,           0,\n",
       "                  0,           0,           0,  1125000000,           0,\n",
       "        -2147483648, -1125000000,           0, -2147483648,           0,\n",
       "                  0,           0],\n",
       "       [          0,           0,           0,           0,           0,\n",
       "                  0,           0,           0,           0,           0,\n",
       "                  0,           0,           0,           0,           0,\n",
       "                  0,           0,           0,           0,   750000000,\n",
       "                  0,           0,  -750000000,           0,           0,\n",
       "                  0,           0],\n",
       "       [          0,           0,           0,           0,           0,\n",
       "                  0,           0,           0,           0,           0,\n",
       "                  0,           0,           0,           0,           0,\n",
       "                  0,           0,           0, -2147483648,           0,\n",
       "        -2147483648, -2147483648,           0, -2147483648,           0,\n",
       "                  0,           0],\n",
       "       [          0,           0,           0,           0,           0,\n",
       "                  0,           0,           0,           0,           0,\n",
       "                  0,           0,  -300000000,           0,           0,\n",
       "                  0,           0,           0, -1125000000,           0,\n",
       "        -2147483648, -1847483648,           0, -2147483648, -1125000000,\n",
       "                  0, -2147483648],\n",
       "       [          0,           0,           0,           0,           0,\n",
       "                  0,           0,           0,           0,           0,\n",
       "                  0,           0,           0,  -288000000,  -720000000,\n",
       "                  0,           0,           0,           0,  -750000000,\n",
       "                  0,           0,  1788000000,  -720000000,           0,\n",
       "         -750000000,           0],\n",
       "       [          0,           0,           0,           0,           0,\n",
       "                  0,           0,           0,           0,           0,\n",
       "                  0,           0,           0,   720000000,  1200000000,\n",
       "                  0,           0,           0, -2147483648,           0,\n",
       "        -2147483648, -2147483648,  -720000000,   252516352, -2147483648,\n",
       "                  0, -2147483648],\n",
       "       [          0,           0,           0,           0,           0,\n",
       "                  0,           0,           0,           0,           0,\n",
       "                  0,           0,           0,           0,           0,\n",
       "         -300000000,           0,           0,           0,           0,\n",
       "                  0, -1125000000,           0, -2147483648,  1425000000,\n",
       "                  0, -2147483648],\n",
       "       [          0,           0,           0,           0,           0,\n",
       "                  0,           0,           0,           0,           0,\n",
       "                  0,           0,           0,           0,           0,\n",
       "                  0,  -288000000,  -720000000,           0,           0,\n",
       "                  0,           0,  -750000000,           0,           0,\n",
       "         1038000000,  -720000000],\n",
       "       [          0,           0,           0,           0,           0,\n",
       "                  0,           0,           0,           0,           0,\n",
       "                  0,           0,           0,           0,           0,\n",
       "                  0,   720000000,  1200000000,           0,           0,\n",
       "                  0, -2147483648,           0, -2147483648, -2147483648,\n",
       "         -720000000,   252516352]])"
      ]
     },
     "execution_count": 84,
     "metadata": {},
     "output_type": "execute_result"
    }
   ],
   "source": [
    "K = EQE512_functions.system_stiffness_matrix( k_members , joint_nodes , member_nodes , DOF = 3)\n",
    "K"
   ]
  },
  {
   "cell_type": "code",
   "execution_count": 89,
   "metadata": {
    "collapsed": true,
    "jupyter": {
     "outputs_hidden": true
    },
    "tags": []
   },
   "outputs": [
    {
     "name": "stdout",
     "output_type": "stream",
     "text": [
      "Variable                         Type        Data/Info\n",
      "------------------------------------------------------\n",
      "A                                float       0.00334\n",
      "DOF                              int         3\n",
      "E                                float       210000000.0\n",
      "EQE512_functions                 module      <module 'EQE512_functions<...>is\\\\EQE512_functions.py'>\n",
      "I                                float       2.14e-05\n",
      "K                                ndarray     27x27: 729 elems, type `int32`, 2916 bytes\n",
      "T                                ndarray     6x6: 36 elems, type `float64`, 288 bytes\n",
      "beam                             dict        n=3\n",
      "column                           dict        n=3\n",
      "column_stiffness_matrix          function    <function column_stiffnes<...>ix at 0x000001F122002550>\n",
      "column_stiffness_matrix_global   function    <function column_stiffnes<...>al at 0x000001F1220025E0>\n",
      "i                                int         10\n",
      "isim                             int         10\n",
      "j                                int         8\n",
      "joint_nodes                      dict        n=9\n",
      "k                                ndarray     6x6: 36 elems, type `float64`, 288 bytes\n",
      "k_glob                           ndarray     6x6: 36 elems, type `float64`, 288 bytes\n",
      "k_members                        dict        n=10\n",
      "member                           int         10\n",
      "member_1                         dict        n=5\n",
      "member_2                         dict        n=5\n",
      "member_no                        int         10\n",
      "member_nodes                     dict        n=10\n",
      "member_property                  dict        n=5\n",
      "member_props                     dict        n=10\n",
      "nodes                            list        n=2\n",
      "np                               module      <module 'numpy' from 'C:\\<...>ges\\\\numpy\\\\__init__.py'>\n",
      "plt                              module      <module 'matplotlib.pyplo<...>\\\\matplotlib\\\\pyplot.py'>\n",
      "transformation_matrix            function    <function transformation_<...>ix at 0x000001F121BC3D30>\n",
      "x1                               int         0\n",
      "x2                               float       2.5\n",
      "y1                               int         0\n",
      "y2                               float       2.5\n"
     ]
    }
   ],
   "source": [
    "whos"
   ]
  },
  {
   "cell_type": "markdown",
   "metadata": {},
   "source": [
    "---\n",
    "## Support settlements"
   ]
  },
  {
   "cell_type": "code",
   "execution_count": null,
   "metadata": {},
   "outputs": [],
   "source": []
  },
  {
   "cell_type": "code",
   "execution_count": null,
   "metadata": {},
   "outputs": [],
   "source": []
  },
  {
   "cell_type": "code",
   "execution_count": null,
   "metadata": {},
   "outputs": [],
   "source": []
  },
  {
   "cell_type": "markdown",
   "metadata": {
    "tags": []
   },
   "source": [
    "---\n",
    "## Elastic supports"
   ]
  },
  {
   "cell_type": "markdown",
   "metadata": {},
   "source": [
    "$$ {\\large\n",
    "K = \\begin{bmatrix} \n",
    "a & 0 & 0 & a & 0 & 0 \\\\\n",
    "0 & b & c & 0 & 0 & 0 \\\\\n",
    "0 & c & d & 0 & 0 & 0 \\\\\n",
    "a & 0 & 0 & a & 0 & 0 \\\\\n",
    "0 & 0 & 0 & 0 & b & c \\\\\n",
    "0 & 0 & 0 & 0 & b & c\n",
    "\\end{bmatrix}}$$\n",
    "\n",
    "\n",
    "K_axial_stifness = e + K\n",
    "\n",
    "\n",
    "$$ {\\large\n",
    "K = \\begin{bmatrix} \n",
    "a+e & 0 & 0 & a+e & 0 & 0 \\\\\n",
    "0 & b & c & 0 & 0 & 0 \\\\\n",
    "0 & c & d & 0 & 0 & 0 \\\\\n",
    "a+e & 0 & 0 & a+e & 0 & 0 \\\\\n",
    "0 & 0 & 0 & 0 & b & c \\\\\n",
    "0 & 0 & 0 & 0 & b & c\n",
    "\\end{bmatrix}}$$"
   ]
  },
  {
   "cell_type": "code",
   "execution_count": null,
   "metadata": {},
   "outputs": [],
   "source": []
  },
  {
   "cell_type": "code",
   "execution_count": null,
   "metadata": {},
   "outputs": [],
   "source": []
  },
  {
   "cell_type": "markdown",
   "metadata": {},
   "source": [
    "---\n",
    "\n",
    "**NEXT WEEK**\n",
    "The topics for the next week \n",
    "\n",
    "- \"Midterm Exam\"\n",
    "\n",
    "- Term Project : Please set your groups in GTUZEM: Please select your groups until 2021_1115 8am using the [GTUZEM Moodle site](https://gtuzem.gtu.edu.tr/UE2/mod/choice/view.php?id=19200)"
   ]
  }
 ],
 "metadata": {
  "anaconda-cloud": {},
  "celltoolbar": "Slideshow",
  "kernelspec": {
   "display_name": "Python 3",
   "language": "python",
   "name": "python3"
  },
  "language_info": {
   "codemirror_mode": {
    "name": "ipython",
    "version": 3
   },
   "file_extension": ".py",
   "mimetype": "text/x-python",
   "name": "python",
   "nbconvert_exporter": "python",
   "pygments_lexer": "ipython3",
   "version": "3.8.1"
  },
  "toc-autonumbering": false
 },
 "nbformat": 4,
 "nbformat_minor": 4
}
