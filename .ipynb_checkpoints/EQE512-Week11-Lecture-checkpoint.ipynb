{
 "cells": [
  {
   "cell_type": "markdown",
   "metadata": {
    "slideshow": {
     "slide_type": "slide"
    },
    "tags": []
   },
   "source": [
    "<h1 align=\"center\">EQE512 MATRIX METHODS IN STRUCTURAL ANALYSIS \n",
    "<br>\n",
    "<br>\n",
    "Week 11\n",
    "<br>\n",
    "<br>\n",
    "Dynamic characteristics of the systems and application in Earthquake Engineering (MDOF)</h1> \n",
    "\n",
    "<h3 align=\"center\">Dr. Ahmet Anıl Dindar (adindar@gtu.edu.tr)</h3> \n",
    "<h4 align=\"center\">2021 Fall  </h4> "
   ]
  },
  {
   "cell_type": "markdown",
   "metadata": {
    "tags": []
   },
   "source": [
    "---\n",
    "**Today's Topics**\n",
    "\n",
    "This code is composed of three sections, namely \n",
    "\n",
    "A. Pre-process\n",
    "\n",
    "B. Process\n",
    "\n",
    "C. Post-Process\n",
    "\n",
    "---\n",
    "\n",
    "Problem: This is a multistory 2D Elastic RC frame under static loads\n",
    "\n",
    "---"
   ]
  },
  {
   "cell_type": "markdown",
   "metadata": {},
   "source": [
    "# A. Pre-Process"
   ]
  },
  {
   "cell_type": "code",
   "execution_count": 31,
   "metadata": {
    "tags": []
   },
   "outputs": [],
   "source": [
    "# from openseespy import *\n",
    "\n",
    "import openseespy.opensees as ops"
   ]
  },
  {
   "cell_type": "code",
   "execution_count": 32,
   "metadata": {},
   "outputs": [],
   "source": [
    "ops.wipe() # Clear all OS values"
   ]
  },
  {
   "cell_type": "code",
   "execution_count": 33,
   "metadata": {},
   "outputs": [],
   "source": [
    "ops.model( \"Basic\", \"-ndm\", 2 , \"-ndf\", 3) # This is a 2D Frame"
   ]
  },
  {
   "cell_type": "code",
   "execution_count": 34,
   "metadata": {},
   "outputs": [],
   "source": [
    "numBay = 2\n",
    "numFloor = 3"
   ]
  },
  {
   "cell_type": "code",
   "execution_count": 35,
   "metadata": {},
   "outputs": [],
   "source": [
    "bayWidht = 3.0 # m\n",
    "storyHeight = 3.0 # m"
   ]
  },
  {
   "cell_type": "code",
   "execution_count": 36,
   "metadata": {},
   "outputs": [],
   "source": [
    "E = 295000000 # kN/m2\n",
    "massX = 1_000\n",
    "M = 0. \n",
    "coordTransfer = \"Linear\" # Linear Transformation\n",
    "massType = \"-lMass\" # Lumped mass"
   ]
  },
  {
   "cell_type": "code",
   "execution_count": 37,
   "metadata": {},
   "outputs": [],
   "source": [
    "beams = [ \"B20X50\" for item in range( numFloor)]\n",
    "eColumn = [ \"C50X50\" for item in range( numFloor)]\n",
    "iColumn = [ \"C50X50\" for item in range( numFloor)]\n",
    "\n",
    "columns = [eColumn , iColumn , eColumn]"
   ]
  },
  {
   "cell_type": "code",
   "execution_count": 38,
   "metadata": {},
   "outputs": [],
   "source": [
    "Section = { \"C50X50\" : [ 0.5 * .5 , (0.5*0.5**3)/12],\n",
    "          \"B20X50\": [0.2*.5 , (.2*0.5**3)/12]}"
   ]
  },
  {
   "cell_type": "code",
   "execution_count": 39,
   "metadata": {},
   "outputs": [
    {
     "data": {
      "text/plain": [
       "{'C50X50': [0.25, 0.005208333333333333],\n",
       " 'B20X50': [0.1, 0.0020833333333333333]}"
      ]
     },
     "execution_count": 39,
     "metadata": {},
     "output_type": "execute_result"
    }
   ],
   "source": [
    "Section"
   ]
  },
  {
   "cell_type": "code",
   "execution_count": 40,
   "metadata": {},
   "outputs": [],
   "source": [
    "def ElasticBeamColum( eleTag, iNode, jNode, sectType, E, transfTag, M, massType) :\n",
    "    \n",
    "    prop = Section[sectType]\n",
    "    Area = prop[0]\n",
    "    I = prop[1]\n",
    "    \n",
    "    \"\"\"\n",
    "    M = do your own calculation\n",
    "    \"\"\"\n",
    "    \n",
    "    ops.element( \"elasticBeamColumn\", eleTag ,iNode, jNode, Area, E , I , transfTag , \"-mass\", M, massType)"
   ]
  },
  {
   "cell_type": "code",
   "execution_count": 41,
   "metadata": {},
   "outputs": [],
   "source": [
    "import numpy as np\n",
    "axis_h = np.linspace( 0 , (numBay * bayWidht)  ,numBay+1)\n",
    "axis_v = np.linspace( 0 , (numFloor * storyHeight)  ,numFloor+1)\n"
   ]
  },
  {
   "cell_type": "code",
   "execution_count": 42,
   "metadata": {},
   "outputs": [],
   "source": [
    "node_no =  1\n",
    "node_dict = {}\n",
    "floorNo = 0\n",
    "floorNodes = {}\n",
    "nodes = []\n",
    "for i in axis_v:\n",
    "    floorNodes[floorNo] = []\n",
    "    \n",
    "    for j in axis_h:\n",
    "        nodes.append(node_no)\n",
    "\n",
    "        # OPENSEES COMMAND\n",
    "        ops.node( node_no , float(j) , float(i))\n",
    "        \n",
    "        node_dict[node_no] = [float(j) , float(i)]\n",
    "        floorNodes[floorNo].append(node_no)\n",
    "        \n",
    "        \n",
    "        node_no += 1\n",
    "    floorNo += 1"
   ]
  },
  {
   "cell_type": "code",
   "execution_count": 43,
   "metadata": {},
   "outputs": [],
   "source": [
    "for nodeNumber in floorNodes[0]:\n",
    "    ops.fix( nodeNumber , 1,1,1)"
   ]
  },
  {
   "cell_type": "code",
   "execution_count": 44,
   "metadata": {},
   "outputs": [
    {
     "data": {
      "text/plain": [
       "{0: [1, 2, 3], 1: [4, 5, 6], 2: [7, 8, 9], 3: [10, 11, 12]}"
      ]
     },
     "execution_count": 44,
     "metadata": {},
     "output_type": "execute_result"
    }
   ],
   "source": [
    "# Rigid Diaphram Assignment\n",
    "floorNodes"
   ]
  },
  {
   "cell_type": "code",
   "execution_count": 45,
   "metadata": {},
   "outputs": [],
   "source": [
    "for key, value in floorNodes.items():\n",
    "    for item in value[:]:\n",
    "        if item == value[0]:\n",
    "            ops.mass( item , massX , 0.000001 , 0.0000001 )\n",
    "        else: \n",
    "            ops.equalDOF( value[0] , item , 1)"
   ]
  },
  {
   "cell_type": "markdown",
   "metadata": {},
   "source": [
    "Adding columns"
   ]
  },
  {
   "cell_type": "code",
   "execution_count": 46,
   "metadata": {},
   "outputs": [],
   "source": [
    "ops.geomTransf(coordTransfer, 1)\n",
    "column_dict = {}\n",
    "eleTag = 1 \n",
    "for  j in range(0 , numBay + 1):\n",
    "    end1 = j + 1\n",
    "    end2 = end1 + numBay + 1\n",
    "    thisColumn = columns[j]\n",
    "    \n",
    "    for i in range( 0 ,numFloor):\n",
    "        secType = thisColumn[ i]\n",
    "        ElasticBeamColum( eleTag, end1 , end2 , secType , E , 1, M , massType)\n",
    "        column_dict[eleTag] = [end1, end2]\n",
    "        end1 =end2\n",
    "        end2 += numBay + 1\n",
    "        eleTag += 1        "
   ]
  },
  {
   "cell_type": "code",
   "execution_count": 47,
   "metadata": {},
   "outputs": [
    {
     "data": {
      "text/plain": [
       "10"
      ]
     },
     "execution_count": 47,
     "metadata": {},
     "output_type": "execute_result"
    }
   ],
   "source": [
    "eleTag"
   ]
  },
  {
   "cell_type": "code",
   "execution_count": 48,
   "metadata": {},
   "outputs": [
    {
     "data": {
      "image/png": "[encoded data removed]",
      "text/plain": [
       "<Figure size 432x288 with 1 Axes>"
      ]
     },
     "metadata": {
      "needs_background": "light"
     },
     "output_type": "display_data"
    }
   ],
   "source": [
    "import matplotlib.pyplot as plt\n",
    "%matplotlib inline\n",
    "\n",
    "for key in node_dict.keys():\n",
    "    plt.plot( node_dict[key][0] ,  node_dict[key][1] , \"o\"  )\n",
    "    plt.text( node_dict[key][0] ,  node_dict[key][1] , str(key) ,  )"
   ]
  },
  {
   "cell_type": "code",
   "execution_count": 49,
   "metadata": {},
   "outputs": [
    {
     "data": {
      "image/png": "[encoded data removed]",
      "text/plain": [
       "<Figure size 432x288 with 1 Axes>"
      ]
     },
     "metadata": {
      "needs_background": "light"
     },
     "output_type": "display_data"
    }
   ],
   "source": [
    "import matplotlib.pyplot as plt\n",
    "%matplotlib inline\n",
    "\n",
    "for key in column_dict.keys():\n",
    "    plt.plot([ node_dict[column_dict[key][0]][0] ,node_dict[column_dict[key][1]][0]],\n",
    "              [ node_dict[column_dict[key][0]][1] ,node_dict[column_dict[key][1]][1]]  )\n",
    "    "
   ]
  },
  {
   "cell_type": "code",
   "execution_count": 50,
   "metadata": {},
   "outputs": [],
   "source": [
    "beam_dict = {}\n",
    "for j in range( 1 , numFloor +1):\n",
    "    end1 = (numBay + 1) * j + 1\n",
    "    end2 = end1+1\n",
    "    secType = beams[j -1 ]\n",
    "    for i in range(0, numBay):\n",
    "        ElasticBeamColum(eleTag, end1, end2, secType, E, 1, M, massType) \n",
    "        beam_dict[eleTag] = [end1, end2]\n",
    "        end1 = end2\n",
    "        end2 = end1 + 1\n",
    "        eleTag += 1"
   ]
  },
  {
   "cell_type": "code",
   "execution_count": 51,
   "metadata": {},
   "outputs": [
    {
     "data": {
      "image/png": "[encoded data removed]",
      "text/plain": [
       "<Figure size 432x288 with 1 Axes>"
      ]
     },
     "metadata": {
      "needs_background": "light"
     },
     "output_type": "display_data"
    }
   ],
   "source": [
    "import matplotlib.pyplot as plt\n",
    "%matplotlib inline\n",
    "\n",
    "for key in beam_dict.keys():\n",
    "    plt.plot([ node_dict[beam_dict[key][0]][0] ,node_dict[beam_dict[key][1]][0]],\n",
    "              [ node_dict[beam_dict[key][0]][1] ,node_dict[beam_dict[key][1]][1]]  )\n",
    "    "
   ]
  },
  {
   "cell_type": "code",
   "execution_count": 52,
   "metadata": {},
   "outputs": [
    {
     "data": {
      "image/png": "[encoded data removed]",
      "text/plain": [
       "<Figure size 360x360 with 1 Axes>"
      ]
     },
     "metadata": {
      "needs_background": "light"
     },
     "output_type": "display_data"
    }
   ],
   "source": [
    "plt.figure(figsize= (5,5))\n",
    "\n",
    "\n",
    "for key in node_dict.keys():\n",
    "    plt.plot( node_dict[key][0] ,  node_dict[key][1] , \"o\" , MS = 10 , color=\"gray\")\n",
    "for key in column_dict.keys():\n",
    "    plt.plot([ node_dict[column_dict[key][0]][0] ,node_dict[column_dict[key][1]][0]],\n",
    "              [ node_dict[column_dict[key][0]][1] ,node_dict[column_dict[key][1]][1]]  \n",
    "            , color=\"red\")\n",
    "for key in beam_dict.keys():\n",
    "    plt.plot([ node_dict[beam_dict[key][0]][0] ,node_dict[beam_dict[key][1]][0]],\n",
    "              [ node_dict[beam_dict[key][0]][1] ,node_dict[beam_dict[key][1]][1]] \n",
    "            , color=\"k\")\n",
    "    "
   ]
  },
  {
   "cell_type": "markdown",
   "metadata": {},
   "source": [
    "---\n",
    "---"
   ]
  },
  {
   "cell_type": "code",
   "execution_count": 53,
   "metadata": {
    "tags": []
   },
   "outputs": [],
   "source": [
    "from math import asin, sqrt\n",
    "\n",
    "\n",
    "numEigen = numFloor\n",
    "eigenValues = ops.eigen( numEigen) \n",
    "\n",
    "PI = 3.14"
   ]
  },
  {
   "cell_type": "code",
   "execution_count": 54,
   "metadata": {
    "tags": []
   },
   "outputs": [
    {
     "data": {
      "text/plain": [
       "[124.4330712218822, 1488.2491250593762, 5362.067994282098]"
      ]
     },
     "execution_count": 54,
     "metadata": {},
     "output_type": "execute_result"
    }
   ],
   "source": [
    "eigenValues"
   ]
  },
  {
   "cell_type": "code",
   "execution_count": 55,
   "metadata": {
    "tags": []
   },
   "outputs": [
    {
     "name": "stdout",
     "output_type": "stream",
     "text": [
      "0.5629784014360583\n",
      "0.16278778945291267\n",
      "0.08576172056847917\n"
     ]
    }
   ],
   "source": [
    "for i in eigenValues:\n",
    "    print( 2*3.14/(sqrt( i )))"
   ]
  },
  {
   "cell_type": "code",
   "execution_count": 56,
   "metadata": {
    "tags": []
   },
   "outputs": [
    {
     "name": "stdout",
     "output_type": "stream",
     "text": [
      "No Model_ODB specified to plot modeshapes\n",
      "2D model\n"
     ]
    },
    {
     "data": {
      "image/png": "[encoded data removed]",
      "text/plain": [
       "<Figure size 432x288 with 1 Axes>"
      ]
     },
     "metadata": {
      "needs_background": "light"
     },
     "output_type": "display_data"
    },
    {
     "name": "stdout",
     "output_type": "stream",
     "text": [
      "No Model_ODB specified to plot modeshapes\n",
      "2D model\n"
     ]
    },
    {
     "data": {
      "image/png": "[encoded data removed]",
      "text/plain": [
       "<Figure size 432x288 with 1 Axes>"
      ]
     },
     "metadata": {
      "needs_background": "light"
     },
     "output_type": "display_data"
    },
    {
     "data": {
      "text/plain": [
       "(<Figure size 432x288 with 1 Axes>,\n",
       " <matplotlib.axes._subplots.AxesSubplot at 0x180d084a850>)"
      ]
     },
     "execution_count": 56,
     "metadata": {},
     "output_type": "execute_result"
    }
   ],
   "source": [
    "import openseespy.postprocessing.Get_Rendering as opsplt\n",
    "\n",
    "opsplt.plot_modeshape(1, 1) # 1st Mode Shape\n",
    "opsplt.plot_modeshape(2, 1) # 2nd Mode Shape"
   ]
  },
  {
   "cell_type": "markdown",
   "metadata": {
    "tags": []
   },
   "source": [
    "**Now think of the eigenvector**"
   ]
  },
  {
   "cell_type": "code",
   "execution_count": 57,
   "metadata": {
    "tags": []
   },
   "outputs": [
    {
     "name": "stdout",
     "output_type": "stream",
     "text": [
      "[0.0, -0.02036774434028256, -0.016687209756683582, 0.017512624617944637]\n"
     ]
    }
   ],
   "source": [
    "mode_shape = []\n",
    "for i in [1,4,7,10]:\n",
    "    value = ops.nodeEigenvector( i , 2 )[0]\n",
    "    mode_shape.append( value)\n",
    "print( mode_shape )"
   ]
  },
  {
   "cell_type": "code",
   "execution_count": 58,
   "metadata": {
    "tags": []
   },
   "outputs": [
    {
     "data": {
      "text/plain": [
       "[<matplotlib.lines.Line2D at 0x180d19b8d60>]"
      ]
     },
     "execution_count": 58,
     "metadata": {},
     "output_type": "execute_result"
    },
    {
     "data": {
      "image/png": "[encoded data removed]",
      "text/plain": [
       "<Figure size 432x288 with 1 Axes>"
      ]
     },
     "metadata": {
      "needs_background": "light"
     },
     "output_type": "display_data"
    }
   ],
   "source": [
    "plt.plot(  mode_shape , range( len(mode_shape)) ,  marker = \"o\")"
   ]
  },
  {
   "cell_type": "markdown",
   "metadata": {},
   "source": [
    "### Problem  : \n",
    "\n",
    "Determine the base shear force due to seismic actions for each cases : \n",
    "\n",
    "1. Equivalent Seismic Load (ESL)\n",
    "\n",
    "2. Response Spectrum Loading (RSL)\n",
    "\n"
   ]
  },
  {
   "cell_type": "markdown",
   "metadata": {
    "tags": []
   },
   "source": [
    "#### Equivalent Seismic Load (ESL)\n",
    "\n",
    "You need the first mode period value & spectral shape & you need the mass of the system\n",
    "\n",
    "$$  V_{base} = S_{ae}(T_1) \\times Mass$$"
   ]
  },
  {
   "cell_type": "markdown",
   "metadata": {},
   "source": [
    "1.\n",
    "\n",
    "$S_{ae}(T_1)$ comes from the spectrum.\n",
    "\n",
    "<img src=\"https://pbs.twimg.com/media/Elwb7NFWMAwRvin?format=jpg&name=medium\" width = 500>\n",
    "\n",
    "You need the values of the spectrum. "
   ]
  },
  {
   "cell_type": "markdown",
   "metadata": {},
   "source": [
    "2. Mass\n",
    "\n",
    "How to calculate the mass?"
   ]
  },
  {
   "cell_type": "markdown",
   "metadata": {},
   "source": [
    "Assuming you have the base shear values: \n",
    "$$ F_i = V_{base} \\times \\frac{H_i}{\\sum H_i }$$"
   ]
  },
  {
   "cell_type": "markdown",
   "metadata": {},
   "source": [
    "Create the load "
   ]
  },
  {
   "cell_type": "code",
   "execution_count": 257,
   "metadata": {
    "tags": []
   },
   "outputs": [],
   "source": [
    "ops.timeSeries( \"Linear\" , 1 )\n",
    "\n",
    "ops.pattern( \"Plain\"  , 1 , 1)\n",
    "\n",
    "load_dict = { nodes_ : f_i }\n",
    "\n",
    "for key , value in load_dict.items():\n",
    "    ops.load( key , value , 0 ,0 )"
   ]
  },
  {
   "cell_type": "code",
   "execution_count": null,
   "metadata": {},
   "outputs": [],
   "source": [
    "ops.integrator('LoadControl', 1.0)\n",
    "ops.algorithm('Linear')\n",
    "ops.analysis('Static')\n",
    "analysis_resut = ops.analyze(1)\n",
    "\n",
    "if analysis_resut == 0 : \n",
    "    print( \"Analysis complete\")"
   ]
  },
  {
   "cell_type": "code",
   "execution_count": null,
   "metadata": {},
   "outputs": [],
   "source": [
    "scale = 10\n",
    "node_deform_dict = {}\n",
    "for i in node_dict.keys():\n",
    "    node_deform_dict[i] = [node_dict[i][0] + scale*(ops.nodeDisp(i,1)) , node_dict[i][1]]\n",
    "#    print( f\"{i} node disp = {round( ops.nodeDisp(i,1),5)}\")\n",
    "\n",
    "plt.figure(figsize= (5,5))\n",
    "for key in node_dict.keys():\n",
    "    plt.plot( node_dict[key][0] ,  node_dict[key][1] , \"o\" , MS = 10 , color=\"gray\")\n",
    "for key in column_dict.keys():\n",
    "    plt.plot([ node_dict[column_dict[key][0]][0] ,node_dict[column_dict[key][1]][0]],\n",
    "              [ node_dict[column_dict[key][0]][1] ,node_dict[column_dict[key][1]][1]]  \n",
    "            ,\"--\", color=\"gray\")\n",
    "for key in beam_dict.keys():\n",
    "    plt.plot([ node_dict[beam_dict[key][0]][0] ,node_dict[beam_dict[key][1]][0]],\n",
    "              [ node_dict[beam_dict[key][0]][1] ,node_dict[beam_dict[key][1]][1]] \n",
    "            , \"--\",color=\"gray\")\n",
    "\n",
    "for key in node_deform_dict.keys():\n",
    "    plt.plot( node_deform_dict[key][0] ,  node_deform_dict[key][1] , \"o\" , MS = 10 , color=\"b\")\n",
    "for key in column_dict.keys():\n",
    "    plt.plot([ node_deform_dict[column_dict[key][0]][0] ,node_deform_dict[column_dict[key][1]][0]],\n",
    "              [ node_deform_dict[column_dict[key][0]][1] ,node_deform_dict[column_dict[key][1]][1]]  \n",
    "            , color=\"b\")\n",
    "for key in beam_dict.keys():\n",
    "    plt.plot([ node_deform_dict[beam_dict[key][0]][0] ,node_deform_dict[beam_dict[key][1]][0]],\n",
    "              [ node_deform_dict[beam_dict[key][0]][1] ,node_deform_dict[beam_dict[key][1]][1]] \n",
    "            , color=\"b\")\n",
    "plt.box(False)"
   ]
  },
  {
   "cell_type": "markdown",
   "metadata": {
    "tags": []
   },
   "source": [
    "### Response Spectrum Loading (RSL)"
   ]
  },
  {
   "cell_type": "code",
   "execution_count": null,
   "metadata": {},
   "outputs": [],
   "source": []
  },
  {
   "cell_type": "markdown",
   "metadata": {},
   "source": [
    "1.\n",
    "\n",
    "$S_{ae}(T_1)$ comes from the spectrum.\n",
    "\n",
    "<img src=\"https://pbs.twimg.com/media/Elwb7NFWMAwRvin?format=jpg&name=medium\" width = 500>\n",
    "\n",
    "You need the values of the spectrum. "
   ]
  },
  {
   "cell_type": "markdown",
   "metadata": {},
   "source": [
    "2. Mass\n",
    "\n",
    "How to calculate the mass?"
   ]
  },
  {
   "cell_type": "markdown",
   "metadata": {},
   "source": [
    "Assuming you have the base shear values: \n",
    "\n",
    "For each mode case:\n",
    "\n",
    "Obtain the Base shear and multipyle with the  modal shape values\n",
    "$$ \\{F_i\\}_{m\\times 1} = \\{V_{base}(T_m)\\}_{1\\times1} \\times \\{\\phi_m\\}_{m\\times 1}$$"
   ]
  },
  {
   "cell_type": "markdown",
   "metadata": {},
   "source": [
    "Create the loads for each modal values "
   ]
  },
  {
   "cell_type": "code",
   "execution_count": null,
   "metadata": {},
   "outputs": [],
   "source": [
    "for i in mode_number : \n",
    "    ops.timeSeries( \"Linear\" , 1 )\n",
    "\n",
    "    ops.pattern( \"Plain\"  , 1 , 1)\n",
    "\n",
    "    load_dict = { nodes_ : f_i }\n",
    "\n",
    "    for key , value in load_dict.items():\n",
    "        ops.load( key , value , 0 ,0 )\n",
    "\n",
    "    ops.integrator('LoadControl', 1.0)\n",
    "    ops.algorithm('Linear')\n",
    "    ops.analysis('Static')\n",
    "    analysis_resut = ops.analyze(1)\n",
    "\n",
    "    if analysis_resut == 0 : \n",
    "        print( \"Analysis complete\")\n",
    "        \n",
    "    # end of every analysis, store the results in the dictionaries: "
   ]
  },
  {
   "cell_type": "markdown",
   "metadata": {},
   "source": [
    "### Modal Superposition"
   ]
  },
  {
   "cell_type": "markdown",
   "metadata": {},
   "source": [
    "CQC, SRSS ..."
   ]
  },
  {
   "cell_type": "code",
   "execution_count": null,
   "metadata": {},
   "outputs": [],
   "source": []
  },
  {
   "cell_type": "code",
   "execution_count": null,
   "metadata": {},
   "outputs": [],
   "source": []
  },
  {
   "cell_type": "code",
   "execution_count": null,
   "metadata": {},
   "outputs": [],
   "source": []
  },
  {
   "cell_type": "code",
   "execution_count": null,
   "metadata": {},
   "outputs": [],
   "source": []
  },
  {
   "cell_type": "markdown",
   "metadata": {},
   "source": [
    "---\n",
    "\n",
    "**NEXT WEEK**\n",
    "The topics for the next week \n",
    "\n",
    "- Loads and solution"
   ]
  },
  {
   "cell_type": "code",
   "execution_count": null,
   "metadata": {},
   "outputs": [],
   "source": []
  }
 ],
 "metadata": {
  "anaconda-cloud": {},
  "celltoolbar": "Slideshow",
  "kernelspec": {
   "display_name": "Python 3 (ipykernel)",
   "language": "python",
   "name": "python3"
  },
  "language_info": {
   "codemirror_mode": {
    "name": "ipython",
    "version": 3
   },
   "file_extension": ".py",
   "mimetype": "text/x-python",
   "name": "python",
   "nbconvert_exporter": "python",
   "pygments_lexer": "ipython3",
   "version": "3.8.1"
  },
  "toc-autonumbering": false,
  "toc-showcode": false,
  "toc-showmarkdowntxt": true
 },
 "nbformat": 4,
 "nbformat_minor": 4
}
