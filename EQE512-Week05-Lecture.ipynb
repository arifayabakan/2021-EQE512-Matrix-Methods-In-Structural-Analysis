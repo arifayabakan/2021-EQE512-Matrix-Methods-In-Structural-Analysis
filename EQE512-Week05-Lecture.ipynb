{
 "cells": [
  {
   "cell_type": "markdown",
   "metadata": {
    "slideshow": {
     "slide_type": "slide"
    }
   },
   "source": [
    "<h1 align=\"center\">EQE512 MATRIX METHODS IN STRUCTURAL ANALYSIS \n",
    "<br>\n",
    "<br>\n",
    "Week 05\n",
    "<br>\n",
    "<br>\n",
    "Beam member w/ span load & Column member</h1> \n",
    "\n",
    "<h3 align=\"center\">Dr. Ahmet Anıl Dindar (adindar@gtu.edu.tr)</h3> \n",
    "<h4 align=\"center\">2021 Fall  </h4> "
   ]
  },
  {
   "cell_type": "markdown",
   "metadata": {},
   "source": [
    "---\n",
    "**Today's Topics**\n",
    "\n",
    "1- Beam system stiffness matrix\n",
    "\n",
    "2- Beam member with span load\n",
    "\n",
    "3- Column member stiffness matrix"
   ]
  },
  {
   "cell_type": "code",
   "execution_count": 1,
   "metadata": {},
   "outputs": [],
   "source": [
    "import numpy as np"
   ]
  },
  {
   "cell_type": "markdown",
   "metadata": {},
   "source": [
    "## Beam System Stiffness Matrix"
   ]
  },
  {
   "cell_type": "code",
   "execution_count": 10,
   "metadata": {},
   "outputs": [],
   "source": [
    "########### PLEASE FILL THE MATRIX GIVEN BELOW IN YOUR MIDTERM EXAM ###########\n",
    "def beam_stiffness_matrix( member_props ):\n",
    "    \n",
    "    import numpy as np\n",
    "    E = member_props[\"E\"]\n",
    "    I = member_props[\"I\"]\n",
    "    \n",
    "    delta_1 = member_props[\"jointJ\"][0] - member_props[\"jointI\"][0] \n",
    "    delta_2 = member_props[\"jointJ\"][1] - member_props[\"jointI\"][1] \n",
    "\n",
    "    L = (delta_1**2 + delta_2**2)**.5\n",
    "    \n",
    "    I = member_props[\"I\"]\n",
    "    \n",
    "    twelveEIL3 = 12*E*I/(L**3)\n",
    "    sixEIL2 = 6 * E * I / (L**2)\n",
    "    fourEIL = 4 * E * I / (L)\n",
    "    twoEIL =  2* E * I / (L)\n",
    "    \n",
    "    K = np.array( [[ twelveEIL3 , sixEIL2 , -1* twelveEIL3 , sixEIL2],\n",
    "                  [sixEIL2 , fourEIL , -1* sixEIL2 , twoEIL],\n",
    "                  [-1* twelveEIL3 , -1 * sixEIL2 , twelveEIL3, -1*sixEIL2],\n",
    "                  [sixEIL2 , twoEIL , -1*sixEIL2 , fourEIL]])\n",
    "                  \n",
    "    return K \n"
   ]
  },
  {
   "cell_type": "markdown",
   "metadata": {},
   "source": [
    "### Let's demonstrate"
   ]
  },
  {
   "cell_type": "code",
   "execution_count": 8,
   "metadata": {
    "tags": []
   },
   "outputs": [
    {
     "data": {
      "text/plain": [
       "{1: {'E': 210000.0,\n",
       "  'A': 3958.4,\n",
       "  'I': 30000000,\n",
       "  'jointI': [0, 5000],\n",
       "  'jointJ': [0, 0]},\n",
       " 2: {'E': 210000.0,\n",
       "  'A': 3958.4,\n",
       "  'I': 30000000,\n",
       "  'jointI': [0, 3000],\n",
       "  'jointJ': [0, 0]}}"
      ]
     },
     "execution_count": 8,
     "metadata": {},
     "output_type": "execute_result"
    }
   ],
   "source": [
    "DOF = 2\n",
    "\n",
    "joint_nodes = {1:[0,0] , 2:[0,3000], 3:[0, 5000]}\n",
    "\n",
    "member_nodes= {1:[1,2] , 2:[2,3]}\n",
    "\n",
    "member_1 = {\"E\": 2.1E5 , \"A\" : 3958.4 , \"I\" : 30_000_000 ,  \n",
    "                \"jointI\": joint_nodes[3] , \n",
    "                \"jointJ\": joint_nodes[1]}\n",
    "\n",
    "member_2 = {\"E\": 2.1E5 , \"A\" : 3958.4 ,  \"I\" : 30_000_000 , \n",
    "                \"jointI\": joint_nodes[2] , \n",
    "                \"jointJ\": joint_nodes[1]}\n",
    "\n",
    "member_props = {}\n",
    "\n",
    "for member_no , member_property in zip( member_nodes.keys() , [member_1 ,  member_2] ):\n",
    "    \n",
    "    member_props[ member_no ] = member_property   \n",
    "    \n",
    "member_props"
   ]
  },
  {
   "cell_type": "code",
   "execution_count": 11,
   "metadata": {
    "tags": []
   },
   "outputs": [
    {
     "data": {
      "text/plain": [
       "{1: array([[ 6.048e+02,  1.512e+06, -6.048e+02,  1.512e+06],\n",
       "        [ 1.512e+06,  5.040e+09, -1.512e+06,  2.520e+09],\n",
       "        [-6.048e+02, -1.512e+06,  6.048e+02, -1.512e+06],\n",
       "        [ 1.512e+06,  2.520e+09, -1.512e+06,  5.040e+09]]),\n",
       " 2: array([[ 2.8e+03,  4.2e+06, -2.8e+03,  4.2e+06],\n",
       "        [ 4.2e+06,  8.4e+09, -4.2e+06,  4.2e+09],\n",
       "        [-2.8e+03, -4.2e+06,  2.8e+03, -4.2e+06],\n",
       "        [ 4.2e+06,  4.2e+09, -4.2e+06,  8.4e+09]])}"
      ]
     },
     "execution_count": 11,
     "metadata": {},
     "output_type": "execute_result"
    }
   ],
   "source": [
    "k_members = {}\n",
    "\n",
    "for member_no , member_property in member_props.items() : \n",
    "    \n",
    "    k_members[member_no] =  beam_stiffness_matrix(member_property  )\n",
    "    \n",
    "    \n",
    "k_members"
   ]
  },
  {
   "cell_type": "code",
   "execution_count": 12,
   "metadata": {},
   "outputs": [
    {
     "name": "stdout",
     "output_type": "stream",
     "text": [
      "[[0 0 0 0 0 0]\n",
      " [0 0 0 0 0 0]\n",
      " [0 0 0 0 0 0]\n",
      " [0 0 0 0 0 0]\n",
      " [0 0 0 0 0 0]\n",
      " [0 0 0 0 0 0]] \n",
      "====================================================================================================\n",
      "[[ 6.048e+02  1.512e+06 -6.048e+02  1.512e+06]\n",
      " [ 1.512e+06  5.040e+09 -1.512e+06  2.520e+09]\n",
      " [-6.048e+02 -1.512e+06  6.048e+02 -1.512e+06]\n",
      " [ 1.512e+06  2.520e+09 -1.512e+06  5.040e+09]] \n",
      "====================================================================================================\n",
      "1 1 \n",
      "====================================================================================================\n",
      "[[6.048e+02 1.512e+06]\n",
      " [1.512e+06 5.040e+09]] \n",
      "====================================================================================================\n",
      "[[        604     1512000           0           0           0           0]\n",
      " [    1512000 -2147483648           0           0           0           0]\n",
      " [          0           0           0           0           0           0]\n",
      " [          0           0           0           0           0           0]\n",
      " [          0           0           0           0           0           0]\n",
      " [          0           0           0           0           0           0]]\n",
      "1 2 \n",
      "====================================================================================================\n",
      "[[-6.048e+02  1.512e+06]\n",
      " [-1.512e+06  2.520e+09]] \n",
      "====================================================================================================\n",
      "[[        604     1512000        -604     1512000           0           0]\n",
      " [    1512000 -2147483648    -1512000 -2147483648           0           0]\n",
      " [          0           0           0           0           0           0]\n",
      " [          0           0           0           0           0           0]\n",
      " [          0           0           0           0           0           0]\n",
      " [          0           0           0           0           0           0]]\n",
      "2 1 \n",
      "====================================================================================================\n",
      "[[-6.048e+02 -1.512e+06]\n",
      " [ 1.512e+06  2.520e+09]] \n",
      "====================================================================================================\n",
      "[[        604     1512000        -604     1512000           0           0]\n",
      " [    1512000 -2147483648    -1512000 -2147483648           0           0]\n",
      " [       -604    -1512000           0           0           0           0]\n",
      " [    1512000 -2147483648           0           0           0           0]\n",
      " [          0           0           0           0           0           0]\n",
      " [          0           0           0           0           0           0]]\n",
      "2 2 \n",
      "====================================================================================================\n",
      "[[ 6.048e+02 -1.512e+06]\n",
      " [-1.512e+06  5.040e+09]] \n",
      "====================================================================================================\n",
      "[[        604     1512000        -604     1512000           0           0]\n",
      " [    1512000 -2147483648    -1512000 -2147483648           0           0]\n",
      " [       -604    -1512000         604    -1512000           0           0]\n",
      " [    1512000 -2147483648    -1512000 -2147483648           0           0]\n",
      " [          0           0           0           0           0           0]\n",
      " [          0           0           0           0           0           0]]\n",
      "[[ 2.8e+03  4.2e+06 -2.8e+03  4.2e+06]\n",
      " [ 4.2e+06  8.4e+09 -4.2e+06  4.2e+09]\n",
      " [-2.8e+03 -4.2e+06  2.8e+03 -4.2e+06]\n",
      " [ 4.2e+06  4.2e+09 -4.2e+06  8.4e+09]] \n",
      "====================================================================================================\n",
      "2 2 \n",
      "====================================================================================================\n",
      "[[2.8e+03 4.2e+06]\n",
      " [4.2e+06 8.4e+09]] \n",
      "====================================================================================================\n",
      "[[        604     1512000        -604     1512000           0           0]\n",
      " [    1512000 -2147483648    -1512000 -2147483648           0           0]\n",
      " [       -604    -1512000        3404     2688000           0           0]\n",
      " [    1512000 -2147483648     2688000 -2147483648           0           0]\n",
      " [          0           0           0           0           0           0]\n",
      " [          0           0           0           0           0           0]]\n",
      "2 3 \n",
      "====================================================================================================\n",
      "[[-2.8e+03  4.2e+06]\n",
      " [-4.2e+06  4.2e+09]] \n",
      "====================================================================================================\n",
      "[[        604     1512000        -604     1512000           0           0]\n",
      " [    1512000 -2147483648    -1512000 -2147483648           0           0]\n",
      " [       -604    -1512000        3404     2688000       -2800     4200000]\n",
      " [    1512000 -2147483648     2688000 -2147483648    -4200000 -2147483648]\n",
      " [          0           0           0           0           0           0]\n",
      " [          0           0           0           0           0           0]]\n",
      "3 2 \n",
      "====================================================================================================\n",
      "[[-2.8e+03 -4.2e+06]\n",
      " [ 4.2e+06  4.2e+09]] \n",
      "====================================================================================================\n",
      "[[        604     1512000        -604     1512000           0           0]\n",
      " [    1512000 -2147483648    -1512000 -2147483648           0           0]\n",
      " [       -604    -1512000        3404     2688000       -2800     4200000]\n",
      " [    1512000 -2147483648     2688000 -2147483648    -4200000 -2147483648]\n",
      " [          0           0       -2800    -4200000           0           0]\n",
      " [          0           0     4200000 -2147483648           0           0]]\n",
      "3 3 \n",
      "====================================================================================================\n",
      "[[ 2.8e+03 -4.2e+06]\n",
      " [-4.2e+06  8.4e+09]] \n",
      "====================================================================================================\n",
      "[[        604     1512000        -604     1512000           0           0]\n",
      " [    1512000 -2147483648    -1512000 -2147483648           0           0]\n",
      " [       -604    -1512000        3404     2688000       -2800     4200000]\n",
      " [    1512000 -2147483648     2688000 -2147483648    -4200000 -2147483648]\n",
      " [          0           0       -2800    -4200000        2800    -4200000]\n",
      " [          0           0     4200000 -2147483648    -4200000 -2147483648]]\n"
     ]
    }
   ],
   "source": [
    "K = np.zeros( (len(joint_nodes) * DOF , len(joint_nodes) * DOF) , dtype=int)\n",
    "\n",
    "print( K,\"\\n\"+\"=\"*100)\n",
    "\n",
    "for beam_no , beam_node in member_nodes.items() :     \n",
    "    \n",
    "    k_temp = k_members[ beam_no]\n",
    "    \n",
    "    print( k_temp ,\"\\n\"+\"=\"*100)\n",
    "    \n",
    "    for counter_i , i in enumerate( beam_node ): \n",
    "        \n",
    "        for counter_j , j in enumerate(beam_node) :\n",
    "            \n",
    "            print( i, j,\"\\n\"+\"=\"*100)\n",
    "            \n",
    "            add_k = k_temp[ counter_i * DOF  : counter_i * DOF + DOF  , counter_j * DOF  : counter_j * DOF + DOF  ] \n",
    "            \n",
    "            print( add_k , \"\\n\"+\"=\"*100)\n",
    "            \n",
    "            if i == 1 and j == 1 : \n",
    "                K[ 0  : DOF  , 0  : DOF] = K[ 0  : DOF  , 0  : DOF ] + add_k\n",
    "                \n",
    "            else:\n",
    "                K[ i * DOF - DOF  : i * DOF   , j * DOF - DOF : j * DOF  ] = K[ i * DOF - DOF  : i * DOF  , j * DOF - DOF : j * DOF  ] + add_k                             \n",
    "            print( K )    "
   ]
  },
  {
   "cell_type": "code",
   "execution_count": null,
   "metadata": {},
   "outputs": [],
   "source": []
  },
  {
   "cell_type": "code",
   "execution_count": null,
   "metadata": {},
   "outputs": [],
   "source": []
  },
  {
   "cell_type": "code",
   "execution_count": null,
   "metadata": {},
   "outputs": [],
   "source": []
  },
  {
   "cell_type": "code",
   "execution_count": null,
   "metadata": {},
   "outputs": [],
   "source": []
  },
  {
   "cell_type": "code",
   "execution_count": null,
   "metadata": {},
   "outputs": [],
   "source": []
  },
  {
   "cell_type": "code",
   "execution_count": null,
   "metadata": {},
   "outputs": [],
   "source": []
  },
  {
   "cell_type": "code",
   "execution_count": null,
   "metadata": {},
   "outputs": [],
   "source": []
  },
  {
   "cell_type": "markdown",
   "metadata": {},
   "source": [
    "---\n",
    "# Beam member with span load \n",
    "\n",
    "<img src=\"figures/11-EQE512-Loads.PNG\"   style=\"width:60%\">"
   ]
  },
  {
   "cell_type": "markdown",
   "metadata": {
    "tags": []
   },
   "source": [
    "---\n",
    "## Unloaded\n",
    "\n",
    "_Similar to the Truss elements, the loads act on the nodes._\n"
   ]
  },
  {
   "cell_type": "markdown",
   "metadata": {
    "tags": []
   },
   "source": [
    "---\n",
    "## Loaded\n",
    "\n",
    "**Uniform Loading**\n",
    "\n",
    "<img src=\"./figures/10a-EQE512-BeamLoading-Uniform.png\" width=\"60%\">\n",
    "\n",
    "**Triangle Loading**\n",
    "\n",
    "<img src=\"./figures/10b-EQE512-BeamLoading-Triangle.png\" width=\"60%\">\n",
    "\n",
    "**Point Loading**\n",
    "\n",
    "<img src=\"./figures/10c-EQE512-BeamLoading-SingleLoad.png\" width=\"60%\">\n",
    "\n",
    "**Trapezoidal Loading**\n",
    "\n",
    "<img src=\"./figures/10d-EQE512-BeamLoading-Trapz.png\" width=\"60%\">"
   ]
  },
  {
   "cell_type": "markdown",
   "metadata": {},
   "source": [
    "**Solution :**\n",
    "\n",
    "1. Obtain the equivalent end forces\n",
    "2. Apply the obtained values in opposite directions at the nodes\n",
    "3. Ignore the span loads\n",
    "\n",
    "<img src=\"./figures/12-EQE512-Loads-Apply.PNG\"   style=\"width:70%\">\n"
   ]
  },
  {
   "cell_type": "code",
   "execution_count": null,
   "metadata": {},
   "outputs": [],
   "source": []
  },
  {
   "cell_type": "code",
   "execution_count": null,
   "metadata": {},
   "outputs": [],
   "source": []
  },
  {
   "cell_type": "code",
   "execution_count": null,
   "metadata": {},
   "outputs": [],
   "source": []
  },
  {
   "cell_type": "code",
   "execution_count": null,
   "metadata": {},
   "outputs": [],
   "source": []
  },
  {
   "cell_type": "code",
   "execution_count": null,
   "metadata": {},
   "outputs": [],
   "source": []
  },
  {
   "cell_type": "code",
   "execution_count": null,
   "metadata": {},
   "outputs": [],
   "source": []
  },
  {
   "cell_type": "code",
   "execution_count": null,
   "metadata": {},
   "outputs": [],
   "source": []
  },
  {
   "cell_type": "code",
   "execution_count": null,
   "metadata": {},
   "outputs": [],
   "source": []
  },
  {
   "cell_type": "code",
   "execution_count": null,
   "metadata": {},
   "outputs": [],
   "source": []
  },
  {
   "cell_type": "code",
   "execution_count": null,
   "metadata": {},
   "outputs": [],
   "source": []
  },
  {
   "cell_type": "code",
   "execution_count": null,
   "metadata": {},
   "outputs": [],
   "source": []
  },
  {
   "cell_type": "code",
   "execution_count": null,
   "metadata": {},
   "outputs": [],
   "source": []
  },
  {
   "cell_type": "markdown",
   "metadata": {},
   "source": [
    "## Columns"
   ]
  },
  {
   "cell_type": "markdown",
   "metadata": {},
   "source": [
    "**Freedom**\n",
    "\n",
    "<img src=\"figures/9-EQE512-ColumnMemberExplanation.PNG\" width=\"100%\">\n",
    "\n",
    "---\n",
    "\n",
    "**Transformation Matrix**\n",
    "\n",
    "Remember the relation between local and global terms\n",
    "\n",
    "$$ k^i = (T^i) \\hat{k}^i T^i$$\n",
    "\n",
    "Remember the transformation matrix;\n",
    "\n",
    "$$ T^i = \\begin{bmatrix} \\frac{\\Delta_1}{L} & \\frac{\\Delta_2}{L}  & 0 & 0  \\\\ 0 & 0 & \n",
    "\\frac{\\Delta_1}{L} & \\frac{\\Delta_2}{L}  \\end{bmatrix}$$\n",
    "\n",
    "---\n",
    "\n",
    "**Local Stiffness Matrix**\n",
    "\n",
    "<img src=\"figures/column_stiffness_in_local_coordinates.png\" width=\"60%\">\n",
    "\n",
    "**Global Stiffness Matrix**\n",
    "\n",
    "After applying the transformation matrix\n",
    "\n",
    "<img src=\"figures/9-EQE512-ColumnMemberStiffness.PNG\" width=\"100%\">"
   ]
  },
  {
   "cell_type": "markdown",
   "metadata": {},
   "source": []
  },
  {
   "cell_type": "code",
   "execution_count": null,
   "metadata": {},
   "outputs": [],
   "source": []
  },
  {
   "cell_type": "code",
   "execution_count": null,
   "metadata": {},
   "outputs": [],
   "source": []
  },
  {
   "cell_type": "code",
   "execution_count": null,
   "metadata": {},
   "outputs": [],
   "source": []
  },
  {
   "cell_type": "markdown",
   "metadata": {},
   "source": [
    "---\n",
    "\n",
    "**NEXT WEEK**\n",
    "The topics for the next week \n",
    "\n",
    "- \"Frame Systems- Moment Resisting Frames with truss/tension members with truss/tension members\"\n",
    "\n",
    "\n",
    "<img src=\"http://worshiphousemedia.s3.amazonaws.com/images/main/s/st/bnt/st/seeyounextweek1.jpg\" width=\"30%\" >\n",
    "\n",
    "\n",
    "\n"
   ]
  },
  {
   "cell_type": "code",
   "execution_count": null,
   "metadata": {},
   "outputs": [],
   "source": []
  }
 ],
 "metadata": {
  "anaconda-cloud": {},
  "celltoolbar": "Slideshow",
  "kernelspec": {
   "display_name": "Python 3",
   "language": "python",
   "name": "python3"
  },
  "language_info": {
   "codemirror_mode": {
    "name": "ipython",
    "version": 3
   },
   "file_extension": ".py",
   "mimetype": "text/x-python",
   "name": "python",
   "nbconvert_exporter": "python",
   "pygments_lexer": "ipython3",
   "version": "3.8.1"
  },
  "toc-autonumbering": false
 },
 "nbformat": 4,
 "nbformat_minor": 4
}
