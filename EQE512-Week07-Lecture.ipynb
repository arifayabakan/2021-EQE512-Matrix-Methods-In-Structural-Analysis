{
 "cells": [
  {
   "cell_type": "markdown",
   "metadata": {
    "slideshow": {
     "slide_type": "slide"
    }
   },
   "source": [
    "<h1 align=\"center\">EQE512 MATRIX METHODS IN STRUCTURAL ANALYSIS \n",
    "<br>\n",
    "<br>\n",
    "Week 07\n",
    "<br>\n",
    "<br>\n",
    "Column member & Frame Systems- MRF Support displacement</h1> \n",
    "\n",
    "<h3 align=\"center\">Dr. Ahmet Anıl Dindar (adindar@gtu.edu.tr)</h3> \n",
    "<h4 align=\"center\">2021 Fall  </h4> "
   ]
  },
  {
   "cell_type": "markdown",
   "metadata": {},
   "source": [
    "---\n",
    "**Today's Topics**\n",
    "\n",
    "1- Frame member stiffness matrix\n",
    "\n",
    "2- Frame System Stiffness matrix\n",
    "\n",
    "3- Support settlements\n",
    "\n",
    "4- Elastic supports"
   ]
  },
  {
   "cell_type": "markdown",
   "metadata": {},
   "source": [
    "## Frame member stiffness matrix"
   ]
  },
  {
   "cell_type": "markdown",
   "metadata": {},
   "source": [
    "**Freedom**\n",
    "\n",
    "<img src=\"figures/9-EQE512-ColumnMemberExplanation.PNG\" width=\"100%\">\n",
    "\n",
    "---\n",
    "\n",
    "**Transformation Matrix**\n",
    "\n",
    "Remember the relation between local and global terms\n",
    "\n",
    "$$ k^i = (T^i) \\hat{k}^i T^i$$\n",
    "\n",
    "Remember the transformation matrix;\n",
    "\n",
    "$$ T^i = \\begin{bmatrix} \\frac{\\Delta_1}{L} & \\frac{\\Delta_2}{L}  & 0 & 0  \\\\ 0 & 0 & \n",
    "\\frac{\\Delta_1}{L} & \\frac{\\Delta_2}{L}  \\end{bmatrix}$$\n",
    "\n",
    "---\n",
    "\n",
    "**Local Stiffness Matrix**\n",
    "\n",
    "<img src=\"figures/column_stiffness_in_local_coordinates.png\" width=\"60%\">\n",
    "\n",
    "**Global Stiffness Matrix**\n",
    "\n",
    "After applying the transformation matrix\n",
    "\n",
    "<img src=\"figures/9-EQE512-ColumnMemberStiffness.PNG\" width=\"100%\">"
   ]
  },
  {
   "cell_type": "markdown",
   "metadata": {},
   "source": [
    "**Transformation Matrix of Frame Element**"
   ]
  },
  {
   "cell_type": "code",
   "execution_count": null,
   "metadata": {
    "tags": []
   },
   "outputs": [],
   "source": [
    "import numpy as np\n",
    "\n",
    "def transformation_matrix( x1,y1,x2,y2) :\n",
    "    delta_1 = (x2-x1)\n",
    "    delta_2 = (y2-y1)\n",
    "    L = ( (delta_1)**2 + (delta_2)**2)**(0.5)\n",
    "    \n",
    "    T = np.array( [[ delta_1 / L , delta_2 / L  , 0 , 0 , 0 , 0],\n",
    "                   [-delta_2 / L , delta_1 / L  , 0 , 0 , 0 , 0],\n",
    "                   [0 , 0 , 1 , 0 , 0 , 0  ], \n",
    "                   [ 0 , 0 , 0 , delta_1 / L , delta_2 / L , 0 ],\n",
    "                   [ 0 , 0 , 0, -delta_2 / L , delta_1 / L  , 0],\n",
    "                   [0 , 0 , 0 , 0 , 0 , 1] ])\n",
    "    \n",
    "    return( T)"
   ]
  },
  {
   "cell_type": "markdown",
   "metadata": {},
   "source": [
    "**Frame Element Member Stiffness Matrix in Local Coordinates**"
   ]
  },
  {
   "cell_type": "code",
   "execution_count": null,
   "metadata": {
    "tags": []
   },
   "outputs": [],
   "source": [
    "def column_stiffness_matrix( E , A , I , x1,y1,x2,y2):\n",
    "    delta_1 = (x2-x1)\n",
    "    delta_2 = (y2-y1)\n",
    "    L = ( (delta_1)**2 + (delta_2)**2)**(0.5)\n",
    "    #\n",
    "    EA_L = E * A / L\n",
    "    EI_L = E * I / L\n",
    "    EI_L2 = EI_L / L\n",
    "    EI_L3 = EI_L2 / L\n",
    "    #\n",
    "    k = np.array([[EA_L , 0 , 0 , -EA_L , 0 , 0],\n",
    "                  [ 0 , 12*EI_L3 , 6*EI_L2 ,0 , -12*EI_L3 , 6*EI_L2 ],\n",
    "                  [ 0 , 6*EI_L2 , 4*EI_L , 0 , -6*EI_L2 , 2*EI_L ],\n",
    "                  [ -EA_L , 0 , 0 , EA_L , 0 , 0 ],\n",
    "                  [ 0 , -12*EI_L3 ,-6*EI_L2 , 0 , 12*EI_L3 , -6*EI_L2 ],\n",
    "                  [ 0 , 6*EI_L2 , 2*EI_L , 0 , -6*EI_L2 , 4*EI_L]])\n",
    "                  \n",
    "    return( k )\n",
    "    \n",
    "    "
   ]
  },
  {
   "cell_type": "markdown",
   "metadata": {},
   "source": [
    "**Frame Element Member Stiffness Matrix in Global Coordinates**"
   ]
  },
  {
   "cell_type": "code",
   "execution_count": null,
   "metadata": {
    "tags": []
   },
   "outputs": [],
   "source": [
    "def column_stiffness_matrix_global( k , T) :\n",
    "    k_global =  np.matmul( np.matmul(np.transpose( T) , k ) , T )\n",
    "                          \n",
    "    return( k_global )"
   ]
  },
  {
   "cell_type": "markdown",
   "metadata": {},
   "source": [
    "**Example- Test the functions- Beam**"
   ]
  },
  {
   "cell_type": "code",
   "execution_count": null,
   "metadata": {},
   "outputs": [],
   "source": [
    "E , A  , I , x1, y1 , x2 , y2 = 21E7 , 334E-5 , 214E-7 , 0 , 0 , 0 , 3"
   ]
  },
  {
   "cell_type": "code",
   "execution_count": null,
   "metadata": {},
   "outputs": [],
   "source": [
    "T = transformation_matrix( x1,y1,x2,y2)\n",
    "T"
   ]
  },
  {
   "cell_type": "code",
   "execution_count": null,
   "metadata": {},
   "outputs": [],
   "source": [
    "k = column_stiffness_matrix( E , A  , I , x1, y1 , x2 , y2)\n",
    "k"
   ]
  },
  {
   "cell_type": "code",
   "execution_count": null,
   "metadata": {},
   "outputs": [],
   "source": [
    "k_glob = column_stiffness_matrix_global( k , T)\n",
    "k_glob"
   ]
  },
  {
   "cell_type": "markdown",
   "metadata": {},
   "source": [
    "**Example- Test the functions- Columns**"
   ]
  },
  {
   "cell_type": "code",
   "execution_count": null,
   "metadata": {},
   "outputs": [],
   "source": [
    "E , A  , I , x1, y1 , x2 , y2 = 21E7 , 334E-5 , 214E-7 , 0 , 0 , 3 , 0\n"
   ]
  },
  {
   "cell_type": "code",
   "execution_count": null,
   "metadata": {},
   "outputs": [],
   "source": [
    "T = transformation_matrix( x1,y1,x2,y2)\n",
    "T"
   ]
  },
  {
   "cell_type": "code",
   "execution_count": null,
   "metadata": {},
   "outputs": [],
   "source": [
    "k = column_stiffness_matrix( E , A  , I , x1, y1 , x2 , y2)\n",
    "k"
   ]
  },
  {
   "cell_type": "code",
   "execution_count": null,
   "metadata": {},
   "outputs": [],
   "source": [
    "k_glob = column_stiffness_matrix_global( k , T)\n",
    "k_glob"
   ]
  },
  {
   "cell_type": "markdown",
   "metadata": {},
   "source": [
    "## Frame System Stiffness matrix\n",
    "\n",
    "\n",
    "**Frame System Stiffness Matrix**\n",
    "\n",
    "Determine the system stiffness matrix\n",
    "\n",
    "<img src=\"./figures/Week07-FrameExample.png\">\n",
    "\n",
    "E= 210GPa , A = 334E-5 mm2 , I = 214E-7 mm4"
   ]
  },
  {
   "cell_type": "code",
   "execution_count": null,
   "metadata": {},
   "outputs": [],
   "source": [
    "import EQE512_functions"
   ]
  },
  {
   "cell_type": "code",
   "execution_count": null,
   "metadata": {},
   "outputs": [],
   "source": [
    "# Mapping and numbering\n",
    "DOF = 3\n",
    "#Nodes' names with coordinates\n",
    "joint_nodes = {1:[0,0] , 2:[0,3], 3:[3,3]}\n",
    "\n",
    "# Members' names and nodes\n",
    "member_nodes= {1:[1,2] , 2:[2,3]}\n",
    "\n",
    "# Member properties\n",
    "member_1 = {\"E\":210_000_000 ,  \"I\" : 214E-7 , \"A\": 334E-5 ,   \n",
    "                \"jointI\": joint_nodes[1] , \n",
    "                \"jointJ\": joint_nodes[2]}\n",
    "\n",
    "member_2 = { \"E\":210_000_000 ,  \"I\" : 214E-7 , \"A\": 334E-5 , \n",
    "                \"jointI\": joint_nodes[2] , \n",
    "                \"jointJ\": joint_nodes[3]}\n",
    "\n",
    "member_props = {}\n",
    "\n",
    "for member_no , member_property in zip( member_nodes.keys() , [member_1 ,  member_2] ):\n",
    "    \n",
    "    member_props[ member_no ] = member_property   \n",
    "    \n",
    "member_props"
   ]
  },
  {
   "cell_type": "code",
   "execution_count": null,
   "metadata": {},
   "outputs": [],
   "source": [
    "# Data structure for member stiffness matrices\n",
    "k_members = {}\n",
    "\n",
    "for member_no , member_property in member_props.items() : \n",
    "    print( member_no)\n",
    "    k_members[member_no] =  EQE512_functions.column_stiffness_matrix_global(member_property , show_T_K= True )\n",
    "    \n",
    "    print( \"=\"*100 , \"\\n\" , k_members[member_no])\n",
    "    \n",
    "print( \"~\"*100)  "
   ]
  },
  {
   "cell_type": "code",
   "execution_count": null,
   "metadata": {},
   "outputs": [],
   "source": [
    "K = EQE512_functions.system_stiffness_matrix( k_members , joint_nodes , member_nodes , DOF = 3)\n",
    "K"
   ]
  },
  {
   "cell_type": "markdown",
   "metadata": {},
   "source": [
    "Let's check the result \n",
    "\n",
    "<img src=\"./figures/Week07-FrameExample-Stiffness_matrix.png\">\n",
    "\n",
    "---"
   ]
  },
  {
   "cell_type": "markdown",
   "metadata": {},
   "source": [
    "## Support settlements"
   ]
  },
  {
   "cell_type": "code",
   "execution_count": null,
   "metadata": {},
   "outputs": [],
   "source": []
  },
  {
   "cell_type": "code",
   "execution_count": null,
   "metadata": {},
   "outputs": [],
   "source": []
  },
  {
   "cell_type": "code",
   "execution_count": null,
   "metadata": {},
   "outputs": [],
   "source": []
  },
  {
   "cell_type": "markdown",
   "metadata": {
    "tags": []
   },
   "source": [
    "## Elastic supports"
   ]
  },
  {
   "cell_type": "code",
   "execution_count": null,
   "metadata": {},
   "outputs": [],
   "source": []
  },
  {
   "cell_type": "code",
   "execution_count": null,
   "metadata": {},
   "outputs": [],
   "source": []
  },
  {
   "cell_type": "code",
   "execution_count": null,
   "metadata": {},
   "outputs": [],
   "source": []
  },
  {
   "cell_type": "markdown",
   "metadata": {},
   "source": [
    "---\n",
    "\n",
    "**NEXT WEEK**\n",
    "The topics for the next week \n",
    "\n",
    "- \"Midterm Exam\"\n",
    "\n",
    "- Term Project : Please set your groups in GTUZEM: Please select your groups until 2021_1115 8am using the [GTUZEM Moodle site](https://gtuzem.gtu.edu.tr/UE2/mod/choice/view.php?id=19200)"
   ]
  }
 ],
 "metadata": {
  "anaconda-cloud": {},
  "celltoolbar": "Slideshow",
  "kernelspec": {
   "display_name": "Python 3",
   "language": "python",
   "name": "python3"
  },
  "language_info": {
   "codemirror_mode": {
    "name": "ipython",
    "version": 3
   },
   "file_extension": ".py",
   "mimetype": "text/x-python",
   "name": "python",
   "nbconvert_exporter": "python",
   "pygments_lexer": "ipython3",
   "version": "3.8.5"
  },
  "toc-autonumbering": false
 },
 "nbformat": 4,
 "nbformat_minor": 4
}
