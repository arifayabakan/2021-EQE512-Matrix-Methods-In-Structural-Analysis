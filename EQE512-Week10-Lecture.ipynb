{
 "cells": [
  {
   "cell_type": "markdown",
   "metadata": {
    "slideshow": {
     "slide_type": "slide"
    },
    "tags": []
   },
   "source": [
    "<h1 align=\"center\">EQE512 MATRIX METHODS IN STRUCTURAL ANALYSIS \n",
    "<br>\n",
    "<br>\n",
    "Week 10\n",
    "<br>\n",
    "<br>\n",
    "Frame Systems- OpenSeesPy Modeling</h1> \n",
    "\n",
    "<h3 align=\"center\">Dr. Ahmet Anıl Dindar (adindar@gtu.edu.tr)</h3> \n",
    "<h4 align=\"center\">2021 Fall  </h4> "
   ]
  },
  {
   "cell_type": "markdown",
   "metadata": {
    "tags": []
   },
   "source": [
    "---\n",
    "**Today's Topics**\n",
    "\n",
    "This code is composed of three sections, namely \n",
    "\n",
    "A. Pre-process\n",
    "\n",
    "B. Process\n",
    "\n",
    "C. Post-Process\n",
    "\n",
    "---\n",
    "\n",
    "Problem: This is a multistory 2D Elastic RC frame under static loads\n",
    "\n",
    "---"
   ]
  },
  {
   "cell_type": "markdown",
   "metadata": {},
   "source": [
    "# A. Pre-Process"
   ]
  },
  {
   "cell_type": "markdown",
   "metadata": {},
   "source": [
    "## importing opensees modules"
   ]
  },
  {
   "cell_type": "code",
   "execution_count": 230,
   "metadata": {
    "collapsed": true,
    "jupyter": {
     "outputs_hidden": true
    }
   },
   "outputs": [],
   "source": [
    "import openseespy.opensees as ops"
   ]
  },
  {
   "cell_type": "code",
   "execution_count": 231,
   "metadata": {
    "collapsed": true,
    "jupyter": {
     "outputs_hidden": true
    }
   },
   "outputs": [],
   "source": [
    "ops.wipe() # Clear all OS values"
   ]
  },
  {
   "cell_type": "code",
   "execution_count": 232,
   "metadata": {
    "collapsed": true,
    "jupyter": {
     "outputs_hidden": true
    }
   },
   "outputs": [],
   "source": [
    "ops.model( \"Basic\" , \"-ndm\", 2 , \"-ndf\",3)"
   ]
  },
  {
   "cell_type": "markdown",
   "metadata": {},
   "source": [
    "## Creating the model"
   ]
  },
  {
   "cell_type": "markdown",
   "metadata": {},
   "source": [
    "### System geometry"
   ]
  },
  {
   "cell_type": "code",
   "execution_count": 233,
   "metadata": {
    "collapsed": true,
    "jupyter": {
     "outputs_hidden": true
    }
   },
   "outputs": [],
   "source": [
    "numBay = 2\n",
    "numFloor = 3\n",
    "#-----------------\n",
    "bayWidth = 3.0 # m\n",
    "storyHeight = 3.0 # m"
   ]
  },
  {
   "cell_type": "markdown",
   "metadata": {},
   "source": [
    "### Material"
   ]
  },
  {
   "cell_type": "code",
   "execution_count": 234,
   "metadata": {
    "collapsed": true,
    "jupyter": {
     "outputs_hidden": true
    }
   },
   "outputs": [],
   "source": [
    "E = 29_500_000 # kN/m2"
   ]
  },
  {
   "cell_type": "markdown",
   "metadata": {},
   "source": [
    "### Transformation type"
   ]
  },
  {
   "cell_type": "code",
   "execution_count": 235,
   "metadata": {
    "collapsed": true,
    "jupyter": {
     "outputs_hidden": true
    }
   },
   "outputs": [],
   "source": [
    "coordTransfer = \"Linear\""
   ]
  },
  {
   "cell_type": "code",
   "execution_count": 236,
   "metadata": {
    "collapsed": true,
    "jupyter": {
     "outputs_hidden": true
    }
   },
   "outputs": [],
   "source": [
    "### Mass source"
   ]
  },
  {
   "cell_type": "code",
   "execution_count": 237,
   "metadata": {
    "collapsed": true,
    "jupyter": {
     "outputs_hidden": true
    }
   },
   "outputs": [],
   "source": [
    "massX = 0.49\n",
    "M = 0\n",
    "massType = \"-lMass\" # Lumped mass"
   ]
  },
  {
   "cell_type": "markdown",
   "metadata": {},
   "source": [
    "### Members"
   ]
  },
  {
   "cell_type": "code",
   "execution_count": 238,
   "metadata": {
    "collapsed": true,
    "jupyter": {
     "outputs_hidden": true
    }
   },
   "outputs": [],
   "source": [
    "beams = [ \"B20X50\" for item in range( numFloor)]"
   ]
  },
  {
   "cell_type": "code",
   "execution_count": 239,
   "metadata": {
    "collapsed": true,
    "jupyter": {
     "outputs_hidden": true
    }
   },
   "outputs": [],
   "source": [
    "eColumn = [\"C50X50\" for item in range( numFloor)]\n",
    "iColumn = [\"C50X50\" for item in range( numFloor)]\n",
    "\n",
    "columns =  [ eColumn , iColumn , eColumn]"
   ]
  },
  {
   "cell_type": "code",
   "execution_count": 240,
   "metadata": {
    "collapsed": true,
    "jupyter": {
     "outputs_hidden": true
    }
   },
   "outputs": [
    {
     "data": {
      "text/plain": [
       "[['C50X50', 'C50X50', 'C50X50'],\n",
       " ['C50X50', 'C50X50', 'C50X50'],\n",
       " ['C50X50', 'C50X50', 'C50X50']]"
      ]
     },
     "execution_count": 240,
     "metadata": {},
     "output_type": "execute_result"
    }
   ],
   "source": [
    "columns"
   ]
  },
  {
   "cell_type": "markdown",
   "metadata": {},
   "source": [
    "### Sections"
   ]
  },
  {
   "cell_type": "code",
   "execution_count": 241,
   "metadata": {
    "collapsed": true,
    "jupyter": {
     "outputs_hidden": true
    }
   },
   "outputs": [],
   "source": [
    "Section = {\"C50X50\" : [ 0.5 * 0.5 , (0.5 * 0.5**3)/12],\n",
    "           \"B20X50\": [ 0.2 * 0.5 , (0.2 * 0.5**3) / 12]}"
   ]
  },
  {
   "cell_type": "markdown",
   "metadata": {},
   "source": [
    "### Create the members in the Model"
   ]
  },
  {
   "cell_type": "code",
   "execution_count": 242,
   "metadata": {
    "collapsed": true,
    "jupyter": {
     "outputs_hidden": true
    }
   },
   "outputs": [],
   "source": [
    "def ElastBeamColumn( eleTag, iNode, jNode, sectType, E, transfTag, M, massType ):\n",
    "    \n",
    "    prop = Section[sectType]\n",
    "    Area = prop[0]\n",
    "    I = prop[1]\n",
    "    \n",
    "    ops.element( \"elasticBeamColumn\", eleTag ,iNode, jNode, Area, E , I , transfTag , \"-mass\", M, massType)\n"
   ]
  },
  {
   "cell_type": "markdown",
   "metadata": {},
   "source": [
    "### Creating the axis"
   ]
  },
  {
   "cell_type": "code",
   "execution_count": 243,
   "metadata": {
    "collapsed": true,
    "jupyter": {
     "outputs_hidden": true
    }
   },
   "outputs": [
    {
     "name": "stdout",
     "output_type": "stream",
     "text": [
      "Axis Horizontal [0. 3. 6.] and Story levels [0. 3. 6. 9.]\n"
     ]
    }
   ],
   "source": [
    "import numpy as np\n",
    "\n",
    "axis_h = np.linspace( 0 , (numBay * bayWidth) , numBay+1 )\n",
    "axis_v = np.linspace( 0 , (numFloor * storyHeight) , numFloor+1 )\n",
    "\n",
    "print( f\"Axis Horizontal {axis_h} and Story levels {axis_v}\" )"
   ]
  },
  {
   "cell_type": "code",
   "execution_count": 244,
   "metadata": {
    "collapsed": true,
    "jupyter": {
     "outputs_hidden": true
    }
   },
   "outputs": [],
   "source": [
    "node_no = 1\n",
    "node_dict = {}\n",
    "floorNo = 0 \n",
    "floorNodes = {}\n",
    "nodes = []\n",
    "\n",
    "for i in axis_v : \n",
    "    floorNodes[ floorNo] = []\n",
    "    for j in axis_h : \n",
    "        nodes.append( node_no)\n",
    "        \n",
    "        #OpenSees Command\n",
    "        ops.node( node_no , float( j ) , float( i ))\n",
    "        \n",
    "        # Store info i nthe dictionaries\n",
    "        node_dict[ node_no ] = [float( j ) , float( i )]\n",
    "        floorNodes[ floorNo].append( node_no)\n",
    "        \n",
    "        node_no += 1\n",
    "        \n",
    "    floorNo += 1"
   ]
  },
  {
   "cell_type": "code",
   "execution_count": 245,
   "metadata": {
    "collapsed": true,
    "jupyter": {
     "outputs_hidden": true
    },
    "tags": []
   },
   "outputs": [
    {
     "data": {
      "text/plain": [
       "{1: [0.0, 0.0],\n",
       " 2: [3.0, 0.0],\n",
       " 3: [6.0, 0.0],\n",
       " 4: [0.0, 3.0],\n",
       " 5: [3.0, 3.0],\n",
       " 6: [6.0, 3.0],\n",
       " 7: [0.0, 6.0],\n",
       " 8: [3.0, 6.0],\n",
       " 9: [6.0, 6.0],\n",
       " 10: [0.0, 9.0],\n",
       " 11: [3.0, 9.0],\n",
       " 12: [6.0, 9.0]}"
      ]
     },
     "execution_count": 245,
     "metadata": {},
     "output_type": "execute_result"
    }
   ],
   "source": [
    "node_dict"
   ]
  },
  {
   "cell_type": "code",
   "execution_count": 246,
   "metadata": {
    "collapsed": true,
    "jupyter": {
     "outputs_hidden": true
    },
    "tags": []
   },
   "outputs": [
    {
     "data": {
      "text/plain": [
       "{0: [1, 2, 3], 1: [4, 5, 6], 2: [7, 8, 9], 3: [10, 11, 12]}"
      ]
     },
     "execution_count": 246,
     "metadata": {},
     "output_type": "execute_result"
    }
   ],
   "source": [
    "floorNodes"
   ]
  },
  {
   "cell_type": "markdown",
   "metadata": {},
   "source": [
    "### Boundary Conditions"
   ]
  },
  {
   "cell_type": "code",
   "execution_count": 247,
   "metadata": {
    "collapsed": true,
    "jupyter": {
     "outputs_hidden": true
    }
   },
   "outputs": [],
   "source": [
    "for nodeNumber in floorNodes[ 0 ]:\n",
    "    ops.fix( nodeNumber , 1 , 1 , 1)"
   ]
  },
  {
   "cell_type": "markdown",
   "metadata": {},
   "source": [
    "### Rigid Diaphram Assignments"
   ]
  },
  {
   "cell_type": "code",
   "execution_count": 248,
   "metadata": {
    "collapsed": true,
    "jupyter": {
     "outputs_hidden": true
    }
   },
   "outputs": [],
   "source": [
    "for key , value in floorNodes.items():\n",
    "    for item in value[:]:\n",
    "        if item == value[0]:\n",
    "            ops.mass( item , massX , 0.000001 , 0.0000001)\n",
    "        else: \n",
    "            ops.equalDOF( value[0] , item , 1)"
   ]
  },
  {
   "cell_type": "code",
   "execution_count": 249,
   "metadata": {
    "collapsed": true,
    "jupyter": {
     "outputs_hidden": true
    }
   },
   "outputs": [
    {
     "data": {
      "image/png": "[encoded data removed]",
      "text/plain": [
       "<Figure size 432x288 with 1 Axes>"
      ]
     },
     "metadata": {
      "needs_background": "light"
     },
     "output_type": "display_data"
    }
   ],
   "source": [
    "import matplotlib.pyplot as plt\n",
    "%matplotlib inline\n",
    "\n",
    "for key in node_dict.keys():\n",
    "    plt.plot( node_dict[key][0] ,  node_dict[key][1] , \"o\" , c = \"k\" , mec = \"k\" , ms = 10 )\n",
    "    plt.text( node_dict[key][0]+.4 ,  node_dict[key][1] , str(key) ,  )\n",
    "    \n",
    "plt.box( False)"
   ]
  },
  {
   "cell_type": "markdown",
   "metadata": {},
   "source": [
    "### Assign the columns"
   ]
  },
  {
   "cell_type": "code",
   "execution_count": 250,
   "metadata": {
    "collapsed": true,
    "jupyter": {
     "outputs_hidden": true
    }
   },
   "outputs": [],
   "source": [
    "ops.geomTransf(coordTransfer, 1)"
   ]
  },
  {
   "cell_type": "code",
   "execution_count": 251,
   "metadata": {
    "collapsed": true,
    "jupyter": {
     "outputs_hidden": true
    }
   },
   "outputs": [],
   "source": [
    "column_dict = {}\n",
    "eleTag = 1 \n",
    "for j in range( 0 , numBay + 1):\n",
    "    end1 = j + 1\n",
    "    end2 = end1 + numBay + 1\n",
    "    thisColumn = columns[j]\n",
    "    for i in range( 0 , numFloor) :\n",
    "        secType = thisColumn[ i ]\n",
    "        ElastBeamColumn( eleTag , end1 , end2 , secType , E , 1 , M , massType) # This is my command with ops command inside\n",
    "        # store info in dict\n",
    "        column_dict[ eleTag ] = [end1 , end2]\n",
    "        end1  = end2 \n",
    "        end2 += numBay + 1\n",
    "        eleTag += 1"
   ]
  },
  {
   "cell_type": "code",
   "execution_count": 252,
   "metadata": {
    "collapsed": true,
    "jupyter": {
     "outputs_hidden": true
    }
   },
   "outputs": [
    {
     "data": {
      "image/png": "[encoded data removed]",
      "text/plain": [
       "<Figure size 432x288 with 1 Axes>"
      ]
     },
     "metadata": {
      "needs_background": "light"
     },
     "output_type": "display_data"
    }
   ],
   "source": [
    "for key in column_dict.keys():\n",
    "    plt.plot([ node_dict[column_dict[key][0]][0] ,node_dict[column_dict[key][1]][0]],\n",
    "              [ node_dict[column_dict[key][0]][1] ,node_dict[column_dict[key][1]][1]]  )\n",
    "plt.box(False)"
   ]
  },
  {
   "cell_type": "markdown",
   "metadata": {},
   "source": [
    "### Beam Assignment "
   ]
  },
  {
   "cell_type": "code",
   "execution_count": 253,
   "metadata": {
    "collapsed": true,
    "jupyter": {
     "outputs_hidden": true
    }
   },
   "outputs": [],
   "source": [
    "beam_dict = {}\n",
    "for j in range( 1 , numFloor + 1):\n",
    "    end1 = (numBay + 1 ) * j + 1\n",
    "    end2 = end1 + 1\n",
    "    secType = beams[ j - 1]\n",
    "    \n",
    "    for i in range( 0 , numBay) :\n",
    "        ElastBeamColumn( eleTag , end1 , end2 , secType , E , 1 , M , massType)\n",
    "        # store info in dict\n",
    "        beam_dict[ eleTag ] = [end1 , end2]\n",
    "        end1 = end2 \n",
    "        end2 = end1 + 1\n",
    "        eleTag +=1 "
   ]
  },
  {
   "cell_type": "code",
   "execution_count": 254,
   "metadata": {
    "collapsed": true,
    "jupyter": {
     "outputs_hidden": true
    }
   },
   "outputs": [
    {
     "data": {
      "image/png": "[encoded data removed]",
      "text/plain": [
       "<Figure size 432x288 with 1 Axes>"
      ]
     },
     "metadata": {
      "needs_background": "light"
     },
     "output_type": "display_data"
    }
   ],
   "source": [
    "for key in beam_dict.keys():\n",
    "    plt.plot([ node_dict[beam_dict[key][0]][0] ,node_dict[beam_dict[key][1]][0]],\n",
    "              [ node_dict[beam_dict[key][0]][1] ,node_dict[beam_dict[key][1]][1]] , marker = \"d\" )"
   ]
  },
  {
   "cell_type": "markdown",
   "metadata": {},
   "source": [
    "### Visualization"
   ]
  },
  {
   "cell_type": "code",
   "execution_count": 255,
   "metadata": {
    "collapsed": true,
    "jupyter": {
     "outputs_hidden": true
    }
   },
   "outputs": [
    {
     "data": {
      "image/png": "[encoded data removed]",
      "text/plain": [
       "<Figure size 360x360 with 1 Axes>"
      ]
     },
     "metadata": {
      "needs_background": "light"
     },
     "output_type": "display_data"
    }
   ],
   "source": [
    "plt.figure(figsize= (5,5))\n",
    "\n",
    "\n",
    "for key in node_dict.keys():\n",
    "    plt.plot( node_dict[key][0] ,  node_dict[key][1] , \"o\" , MS = 10 , color=\"gray\")\n",
    "    plt.text( node_dict[key][0]+.3 ,  node_dict[key][1] , key )\n",
    "for key in column_dict.keys():\n",
    "    plt.plot([ node_dict[column_dict[key][0]][0] ,node_dict[column_dict[key][1]][0]],\n",
    "              [ node_dict[column_dict[key][0]][1] ,node_dict[column_dict[key][1]][1]]  \n",
    "            , color=\"red\")\n",
    "for key in beam_dict.keys():\n",
    "    plt.plot([ node_dict[beam_dict[key][0]][0] ,node_dict[beam_dict[key][1]][0]],\n",
    "              [ node_dict[beam_dict[key][0]][1] ,node_dict[beam_dict[key][1]][1]] \n",
    "            , color=\"k\")\n",
    "    "
   ]
  },
  {
   "cell_type": "markdown",
   "metadata": {},
   "source": [
    "## Loads in the system"
   ]
  },
  {
   "cell_type": "code",
   "execution_count": 256,
   "metadata": {
    "collapsed": true,
    "jupyter": {
     "outputs_hidden": true
    }
   },
   "outputs": [],
   "source": [
    "ops.timeSeries( \"Linear\" , 1 )"
   ]
  },
  {
   "cell_type": "code",
   "execution_count": 257,
   "metadata": {
    "collapsed": true,
    "jupyter": {
     "outputs_hidden": true
    }
   },
   "outputs": [],
   "source": [
    "ops.pattern( \"Plain\"  , 1 , 1)\n",
    "\n",
    "load_dict = { 4 : 2_000 , 7 : 2_000 , 10 : 2_000}\n",
    "\n",
    "for key , value in load_dict.items():\n",
    "    ops.load( key , value , 0 ,0 )"
   ]
  },
  {
   "cell_type": "markdown",
   "metadata": {
    "tags": []
   },
   "source": [
    "# B. Process"
   ]
  },
  {
   "cell_type": "code",
   "execution_count": 258,
   "metadata": {
    "collapsed": true,
    "jupyter": {
     "outputs_hidden": true
    },
    "tags": []
   },
   "outputs": [
    {
     "name": "stdout",
     "output_type": "stream",
     "text": [
      "Analysis complete\n"
     ]
    },
    {
     "name": "stderr",
     "output_type": "stream",
     "text": [
      "WARNING analysis Static - no ConstraintHandler yet specified, \n",
      " PlainHandler default will be used\n",
      "WARNING analysis Static - no Numberer specified, \n",
      " RCM default will be used\n",
      "WARNING analysis Static - no LinearSOE specified, \n",
      " ProfileSPDLinSOE default will be used\n",
      "WARNING PlainHandler::handle() -  constraint at dof 0 already specified for constrained node in MP_Constraint at node 2\n",
      "WARNING PlainHandler::handle() -  constraint at dof 0 already specified for constrained node in MP_Constraint at node 3\n"
     ]
    }
   ],
   "source": [
    "ops.integrator('LoadControl', 1.0)\n",
    "ops.algorithm('Linear')\n",
    "ops.analysis('Static')\n",
    "analysis_resut = ops.analyze(1)\n",
    "\n",
    "if analysis_resut == 0 : \n",
    "    print( \"Analysis complete\")"
   ]
  },
  {
   "cell_type": "markdown",
   "metadata": {
    "tags": []
   },
   "source": [
    "# C. Post-Process"
   ]
  },
  {
   "cell_type": "code",
   "execution_count": 259,
   "metadata": {
    "collapsed": true,
    "jupyter": {
     "outputs_hidden": true
    }
   },
   "outputs": [
    {
     "name": "stdout",
     "output_type": "stream",
     "text": [
      "[0.0640437931289212, 0.00158914974168947, -0.02486768350876392]\n",
      "[0.1459975876623622, 0.0024518961766870837, -0.019357987495421686]\n",
      "[0.1986051948373229, 0.002742095251829584, -0.011104356073484537]\n"
     ]
    }
   ],
   "source": [
    "for node in [  4 , 7 , 10 ] :\n",
    "    print( ops.nodeDisp( node  ) )"
   ]
  },
  {
   "cell_type": "code",
   "execution_count": 260,
   "metadata": {
    "collapsed": true,
    "jupyter": {
     "outputs_hidden": true
    }
   },
   "outputs": [
    {
     "data": {
      "text/plain": [
       "[0.0, 0.0, 0.0]"
      ]
     },
     "execution_count": 260,
     "metadata": {},
     "output_type": "execute_result"
    }
   ],
   "source": [
    "ops.nodeVel( 10)"
   ]
  },
  {
   "cell_type": "code",
   "execution_count": 262,
   "metadata": {
    "tags": []
   },
   "outputs": [
    {
     "data": {
      "image/png": "[encoded data removed]",
      "text/plain": [
       "<Figure size 360x360 with 1 Axes>"
      ]
     },
     "metadata": {
      "needs_background": "light"
     },
     "output_type": "display_data"
    }
   ],
   "source": [
    "scale = 10\n",
    "node_deform_dict = {}\n",
    "for i in node_dict.keys():\n",
    "    node_deform_dict[i] = [node_dict[i][0] + scale*(ops.nodeDisp(i,1)) , node_dict[i][1]]\n",
    "#    print( f\"{i} node disp = {round( ops.nodeDisp(i,1),5)}\")\n",
    "\n",
    "plt.figure(figsize= (5,5))\n",
    "for key in node_dict.keys():\n",
    "    plt.plot( node_dict[key][0] ,  node_dict[key][1] , \"o\" , MS = 10 , color=\"gray\")\n",
    "for key in column_dict.keys():\n",
    "    plt.plot([ node_dict[column_dict[key][0]][0] ,node_dict[column_dict[key][1]][0]],\n",
    "              [ node_dict[column_dict[key][0]][1] ,node_dict[column_dict[key][1]][1]]  \n",
    "            ,\"--\", color=\"gray\")\n",
    "for key in beam_dict.keys():\n",
    "    plt.plot([ node_dict[beam_dict[key][0]][0] ,node_dict[beam_dict[key][1]][0]],\n",
    "              [ node_dict[beam_dict[key][0]][1] ,node_dict[beam_dict[key][1]][1]] \n",
    "            , \"--\",color=\"gray\")\n",
    "\n",
    "for key in node_deform_dict.keys():\n",
    "    plt.plot( node_deform_dict[key][0] ,  node_deform_dict[key][1] , \"o\" , MS = 10 , color=\"b\")\n",
    "for key in column_dict.keys():\n",
    "    plt.plot([ node_deform_dict[column_dict[key][0]][0] ,node_deform_dict[column_dict[key][1]][0]],\n",
    "              [ node_deform_dict[column_dict[key][0]][1] ,node_deform_dict[column_dict[key][1]][1]]  \n",
    "            , color=\"b\")\n",
    "for key in beam_dict.keys():\n",
    "    plt.plot([ node_deform_dict[beam_dict[key][0]][0] ,node_deform_dict[beam_dict[key][1]][0]],\n",
    "              [ node_deform_dict[beam_dict[key][0]][1] ,node_deform_dict[beam_dict[key][1]][1]] \n",
    "            , color=\"b\")\n",
    "plt.box(False)"
   ]
  },
  {
   "cell_type": "markdown",
   "metadata": {},
   "source": [
    "---\n",
    "\n",
    "**NEXT WEEK**\n",
    "The topics for the next week \n",
    "\n",
    "- Dynamic characteristics of the systems, computations ( SDOF-MDOF) Mod superposition and application in Earthquake Engineering (MDOF)Dynamic characteristics of the systems, computations ( SDOF-MDOF) Mod superposition and application in Earthquake Engineering (MDOF)"
   ]
  }
 ],
 "metadata": {
  "anaconda-cloud": {},
  "celltoolbar": "Slideshow",
  "kernelspec": {
   "display_name": "Python 3 (ipykernel)",
   "language": "python",
   "name": "python3"
  },
  "language_info": {
   "codemirror_mode": {
    "name": "ipython",
    "version": 3
   },
   "file_extension": ".py",
   "mimetype": "text/x-python",
   "name": "python",
   "nbconvert_exporter": "python",
   "pygments_lexer": "ipython3",
   "version": "3.8.1"
  },
  "toc-autonumbering": false,
  "toc-showcode": true,
  "toc-showmarkdowntxt": true
 },
 "nbformat": 4,
 "nbformat_minor": 4
}
