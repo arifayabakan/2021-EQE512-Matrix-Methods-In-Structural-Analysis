{
 "cells": [
  {
   "cell_type": "markdown",
   "metadata": {
    "slideshow": {
     "slide_type": "slide"
    }
   },
   "source": [
    "<h1 align=\"center\">EQE512 MATRIX METHODS IN STRUCTURAL ANALYSIS \n",
    "<br>\n",
    "<br>\n",
    "Week 04\n",
    "<br>\n",
    "<br>\n",
    "Truss System - Stifness Matrix & Beam Element</h1> \n",
    "\n",
    "<h3 align=\"center\">Dr. Ahmet Anıl Dindar (adindar@gtu.edu.tr)</h3> \n",
    "<h4 align=\"center\">2021 Fall  </h4> "
   ]
  },
  {
   "cell_type": "markdown",
   "metadata": {},
   "source": [
    "---\n",
    "## Today's Topics\n",
    "\n",
    "1- Truss System Stiffness Matrix Creation\n",
    "\n",
    "2- Beam Element"
   ]
  },
  {
   "cell_type": "markdown",
   "metadata": {},
   "source": [
    "## Truss System Stiffness Matrix Creation"
   ]
  },
  {
   "cell_type": "code",
   "execution_count": 239,
   "metadata": {},
   "outputs": [],
   "source": [
    "import numpy as np\n",
    "def member_stiffness_creator(member_props) :\n",
    "    \"\"\"\n",
    "    E: modulus of elasticiy\n",
    "    A: Area \n",
    "    Joint I\n",
    "    Joint J\n",
    "    \n",
    "    Return \n",
    "    k_member    \n",
    "    \"\"\"\n",
    "    \n",
    "    delta_1 = member_props[\"jointJ\"][0] - member_props[\"jointI\"][0] \n",
    "    delta_2 = member_props[\"jointJ\"][1] - member_props[\"jointI\"][1] \n",
    "\n",
    "    length = (delta_1**2 + delta_2**2)**.5\n",
    "\n",
    "    c1 = delta_1 / length\n",
    "    c2 = delta_2 / length\n",
    "\n",
    "    a = c1**2\n",
    "    b = c1*c2\n",
    "    c = c2**2\n",
    "    \n",
    "    K = member_props[\"E\"]*member_props[\"A\"]/length\n",
    "\n",
    "    K2 = np.array([[ a , b , -a , -b] , \n",
    "             [ b , c , -b , -c],\n",
    "             [-a , -b , a , b ],\n",
    "             [-b , -c , b , c ]])\n",
    "\n",
    "    K_mem = K * K2\n",
    "    return( K_mem )"
   ]
  },
  {
   "cell_type": "code",
   "execution_count": 242,
   "metadata": {
    "jupyter": {
     "source_hidden": true
    },
    "tags": []
   },
   "outputs": [
    {
     "name": "stdout",
     "output_type": "stream",
     "text": [
      "[[ 277088.       0. -277088.      -0.]\n",
      " [      0.       0.      -0.      -0.]\n",
      " [-277088.      -0.  277088.       0.]\n",
      " [     -0.      -0.       0.       0.]]\n"
     ]
    }
   ],
   "source": [
    "member_1 = {\"E\": 2.1E5 , \"A\" : 3958.4 , \n",
    "                \"jointI\": joint_nodes[3] , \n",
    "                \"jointJ\": joint_nodes[1]}\n",
    "k = member_stiffness_creator(member_1)\n",
    "\n",
    "print( k )"
   ]
  },
  {
   "cell_type": "code",
   "execution_count": 244,
   "metadata": {
    "tags": []
   },
   "outputs": [],
   "source": [
    "# Introducing a variable for Truss members. \n",
    "DOF = 2"
   ]
  },
  {
   "cell_type": "code",
   "execution_count": 243,
   "metadata": {
    "tags": []
   },
   "outputs": [],
   "source": [
    "joint_nodes = {1:[3000,0] , 2:[0,3000],3:[0,0],4:[3000,3000]}"
   ]
  },
  {
   "cell_type": "code",
   "execution_count": 248,
   "metadata": {
    "tags": []
   },
   "outputs": [],
   "source": [
    "member_nodes= {1:[3,1] , 2:[2,1],3:[1,4]}"
   ]
  },
  {
   "cell_type": "code",
   "execution_count": 245,
   "metadata": {
    "tags": []
   },
   "outputs": [],
   "source": [
    "member_1 = {\"E\": 2.1E5 , \"A\" : 3958.4 , \n",
    "                \"jointI\": joint_nodes[3] , \n",
    "                \"jointJ\": joint_nodes[1]}"
   ]
  },
  {
   "cell_type": "code",
   "execution_count": 246,
   "metadata": {
    "tags": []
   },
   "outputs": [],
   "source": [
    "member_2 = {\"E\": 2.1E5 , \"A\" : 3958.4 , \n",
    "                \"jointI\": joint_nodes[2] , \n",
    "                \"jointJ\": joint_nodes[1]}"
   ]
  },
  {
   "cell_type": "code",
   "execution_count": 247,
   "metadata": {
    "tags": []
   },
   "outputs": [],
   "source": [
    "member_3= {\"E\": 2.1E5 , \"A\" : 3958.4 , \n",
    "                \"jointI\": joint_nodes[1] , \n",
    "                \"jointJ\": joint_nodes[4]}"
   ]
  },
  {
   "cell_type": "code",
   "execution_count": 249,
   "metadata": {
    "tags": []
   },
   "outputs": [
    {
     "data": {
      "text/plain": [
       "{1: {'E': 210000.0, 'A': 3958.4, 'jointI': [0, 0], 'jointJ': [3000, 0]},\n",
       " 2: {'E': 210000.0, 'A': 3958.4, 'jointI': [0, 3000], 'jointJ': [3000, 0]},\n",
       " 3: {'E': 210000.0, 'A': 3958.4, 'jointI': [3000, 0], 'jointJ': [3000, 3000]}}"
      ]
     },
     "execution_count": 249,
     "metadata": {},
     "output_type": "execute_result"
    }
   ],
   "source": [
    "member_props = {}\n",
    "\n",
    "for member_no , member_property in zip( member_nodes.keys() , [member_1 ,  member_2 , member_3]):\n",
    "    \n",
    "    member_props[ member_no ] = member_property   \n",
    "    \n",
    "member_props"
   ]
  },
  {
   "cell_type": "code",
   "execution_count": 250,
   "metadata": {
    "tags": []
   },
   "outputs": [
    {
     "data": {
      "text/plain": [
       "{1: array([[ 277088.,       0., -277088.,      -0.],\n",
       "        [      0.,       0.,      -0.,      -0.],\n",
       "        [-277088.,      -0.,  277088.,       0.],\n",
       "        [     -0.,      -0.,       0.,       0.]]),\n",
       " 2: array([[ 97965.40189271, -97965.40189271, -97965.40189271,\n",
       "          97965.40189271],\n",
       "        [-97965.40189271,  97965.40189271,  97965.40189271,\n",
       "         -97965.40189271],\n",
       "        [-97965.40189271,  97965.40189271,  97965.40189271,\n",
       "         -97965.40189271],\n",
       "        [ 97965.40189271, -97965.40189271, -97965.40189271,\n",
       "          97965.40189271]]),\n",
       " 3: array([[      0.,       0.,      -0.,      -0.],\n",
       "        [      0.,  277088.,      -0., -277088.],\n",
       "        [     -0.,      -0.,       0.,       0.],\n",
       "        [     -0., -277088.,       0.,  277088.]])}"
      ]
     },
     "execution_count": 250,
     "metadata": {},
     "output_type": "execute_result"
    }
   ],
   "source": [
    "k_members = {}\n",
    "\n",
    "for member_no , member_property in member_props.items() : \n",
    "    \n",
    "    k_members[member_no] =  member_stiffness_creator(member_property  )\n",
    "    \n",
    "    \n",
    "k_members"
   ]
  },
  {
   "cell_type": "code",
   "execution_count": 251,
   "metadata": {
    "tags": []
   },
   "outputs": [
    {
     "name": "stdout",
     "output_type": "stream",
     "text": [
      "[[0 0 0 0 0 0 0 0]\n",
      " [0 0 0 0 0 0 0 0]\n",
      " [0 0 0 0 0 0 0 0]\n",
      " [0 0 0 0 0 0 0 0]\n",
      " [0 0 0 0 0 0 0 0]\n",
      " [0 0 0 0 0 0 0 0]\n",
      " [0 0 0 0 0 0 0 0]\n",
      " [0 0 0 0 0 0 0 0]] \n",
      "====================================================================================================\n",
      "[[ 277088.       0. -277088.      -0.]\n",
      " [      0.       0.      -0.      -0.]\n",
      " [-277088.      -0.  277088.       0.]\n",
      " [     -0.      -0.       0.       0.]] \n",
      "====================================================================================================\n",
      "3 3 \n",
      "====================================================================================================\n",
      "[[277088.      0.]\n",
      " [     0.      0.]] \n",
      "====================================================================================================\n",
      "[[     0      0      0      0      0      0      0      0]\n",
      " [     0      0      0      0      0      0      0      0]\n",
      " [     0      0      0      0      0      0      0      0]\n",
      " [     0      0      0      0      0      0      0      0]\n",
      " [     0      0      0      0 277088      0      0      0]\n",
      " [     0      0      0      0      0      0      0      0]\n",
      " [     0      0      0      0      0      0      0      0]\n",
      " [     0      0      0      0      0      0      0      0]]\n",
      "3 1 \n",
      "====================================================================================================\n",
      "[[-277088.      -0.]\n",
      " [     -0.      -0.]] \n",
      "====================================================================================================\n",
      "[[      0       0       0       0       0       0       0       0]\n",
      " [      0       0       0       0       0       0       0       0]\n",
      " [      0       0       0       0       0       0       0       0]\n",
      " [      0       0       0       0       0       0       0       0]\n",
      " [-277088       0       0       0  277088       0       0       0]\n",
      " [      0       0       0       0       0       0       0       0]\n",
      " [      0       0       0       0       0       0       0       0]\n",
      " [      0       0       0       0       0       0       0       0]]\n",
      "1 3 \n",
      "====================================================================================================\n",
      "[[-277088.      -0.]\n",
      " [     -0.      -0.]] \n",
      "====================================================================================================\n",
      "[[      0       0       0       0 -277088       0       0       0]\n",
      " [      0       0       0       0       0       0       0       0]\n",
      " [      0       0       0       0       0       0       0       0]\n",
      " [      0       0       0       0       0       0       0       0]\n",
      " [-277088       0       0       0  277088       0       0       0]\n",
      " [      0       0       0       0       0       0       0       0]\n",
      " [      0       0       0       0       0       0       0       0]\n",
      " [      0       0       0       0       0       0       0       0]]\n",
      "1 1 \n",
      "====================================================================================================\n",
      "[[277088.      0.]\n",
      " [     0.      0.]] \n",
      "====================================================================================================\n",
      "[[ 277088       0       0       0 -277088       0       0       0]\n",
      " [      0       0       0       0       0       0       0       0]\n",
      " [      0       0       0       0       0       0       0       0]\n",
      " [      0       0       0       0       0       0       0       0]\n",
      " [-277088       0       0       0  277088       0       0       0]\n",
      " [      0       0       0       0       0       0       0       0]\n",
      " [      0       0       0       0       0       0       0       0]\n",
      " [      0       0       0       0       0       0       0       0]]\n",
      "[[ 97965.40189271 -97965.40189271 -97965.40189271  97965.40189271]\n",
      " [-97965.40189271  97965.40189271  97965.40189271 -97965.40189271]\n",
      " [-97965.40189271  97965.40189271  97965.40189271 -97965.40189271]\n",
      " [ 97965.40189271 -97965.40189271 -97965.40189271  97965.40189271]] \n",
      "====================================================================================================\n",
      "2 2 \n",
      "====================================================================================================\n",
      "[[ 97965.40189271 -97965.40189271]\n",
      " [-97965.40189271  97965.40189271]] \n",
      "====================================================================================================\n",
      "[[ 277088       0       0       0 -277088       0       0       0]\n",
      " [      0       0       0       0       0       0       0       0]\n",
      " [      0       0   97965  -97965       0       0       0       0]\n",
      " [      0       0  -97965   97965       0       0       0       0]\n",
      " [-277088       0       0       0  277088       0       0       0]\n",
      " [      0       0       0       0       0       0       0       0]\n",
      " [      0       0       0       0       0       0       0       0]\n",
      " [      0       0       0       0       0       0       0       0]]\n",
      "2 1 \n",
      "====================================================================================================\n",
      "[[-97965.40189271  97965.40189271]\n",
      " [ 97965.40189271 -97965.40189271]] \n",
      "====================================================================================================\n",
      "[[ 277088       0       0       0 -277088       0       0       0]\n",
      " [      0       0       0       0       0       0       0       0]\n",
      " [ -97965   97965   97965  -97965       0       0       0       0]\n",
      " [  97965  -97965  -97965   97965       0       0       0       0]\n",
      " [-277088       0       0       0  277088       0       0       0]\n",
      " [      0       0       0       0       0       0       0       0]\n",
      " [      0       0       0       0       0       0       0       0]\n",
      " [      0       0       0       0       0       0       0       0]]\n",
      "1 2 \n",
      "====================================================================================================\n",
      "[[-97965.40189271  97965.40189271]\n",
      " [ 97965.40189271 -97965.40189271]] \n",
      "====================================================================================================\n",
      "[[ 277088       0  -97965   97965 -277088       0       0       0]\n",
      " [      0       0   97965  -97965       0       0       0       0]\n",
      " [ -97965   97965   97965  -97965       0       0       0       0]\n",
      " [  97965  -97965  -97965   97965       0       0       0       0]\n",
      " [-277088       0       0       0  277088       0       0       0]\n",
      " [      0       0       0       0       0       0       0       0]\n",
      " [      0       0       0       0       0       0       0       0]\n",
      " [      0       0       0       0       0       0       0       0]]\n",
      "1 1 \n",
      "====================================================================================================\n",
      "[[ 97965.40189271 -97965.40189271]\n",
      " [-97965.40189271  97965.40189271]] \n",
      "====================================================================================================\n",
      "[[ 375053  -97965  -97965   97965 -277088       0       0       0]\n",
      " [ -97965   97965   97965  -97965       0       0       0       0]\n",
      " [ -97965   97965   97965  -97965       0       0       0       0]\n",
      " [  97965  -97965  -97965   97965       0       0       0       0]\n",
      " [-277088       0       0       0  277088       0       0       0]\n",
      " [      0       0       0       0       0       0       0       0]\n",
      " [      0       0       0       0       0       0       0       0]\n",
      " [      0       0       0       0       0       0       0       0]]\n",
      "[[      0.       0.      -0.      -0.]\n",
      " [      0.  277088.      -0. -277088.]\n",
      " [     -0.      -0.       0.       0.]\n",
      " [     -0. -277088.       0.  277088.]] \n",
      "====================================================================================================\n",
      "1 1 \n",
      "====================================================================================================\n",
      "[[     0.      0.]\n",
      " [     0. 277088.]] \n",
      "====================================================================================================\n",
      "[[ 375053  -97965  -97965   97965 -277088       0       0       0]\n",
      " [ -97965  375053   97965  -97965       0       0       0       0]\n",
      " [ -97965   97965   97965  -97965       0       0       0       0]\n",
      " [  97965  -97965  -97965   97965       0       0       0       0]\n",
      " [-277088       0       0       0  277088       0       0       0]\n",
      " [      0       0       0       0       0       0       0       0]\n",
      " [      0       0       0       0       0       0       0       0]\n",
      " [      0       0       0       0       0       0       0       0]]\n",
      "1 4 \n",
      "====================================================================================================\n",
      "[[     -0.      -0.]\n",
      " [     -0. -277088.]] \n",
      "====================================================================================================\n",
      "[[ 375053  -97965  -97965   97965 -277088       0       0       0]\n",
      " [ -97965  375053   97965  -97965       0       0       0 -277088]\n",
      " [ -97965   97965   97965  -97965       0       0       0       0]\n",
      " [  97965  -97965  -97965   97965       0       0       0       0]\n",
      " [-277088       0       0       0  277088       0       0       0]\n",
      " [      0       0       0       0       0       0       0       0]\n",
      " [      0       0       0       0       0       0       0       0]\n",
      " [      0       0       0       0       0       0       0       0]]\n",
      "4 1 \n",
      "====================================================================================================\n",
      "[[     -0.      -0.]\n",
      " [     -0. -277088.]] \n",
      "====================================================================================================\n",
      "[[ 375053  -97965  -97965   97965 -277088       0       0       0]\n",
      " [ -97965  375053   97965  -97965       0       0       0 -277088]\n",
      " [ -97965   97965   97965  -97965       0       0       0       0]\n",
      " [  97965  -97965  -97965   97965       0       0       0       0]\n",
      " [-277088       0       0       0  277088       0       0       0]\n",
      " [      0       0       0       0       0       0       0       0]\n",
      " [      0       0       0       0       0       0       0       0]\n",
      " [      0 -277088       0       0       0       0       0       0]]\n",
      "4 4 \n",
      "====================================================================================================\n",
      "[[     0.      0.]\n",
      " [     0. 277088.]] \n",
      "====================================================================================================\n",
      "[[ 375053  -97965  -97965   97965 -277088       0       0       0]\n",
      " [ -97965  375053   97965  -97965       0       0       0 -277088]\n",
      " [ -97965   97965   97965  -97965       0       0       0       0]\n",
      " [  97965  -97965  -97965   97965       0       0       0       0]\n",
      " [-277088       0       0       0  277088       0       0       0]\n",
      " [      0       0       0       0       0       0       0       0]\n",
      " [      0       0       0       0       0       0       0       0]\n",
      " [      0 -277088       0       0       0       0       0  277088]]\n"
     ]
    }
   ],
   "source": [
    "K = np.zeros( (len(joint_nodes) * DOF , len(joint_nodes) * DOF) , dtype=int)\n",
    "\n",
    "print( K,\"\\n\"+\"=\"*100)\n",
    "\n",
    "for truss_no , truss_node in member_nodes.items() :     \n",
    "    \n",
    "    k_temp = k_members[ truss_no]\n",
    "    \n",
    "    print( k_temp ,\"\\n\"+\"=\"*100)\n",
    "    \n",
    "    for counter_i , i in enumerate( truss_node ): \n",
    "        \n",
    "        for counter_j , j in enumerate(truss_node) :\n",
    "            \n",
    "            print( i, j,\"\\n\"+\"=\"*100)\n",
    "            \n",
    "            add_k = k_temp[ counter_i * DOF  : counter_i * DOF + DOF  , counter_j * DOF  : counter_j * DOF + DOF  ] \n",
    "            \n",
    "            print( add_k , \"\\n\"+\"=\"*100)\n",
    "            \n",
    "            if i == 1 and j == 1 : \n",
    "                K[ 0  : DOF  , 0  : DOF] = K[ 0  : DOF  , 0  : DOF ] + add_k\n",
    "                \n",
    "            else:\n",
    "                K[ i * DOF - DOF  : i * DOF   , j * DOF - DOF : j * DOF  ] = K[ i * DOF - DOF  : i * DOF  , j * DOF - DOF : j * DOF  ] + add_k                             \n",
    "            print( K )    "
   ]
  },
  {
   "cell_type": "markdown",
   "metadata": {},
   "source": [
    "## Truss System Solution Example"
   ]
  },
  {
   "cell_type": "markdown",
   "metadata": {},
   "source": [
    "What about algorithm?"
   ]
  },
  {
   "cell_type": "code",
   "execution_count": 252,
   "metadata": {},
   "outputs": [
    {
     "data": {
      "text/plain": [
       "array([[ 375053,  -97965,  -97965,   97965, -277088,       0,       0,\n",
       "              0],\n",
       "       [ -97965,  375053,   97965,  -97965,       0,       0,       0,\n",
       "        -277088],\n",
       "       [ -97965,   97965,   97965,  -97965,       0,       0,       0,\n",
       "              0],\n",
       "       [  97965,  -97965,  -97965,   97965,       0,       0,       0,\n",
       "              0],\n",
       "       [-277088,       0,       0,       0,  277088,       0,       0,\n",
       "              0],\n",
       "       [      0,       0,       0,       0,       0,       0,       0,\n",
       "              0],\n",
       "       [      0,       0,       0,       0,       0,       0,       0,\n",
       "              0],\n",
       "       [      0, -277088,       0,       0,       0,       0,       0,\n",
       "         277088]])"
      ]
     },
     "execution_count": 252,
     "metadata": {},
     "output_type": "execute_result"
    }
   ],
   "source": [
    "K"
   ]
  },
  {
   "cell_type": "markdown",
   "metadata": {},
   "source": [
    "<img src=\"figures/4-truss_system_solution_1.png\">"
   ]
  },
  {
   "cell_type": "markdown",
   "metadata": {},
   "source": [
    "Challenge\n",
    "\n",
    "- Once you have the system stiffness matrix, can you apply the BC to the matrix and obtain unknown displacements?\n",
    "\n",
    "- HAving the displacements can you find out the unknown forces (SR)?\n",
    "\n",
    "Your assignment #2 will cover this topic?\n",
    "\n",
    "---\n",
    "\n",
    "---\n"
   ]
  },
  {
   "cell_type": "code",
   "execution_count": null,
   "metadata": {},
   "outputs": [],
   "source": []
  },
  {
   "cell_type": "code",
   "execution_count": null,
   "metadata": {},
   "outputs": [],
   "source": []
  },
  {
   "cell_type": "code",
   "execution_count": null,
   "metadata": {},
   "outputs": [],
   "source": []
  },
  {
   "cell_type": "code",
   "execution_count": null,
   "metadata": {},
   "outputs": [],
   "source": []
  },
  {
   "cell_type": "code",
   "execution_count": null,
   "metadata": {},
   "outputs": [],
   "source": []
  },
  {
   "cell_type": "code",
   "execution_count": null,
   "metadata": {},
   "outputs": [],
   "source": []
  },
  {
   "cell_type": "code",
   "execution_count": null,
   "metadata": {},
   "outputs": [],
   "source": []
  },
  {
   "cell_type": "markdown",
   "metadata": {},
   "source": [
    "# Frame systems explanation\n",
    "\n",
    "_A truss is a structure composed of beam and columns joined together at their end points._\n",
    "\n",
    "<img src=\"figures/7-EQE512-FrameExplanation.png\" width=\"40%\">\n",
    "\n",
    "\n",
    "<img src=\"figures/4-beam_stiffness_1.png\" width=\"60%\">\n",
    "\n",
    "# Beam Element\n",
    "\n",
    "Transformation matrix is identical, since the member orientation is horizontal (same reference frame)\n",
    "\n",
    "**Freedom**\n",
    "\n",
    "<img src=\"figures/8-EQE512-BeamMemberExplanation.png\" width=\"80%\">\n",
    "\n",
    "**Global Stiffness Matrix**\n",
    "\n",
    "<img src=\"figures/8-EQE512-BeamMemberStiffness.png\" width=\"50%\">\n",
    "\n",
    "---\n"
   ]
  },
  {
   "cell_type": "markdown",
   "metadata": {},
   "source": [
    "## Beam element stiffness matrix"
   ]
  },
  {
   "cell_type": "code",
   "execution_count": null,
   "metadata": {},
   "outputs": [],
   "source": [
    "E = 30000 # N/mm2\n",
    "A = 10000 # mm2\n",
    "I = 100000 # N/mm2\n",
    "L = 3000 #mm\n",
    "x1i, x2i = 0,0\n",
    "x1j, x2j = 3000,4000\n"
   ]
  },
  {
   "cell_type": "code",
   "execution_count": null,
   "metadata": {},
   "outputs": [],
   "source": [
    "import numpy as np\n",
    "K = np.zeros((6,6))\n",
    "K"
   ]
  },
  {
   "cell_type": "code",
   "execution_count": null,
   "metadata": {},
   "outputs": [],
   "source": [
    "########### PLEASE FILL THE MATRIX GIVEN BELOW IN YOUR MIDTERM EXAM ###########\n",
    "def column_stiffness_matrix( x1i, x2i , x1j, x2j , E , A , I, L ):\n",
    "    EAL3 = E * A / (L**3)\n",
    "    twelveEIL5 = 12*E*I/(L**5)\n",
    "    sizEIL3 = 6 * E * I / (L**3)\n",
    "    twoEIL = 2 * E * I / (L)\n",
    "    \n",
    "    delta_1 = x1i - x1j\n",
    "    delta_2 = x2i - x2j \n",
    "    \n",
    "    K = np.array( [[],\n",
    "                  [],\n",
    "                  [],\n",
    "                  [],\n",
    "                  [],\n",
    "                  []])\n",
    "    return K \n"
   ]
  },
  {
   "cell_type": "code",
   "execution_count": null,
   "metadata": {},
   "outputs": [],
   "source": [
    "member_stiffness = column_stiffness_matrix( x1i, x2i , x1j, x2j , E , A , I, L )"
   ]
  },
  {
   "cell_type": "markdown",
   "metadata": {},
   "source": [
    "# Loading \n",
    "\n",
    "<img src=\"figures/11-EQE512-Loads.PNG\"   style=\"width:60%\">"
   ]
  },
  {
   "cell_type": "markdown",
   "metadata": {},
   "source": [
    "## Unloaded\n",
    "\n",
    "_Similar to the Truss elements, the loads act on the nodes._\n"
   ]
  },
  {
   "cell_type": "markdown",
   "metadata": {},
   "source": [
    "## Loaded\n",
    "\n",
    "**Uniform Loading**\n",
    "\n",
    "<img src=\"./figures/10a-EQE512-BeamLoading-Uniform.png\" width=\"60%\">\n",
    "\n",
    "**Triangle Loading**\n",
    "\n",
    "<img src=\"./figures/10b-EQE512-BeamLoading-Triangle.png\" width=\"60%\">\n",
    "\n",
    "**Point Loading**\n",
    "\n",
    "<img src=\"./figures/10c-EQE512-BeamLoading-SingleLoad.png\" width=\"60%\">\n",
    "\n",
    "**Trapezoidal Loading**\n",
    "\n",
    "<img src=\"./figures/10d-EQE512-BeamLoading-Trapz.png\" width=\"60%\">"
   ]
  },
  {
   "cell_type": "markdown",
   "metadata": {},
   "source": [
    "**Solution :**\n",
    "\n",
    "1. Obtain the equivalent end forces\n",
    "2. Apply the obtained values in opposite directions at the nodes\n",
    "3. Ignore the span loads\n",
    "\n",
    "<img src=\"./figures/12-EQE512-Loads-Apply.PNG\"   style=\"width:70%\">\n"
   ]
  },
  {
   "cell_type": "markdown",
   "metadata": {},
   "source": [
    "---\n",
    "\n",
    "**NEXT WEEK**\n",
    "The topics for the next week \n",
    "\n",
    "- \"Frame Systems- Moment Resisting Frames\"\n",
    "\n",
    "\n",
    "<img src=\"http://worshiphousemedia.s3.amazonaws.com/images/main/s/st/bnt/st/seeyounextweek1.jpg\" width=\"30%\" >\n",
    "\n",
    "\n",
    "\n"
   ]
  },
  {
   "cell_type": "code",
   "execution_count": null,
   "metadata": {},
   "outputs": [],
   "source": []
  }
 ],
 "metadata": {
  "anaconda-cloud": {},
  "celltoolbar": "Slideshow",
  "kernelspec": {
   "display_name": "Python 3",
   "language": "python",
   "name": "python3"
  },
  "language_info": {
   "codemirror_mode": {
    "name": "ipython",
    "version": 3
   },
   "file_extension": ".py",
   "mimetype": "text/x-python",
   "name": "python",
   "nbconvert_exporter": "python",
   "pygments_lexer": "ipython3",
   "version": "3.8.1"
  },
  "toc-autonumbering": false
 },
 "nbformat": 4,
 "nbformat_minor": 4
}
