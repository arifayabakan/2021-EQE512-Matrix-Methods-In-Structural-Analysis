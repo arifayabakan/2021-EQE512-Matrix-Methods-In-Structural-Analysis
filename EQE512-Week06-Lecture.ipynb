{
 "cells": [
  {
   "cell_type": "markdown",
   "metadata": {
    "slideshow": {
     "slide_type": "slide"
    }
   },
   "source": [
    "<h1 align=\"center\">EQE512 MATRIX METHODS IN STRUCTURAL ANALYSIS \n",
    "<br>\n",
    "<br>\n",
    "Week 06\n",
    "<br>\n",
    "<br>\n",
    "Beam member w/ span load & Column member &  Frame Systems</h1> \n",
    "\n",
    "<h3 align=\"center\">Dr. Ahmet Anıl Dindar (adindar@gtu.edu.tr)</h3> \n",
    "<h4 align=\"center\">2021 Fall  </h4> "
   ]
  },
  {
   "cell_type": "markdown",
   "metadata": {},
   "source": [
    "---\n",
    "**Today's Topics**\n",
    "\n",
    "1- Example with beam\n",
    "\n",
    "2- Column member stiffness matrix\n",
    "\n",
    "3- Frame System stiffness matrix\n",
    "\n",
    "---"
   ]
  },
  {
   "cell_type": "markdown",
   "metadata": {},
   "source": [
    "# 1- Loaded Beam\n",
    "\n",
    "**For the given system, draw the internal force diagrams. (Material C25)**\n",
    "\n",
    "<img src=\"./figures/6-Example-Beam_loaded.png\" width = \"600\">"
   ]
  },
  {
   "cell_type": "markdown",
   "metadata": {},
   "source": [
    "**Numbering and mapping of the system displacments and forces.**\n",
    "\n",
    "<img src=\"./figures/6-Example-Beam_loaded-2.png\" width=\"600\">"
   ]
  },
  {
   "cell_type": "code",
   "execution_count": null,
   "metadata": {},
   "outputs": [],
   "source": [
    "DOF = 2\n",
    "\n",
    "joint_nodes = {1:[0,0] , 2:[0,4], 3:[0,7]}\n",
    "\n",
    "member_nodes= {1:[1,2] , 2:[2,3]}\n",
    "\n",
    "member_1 = {\"E\":30_000_000 ,  \"I\" : round((.250 * .500**3 )/12 ,10) ,  \n",
    "                \"jointI\": joint_nodes[1] , \n",
    "                \"jointJ\": joint_nodes[2]}\n",
    "\n",
    "member_2 = {\"E\":30_000_000 ,  \"I\" : round((.250*.500**3)/12 ,10) ,  \n",
    "                \"jointI\": joint_nodes[2] , \n",
    "                \"jointJ\": joint_nodes[3]}\n",
    "\n",
    "member_props = {}\n",
    "\n",
    "for member_no , member_property in zip( member_nodes.keys() , [member_1 ,  member_2] ):\n",
    "    \n",
    "    member_props[ member_no ] = member_property   \n",
    "    \n",
    "member_props"
   ]
  },
  {
   "cell_type": "code",
   "execution_count": null,
   "metadata": {},
   "outputs": [],
   "source": [
    "def beam_load_single_force(f,a,b):\n",
    "    L = a+b\n",
    "    s1 = f*( 1 - (3*a**2)/(L**2) + (2*a**3)/(L**3) )\n",
    "    s2 = f*( a - (2*a**2)/(L) + (a**3)/(L**2) )\n",
    "    s3 = f*( (3*a**2)/(L**2) - (2*a**3)/(L**3) )\n",
    "    s4 = f*( -1 * (a**2)/(L) + (a**3)/(L**2) )\n",
    "    \n",
    "    return(s1,s2,s3,s4)"
   ]
  },
  {
   "cell_type": "code",
   "execution_count": null,
   "metadata": {},
   "outputs": [],
   "source": [
    "def beam_load_uniform_force(f,L):\n",
    "    s1 = (f * L) / 2\n",
    "    s2 = (f * L**2) / 12\n",
    "    s3 = (f * L) / 2\n",
    "    s4 = (-1 * f * L**2) / 12    \n",
    "    \n",
    "    return(s1,s2,s3,s4)"
   ]
  },
  {
   "cell_type": "code",
   "execution_count": null,
   "metadata": {},
   "outputs": [],
   "source": [
    "# For the member 1\n",
    "s1_1,s1_2,s1_3,s1_4 = beam_load_single_force( 100 , 2,2)\n",
    "print( s1_1,s1_2,s1_3,s1_4 )"
   ]
  },
  {
   "cell_type": "code",
   "execution_count": null,
   "metadata": {},
   "outputs": [],
   "source": [
    "# For the member 2\n",
    "s2_1,s2_2,s2_3,s2_4 = beam_load_uniform_force( 20 , 3)\n",
    "print( s2_1,s2_2,s2_3,s2_4 )"
   ]
  },
  {
   "cell_type": "code",
   "execution_count": null,
   "metadata": {},
   "outputs": [],
   "source": [
    "# Load Vector"
   ]
  },
  {
   "cell_type": "code",
   "execution_count": null,
   "metadata": {},
   "outputs": [],
   "source": [
    "import numpy as np \n",
    "\n",
    "P = np.array([-50 , -50 , -80 , 35, -30 , 15])\n",
    "print( P )"
   ]
  },
  {
   "cell_type": "markdown",
   "metadata": {},
   "source": [
    "<img src=\"./figures/6-Example-Beam_loaded-3.png\" width=\"600\">"
   ]
  },
  {
   "cell_type": "markdown",
   "metadata": {},
   "source": [
    "**Import the previous course notebook**"
   ]
  },
  {
   "cell_type": "code",
   "execution_count": null,
   "metadata": {},
   "outputs": [],
   "source": [
    "import EQE512_functions"
   ]
  },
  {
   "cell_type": "code",
   "execution_count": null,
   "metadata": {},
   "outputs": [],
   "source": [
    "k_members = {}\n",
    "\n",
    "for member_no , member_property in member_props.items() : \n",
    "    print( member_no)\n",
    "    k_members[member_no] =  EQE512_functions.beam_stiffness_matrix(member_property  )\n",
    "    \n",
    "    print( \"=\"*100 , \"\\n\" , k_members[member_no])\n",
    "    \n",
    "print( \"~\"*100)  "
   ]
  },
  {
   "cell_type": "code",
   "execution_count": null,
   "metadata": {},
   "outputs": [],
   "source": [
    "K_system = EQE512_functions.system_stiffness_matrix( k_members , joint_nodes , member_nodes , DOF = 2)\n",
    "print( K_system)"
   ]
  },
  {
   "cell_type": "markdown",
   "metadata": {},
   "source": [
    "**Apply Boundary Conditions**"
   ]
  },
  {
   "cell_type": "code",
   "execution_count": null,
   "metadata": {},
   "outputs": [],
   "source": [
    "P_factor = np.array( [ 0 , 0 , 0, 1 , 0 , 1 ] )"
   ]
  },
  {
   "cell_type": "code",
   "execution_count": null,
   "metadata": {},
   "outputs": [],
   "source": [
    "U_factor = np.array( [ 0 , 0 , 0, 1 , 0 , 1 ] )"
   ]
  },
  {
   "cell_type": "code",
   "execution_count": null,
   "metadata": {},
   "outputs": [],
   "source": [
    "K_bc = EQE512_functions.apply_boundary_conditions( K_system , U_factor , P_factor)\n",
    "K_bc"
   ]
  },
  {
   "cell_type": "code",
   "execution_count": null,
   "metadata": {},
   "outputs": [],
   "source": [
    "P_bc = P*P_factor\n",
    "P_bc"
   ]
  },
  {
   "cell_type": "code",
   "execution_count": null,
   "metadata": {},
   "outputs": [],
   "source": [
    "U = np.matmul( np.linalg.inv( K_bc ) , P_bc) \n",
    "U"
   ]
  },
  {
   "cell_type": "markdown",
   "metadata": {},
   "source": [
    "**Solution**"
   ]
  },
  {
   "cell_type": "code",
   "execution_count": null,
   "metadata": {},
   "outputs": [],
   "source": [
    "P_solution = np.matmul( K_system , U)\n",
    "print( P_solution )"
   ]
  },
  {
   "cell_type": "code",
   "execution_count": null,
   "metadata": {},
   "outputs": [],
   "source": [
    "P_support_reactions = P_solution - P\n",
    "P_support_reactions"
   ]
  },
  {
   "cell_type": "markdown",
   "metadata": {
    "tags": []
   },
   "source": [
    "---\n",
    "\n",
    "# Columns"
   ]
  },
  {
   "cell_type": "markdown",
   "metadata": {},
   "source": [
    "**Freedom**\n",
    "\n",
    "<img src=\"figures/9-EQE512-ColumnMemberExplanation.PNG\" width=\"800\">\n",
    "\n",
    "---\n",
    "\n",
    "**Transformation Matrix**\n",
    "\n",
    "Remember the relation between local and global terms\n",
    "\n",
    "$ \\Large k^i = (T^i) \\hat{k}^i T^i $ \n",
    "\n",
    "Remember the transformation matrix;\n",
    "\n",
    "$ \\Large T^i = \\begin{bmatrix} \\frac{\\Delta_1}{L} & \\frac{\\Delta_2}{L}  & 0 & 0 & 0 & 0 \\\\ \n",
    "                              -\\frac{\\Delta_2}{L} & \\frac{\\Delta_1}{L}  & 0  & 0 & 0 & 0 \\\\ \n",
    "                               0 & 0 & 1 & 0 & 0 & 0  \\\\  \n",
    "                               0 & 0 & 0 &  \\frac{\\Delta_1}{L} & \\frac{\\Delta_2}{L} 0 & 0 &   \\\\ \n",
    "                              0  & 0 & 0 & -\\frac{\\Delta_2}{L} & \\frac{\\Delta_1}{L} 0 & 0 &   \\\\ \n",
    "                               0 & 0 & 0 & 0 & 0 & 1  \\\\  \n",
    "                               \\end{bmatrix}$\n",
    "\n",
    "---\n",
    "\n",
    "**Local Stiffness Matrix**\n",
    "\n",
    "<img src=\"figures/column_stiffness_in_local_coordinates.png\" width=\"800\">\n",
    "\n",
    "**Global Stiffness Matrix**\n",
    "\n",
    "After applying the transformation matrix\n",
    "\n",
    "$ \\Large k^i = (T^i)^T \\hat{k}^i T^i$\n",
    "\n",
    "Than the stiffness matrix in global terms\n",
    "\n",
    "<img src=\"figures/9-EQE512-ColumnMemberStiffness.PNG\" width=\"1000\">"
   ]
  },
  {
   "cell_type": "markdown",
   "metadata": {},
   "source": [
    "**Transformation Matrix of Frame Element**"
   ]
  },
  {
   "cell_type": "code",
   "execution_count": null,
   "metadata": {},
   "outputs": [],
   "source": [
    "def transformation_matrix( x1,y1,x2,y2) :\n",
    "    delta_1 = (x1-x2)\n",
    "    delta_2 = (y1-y2)\n",
    "    L = ( (delta_1)**2 + (delta_2)**2)**(0.5)\n",
    "    \n",
    "    T = np.array( [ ???????? ])\n",
    "    \n",
    "    return( T)"
   ]
  },
  {
   "cell_type": "markdown",
   "metadata": {},
   "source": [
    "**Frame Element Member Stiffness Matrix in Local Coordinates**"
   ]
  },
  {
   "cell_type": "code",
   "execution_count": null,
   "metadata": {},
   "outputs": [],
   "source": [
    "def column_stiffness_matrix():\n",
    "    ?????????????\n",
    "    "
   ]
  },
  {
   "cell_type": "markdown",
   "metadata": {},
   "source": [
    "**Frame Element Member Stiffness Matrix in Global Coordinates**"
   ]
  },
  {
   "cell_type": "code",
   "execution_count": null,
   "metadata": {},
   "outputs": [],
   "source": [
    "K_global =  ????????"
   ]
  },
  {
   "cell_type": "code",
   "execution_count": null,
   "metadata": {},
   "outputs": [],
   "source": []
  },
  {
   "cell_type": "markdown",
   "metadata": {},
   "source": [
    "---\n",
    "\n",
    "**NEXT WEEK**\n",
    "The topics for the next week \n",
    "\n",
    "- \"Frame Systems- MRF Support displacement\""
   ]
  }
 ],
 "metadata": {
  "anaconda-cloud": {},
  "celltoolbar": "Slideshow",
  "kernelspec": {
   "display_name": "Python 3",
   "language": "python",
   "name": "python3"
  },
  "language_info": {
   "codemirror_mode": {
    "name": "ipython",
    "version": 3
   },
   "file_extension": ".py",
   "mimetype": "text/x-python",
   "name": "python",
   "nbconvert_exporter": "python",
   "pygments_lexer": "ipython3",
   "version": "3.8.1"
  },
  "toc-autonumbering": false
 },
 "nbformat": 4,
 "nbformat_minor": 4
}
