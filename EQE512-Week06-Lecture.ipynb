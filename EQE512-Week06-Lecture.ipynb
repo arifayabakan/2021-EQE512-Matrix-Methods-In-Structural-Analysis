{
 "cells": [
  {
   "cell_type": "markdown",
   "metadata": {
    "slideshow": {
     "slide_type": "slide"
    }
   },
   "source": [
    "<h1 align=\"center\">EQE512 MATRIX METHODS IN STRUCTURAL ANALYSIS \n",
    "<br>\n",
    "<br>\n",
    "Week 06\n",
    "<br>\n",
    "<br>\n",
    "Beam member w/ span load & Column member &  Frame Systems</h1> \n",
    "\n",
    "<h3 align=\"center\">Dr. Ahmet Anıl Dindar (adindar@gtu.edu.tr)</h3> \n",
    "<h4 align=\"center\">2021 Fall  </h4> "
   ]
  },
  {
   "cell_type": "markdown",
   "metadata": {},
   "source": [
    "---\n",
    "**Today's Topics**\n",
    "\n",
    "1- Example with beam\n",
    "\n",
    "2- Column member stiffness matrix\n",
    "\n",
    "3- Frame System stiffness matrix\n",
    "\n",
    "---"
   ]
  },
  {
   "cell_type": "markdown",
   "metadata": {},
   "source": [
    "# 1- Loaded Beam\n",
    "\n",
    "**For the given system, draw the internal force diagrams. (Material C25)**\n",
    "\n",
    "<img src=\"./figures/6-Example-Beam_loaded.png\" width = \"600\">"
   ]
  },
  {
   "cell_type": "markdown",
   "metadata": {
    "tags": []
   },
   "source": [
    "**Numbering and mapping of the system displacments and forces.**\n",
    "\n",
    "<img src=\"./figures/6-Example-Beam_loaded-2.png\" width=\"600\">"
   ]
  },
  {
   "cell_type": "markdown",
   "metadata": {
    "jupyter": {
     "source_hidden": true
    },
    "tags": []
   },
   "source": [
    "---\n",
    "**Solution :**\n",
    "\n",
    "1. Obtain the equivalent end forces\n",
    "2. Apply the obtained values in opposite directions at the nodes\n",
    "3. Ignore the span loads\n",
    "\n",
    "<img src=\"./figures/12-EQE512-Loads-Apply.PNG\"   style=\"width:70%\">\n",
    "\n",
    "---"
   ]
  },
  {
   "cell_type": "code",
   "execution_count": 1,
   "metadata": {
    "tags": []
   },
   "outputs": [
    {
     "data": {
      "text/plain": [
       "{1: {'E': 30000000, 'I': 0.0026041667, 'jointI': [0, 0], 'jointJ': [0, 4]},\n",
       " 2: {'E': 30000000, 'I': 0.0026041667, 'jointI': [0, 4], 'jointJ': [0, 7]}}"
      ]
     },
     "execution_count": 1,
     "metadata": {},
     "output_type": "execute_result"
    }
   ],
   "source": [
    "# Mapping and numbering\n",
    "DOF = 2\n",
    "#Nodes' names with coordinates\n",
    "joint_nodes = {1:[0,0] , 2:[0,4], 3:[0,7]}\n",
    "\n",
    "# Members' names and nodes\n",
    "member_nodes= {1:[1,2] , 2:[2,3]}\n",
    "\n",
    "# Member properties\n",
    "member_1 = {\"E\":30_000_000 ,  \"I\" : round((.250 * .500**3 )/12 ,10) ,  \n",
    "                \"jointI\": joint_nodes[1] , \n",
    "                \"jointJ\": joint_nodes[2]}\n",
    "\n",
    "member_2 = {\"E\":30_000_000 ,  \"I\" : round((.250*.500**3)/12 ,10) ,  \n",
    "                \"jointI\": joint_nodes[2] , \n",
    "                \"jointJ\": joint_nodes[3]}\n",
    "\n",
    "member_props = {}\n",
    "\n",
    "for member_no , member_property in zip( member_nodes.keys() , [member_1 ,  member_2] ):\n",
    "    \n",
    "    member_props[ member_no ] = member_property   \n",
    "    \n",
    "member_props"
   ]
  },
  {
   "cell_type": "markdown",
   "metadata": {},
   "source": [
    "**Fixed End Moment**"
   ]
  },
  {
   "cell_type": "code",
   "execution_count": 2,
   "metadata": {
    "tags": []
   },
   "outputs": [],
   "source": [
    "def beam_load_single_force(f,a,b):\n",
    "    L = a+b\n",
    "    s1 = f*( 1 - (3*a**2)/(L**2) + (2*a**3)/(L**3) )\n",
    "    s2 = f*( a - (2*a**2)/(L) + (a**3)/(L**2) )\n",
    "    s3 = f*( (3*a**2)/(L**2) - (2*a**3)/(L**3) )\n",
    "    s4 = f*( -1 * (a**2)/(L) + (a**3)/(L**2) )\n",
    "    \n",
    "    return(s1,s2,s3,s4)"
   ]
  },
  {
   "cell_type": "code",
   "execution_count": 3,
   "metadata": {
    "tags": []
   },
   "outputs": [],
   "source": [
    "def beam_load_uniform_force(f,L):\n",
    "    s1 = (f * L) / 2\n",
    "    s2 = (f * L**2) / 12\n",
    "    s3 = (f * L) / 2\n",
    "    s4 = (-1 * f * L**2) / 12    \n",
    "    \n",
    "    return(s1,s2,s3,s4)"
   ]
  },
  {
   "cell_type": "code",
   "execution_count": 4,
   "metadata": {
    "tags": []
   },
   "outputs": [
    {
     "name": "stdout",
     "output_type": "stream",
     "text": [
      "50.0 50.0 50.0 -50.0\n"
     ]
    }
   ],
   "source": [
    "# For the member 1\n",
    "s1_1,s1_2,s1_3,s1_4 = beam_load_single_force( 100 , 2,2)\n",
    "print( s1_1,s1_2,s1_3,s1_4 )"
   ]
  },
  {
   "cell_type": "code",
   "execution_count": 5,
   "metadata": {
    "tags": []
   },
   "outputs": [
    {
     "name": "stdout",
     "output_type": "stream",
     "text": [
      "30.0 15.0 30.0 -15.0\n"
     ]
    }
   ],
   "source": [
    "# For the member 2\n",
    "s2_1,s2_2,s2_3,s2_4 = beam_load_uniform_force( 20 , 3)\n",
    "print( s2_1,s2_2,s2_3,s2_4 )"
   ]
  },
  {
   "cell_type": "code",
   "execution_count": 6,
   "metadata": {
    "tags": []
   },
   "outputs": [],
   "source": [
    "# Load Vector - Manuelly created P vector\n",
    "# Can you make its algorithm?"
   ]
  },
  {
   "cell_type": "code",
   "execution_count": 7,
   "metadata": {
    "tags": []
   },
   "outputs": [
    {
     "name": "stdout",
     "output_type": "stream",
     "text": [
      "[-50 -50 -80  35 -30  15]\n"
     ]
    }
   ],
   "source": [
    "import numpy as np \n",
    "\n",
    "P = np.array([-50 , -50 , -80 , 35, -30 , 15])\n",
    "print( P )"
   ]
  },
  {
   "cell_type": "markdown",
   "metadata": {},
   "source": [
    "<img src=\"./figures/6-Example-Beam_loaded-3.png\" width=\"600\">"
   ]
  },
  {
   "cell_type": "markdown",
   "metadata": {},
   "source": [
    "**Import the previous course notebook**"
   ]
  },
  {
   "cell_type": "code",
   "execution_count": 8,
   "metadata": {
    "tags": []
   },
   "outputs": [],
   "source": [
    "import EQE512_functions"
   ]
  },
  {
   "cell_type": "code",
   "execution_count": 9,
   "metadata": {
    "tags": []
   },
   "outputs": [
    {
     "name": "stdout",
     "output_type": "stream",
     "text": [
      "1\n",
      "4.0\n",
      "==================================================================================================== \n",
      " [[ 14648.4376875  29296.875375  -14648.4376875  29296.875375 ]\n",
      " [ 29296.875375   78125.001     -29296.875375   39062.5005   ]\n",
      " [-14648.4376875 -29296.875375   14648.4376875 -29296.875375 ]\n",
      " [ 29296.875375   39062.5005    -29296.875375   78125.001    ]]\n",
      "2\n",
      "3.0\n",
      "==================================================================================================== \n",
      " [[ 34722.22266667  52083.334      -34722.22266667  52083.334     ]\n",
      " [ 52083.334      104166.668      -52083.334       52083.334     ]\n",
      " [-34722.22266667 -52083.334       34722.22266667 -52083.334     ]\n",
      " [ 52083.334       52083.334      -52083.334      104166.668     ]]\n",
      "~~~~~~~~~~~~~~~~~~~~~~~~~~~~~~~~~~~~~~~~~~~~~~~~~~~~~~~~~~~~~~~~~~~~~~~~~~~~~~~~~~~~~~~~~~~~~~~~~~~~\n"
     ]
    }
   ],
   "source": [
    "# Data structure for member stiffness matrices\n",
    "k_members = {}\n",
    "\n",
    "for member_no , member_property in member_props.items() : \n",
    "    print( member_no)\n",
    "    k_members[member_no] =  EQE512_functions.beam_stiffness_matrix(member_property  )\n",
    "    \n",
    "    print( \"=\"*100 , \"\\n\" , k_members[member_no])\n",
    "    \n",
    "print( \"~\"*100)  "
   ]
  },
  {
   "cell_type": "code",
   "execution_count": 22,
   "metadata": {
    "tags": []
   },
   "outputs": [
    {
     "name": "stdout",
     "output_type": "stream",
     "text": [
      "[[ 14648  29296 -14648  29296      0      0]\n",
      " [ 29296  78125 -29296  39062      0      0]\n",
      " [-14648 -29296  49370  22787 -34722  52083]\n",
      " [ 29296  39062  22787 182291 -52083  52083]\n",
      " [     0      0 -34722 -52083  34722 -52083]\n",
      " [     0      0  52083  52083 -52083 104166]]\n"
     ]
    }
   ],
   "source": [
    "K_system = EQE512_functions.system_stiffness_matrix( k_members , joint_nodes , member_nodes , DOF = 2)\n",
    "print( K_system)"
   ]
  },
  {
   "cell_type": "markdown",
   "metadata": {},
   "source": [
    "**Apply Boundary Conditions**"
   ]
  },
  {
   "cell_type": "code",
   "execution_count": 12,
   "metadata": {
    "tags": []
   },
   "outputs": [],
   "source": [
    "P_factor = np.array( [ 0 , 0 , 0, 1 , 0 , 1 ] )"
   ]
  },
  {
   "cell_type": "code",
   "execution_count": 13,
   "metadata": {
    "tags": []
   },
   "outputs": [],
   "source": [
    "U_factor = np.array( [ 0 , 0 , 0, 1 , 0 , 1 ] )"
   ]
  },
  {
   "cell_type": "code",
   "execution_count": 14,
   "metadata": {
    "tags": []
   },
   "outputs": [
    {
     "data": {
      "text/plain": [
       "array([[     1,      0,      0,      0,      0,      0],\n",
       "       [     0,      1,      0,      0,      0,      0],\n",
       "       [     0,      0,      1,      0,      0,      0],\n",
       "       [     0,      0,      0, 182291,      0,  52083],\n",
       "       [     0,      0,      0,      0,      1,      0],\n",
       "       [     0,      0,      0,  52083,      0, 104166]])"
      ]
     },
     "execution_count": 14,
     "metadata": {},
     "output_type": "execute_result"
    }
   ],
   "source": [
    "K_bc = EQE512_functions.apply_boundary_conditions( K_system , U_factor , P_factor)\n",
    "K_bc"
   ]
  },
  {
   "cell_type": "code",
   "execution_count": 15,
   "metadata": {
    "tags": []
   },
   "outputs": [
    {
     "data": {
      "text/plain": [
       "array([ 0,  0,  0, 35,  0, 15])"
      ]
     },
     "execution_count": 15,
     "metadata": {},
     "output_type": "execute_result"
    }
   ],
   "source": [
    "P_bc = P*P_factor\n",
    "P_bc"
   ]
  },
  {
   "cell_type": "markdown",
   "metadata": {},
   "source": [
    "** Solve the relation between Force and Displacement**\n",
    "\n",
    "$  K_{bc} \\times U = P_{bc}$"
   ]
  },
  {
   "cell_type": "code",
   "execution_count": 20,
   "metadata": {
    "tags": []
   },
   "outputs": [
    {
     "name": "stdout",
     "output_type": "stream",
     "text": [
      "0.0 m or rad\n",
      "0.0 m or rad\n",
      "0.0 m or rad\n",
      "0.00017600056320180225 m or rad\n",
      "0.0 m or rad\n",
      "5.600064000499715e-05 m or rad\n"
     ]
    }
   ],
   "source": [
    "U = np.matmul( np.linalg.inv( K_bc ) , P_bc) \n",
    "\n",
    "[print(f\"{item} m or rad\") for item in U];"
   ]
  },
  {
   "cell_type": "markdown",
   "metadata": {},
   "source": [
    "**Solution**\n",
    "\n",
    "$  K \\times U = P$  "
   ]
  },
  {
   "cell_type": "code",
   "execution_count": 25,
   "metadata": {
    "tags": []
   },
   "outputs": [
    {
     "name": "stdout",
     "output_type": "stream",
     "text": [
      "5.16 kN or kNm\n",
      "6.87 kN or kNm\n",
      "6.93 kN or kNm\n",
      "35.0 kN or kNm\n",
      "-12.08 kN or kNm\n",
      "15.0 kN or kNm\n"
     ]
    }
   ],
   "source": [
    "P_solution = np.matmul( K_system , U)\n",
    "[print(f\"{round(item,2)} kN or kNm\") for item in P_solution];"
   ]
  },
  {
   "cell_type": "code",
   "execution_count": 27,
   "metadata": {
    "tags": []
   },
   "outputs": [
    {
     "name": "stdout",
     "output_type": "stream",
     "text": [
      "55.16 kN or kNm\n",
      "56.87 kN or kNm\n",
      "86.93 kN or kNm\n",
      "0.0 kN or kNm\n",
      "17.92 kN or kNm\n",
      "0.0 kN or kNm\n"
     ]
    }
   ],
   "source": [
    "P_support_reactions = P_solution - P\n",
    "[print(f\"{round(item,2)} kN or kNm\") for item in P_support_reactions];"
   ]
  },
  {
   "cell_type": "markdown",
   "metadata": {},
   "source": [
    "---\n",
    "## Inclass Example\n",
    "\n",
    "**For the given system, draw the internal force diagrams. (Material C25)**\n",
    "\n",
    "- Take the concentrated load is 1m far from the wall on the left. Obtain the support reactions.\n",
    "- Compare your results with the one given above. \n",
    "\n",
    "<img src=\"./figures/6-Example-Beam_loaded.png\" width = \"600\">"
   ]
  },
  {
   "cell_type": "markdown",
   "metadata": {
    "tags": []
   },
   "source": [
    "---\n",
    "\n",
    "# Columns"
   ]
  },
  {
   "cell_type": "markdown",
   "metadata": {},
   "source": [
    "**Freedom**\n",
    "\n",
    "<img src=\"figures/9-EQE512-ColumnMemberExplanation.PNG\" width=\"800\">\n",
    "\n",
    "---\n",
    "\n",
    "**Transformation Matrix**\n",
    "\n",
    "Remember the relation between local and global terms\n",
    "\n",
    "$ \\Large k^i = (T^i) \\hat{k}^i T^i $ \n",
    "\n",
    "Remember the transformation matrix;\n",
    "\n",
    "$ \\Large T^i = \\begin{bmatrix} \\frac{\\Delta_1}{L} & \\frac{\\Delta_2}{L}  & 0 & 0 & 0 & 0 \\\\ \n",
    "                              -\\frac{\\Delta_2}{L} & \\frac{\\Delta_1}{L}  & 0  & 0 & 0 & 0 \\\\ \n",
    "                               0 & 0 & 1 & 0 & 0 & 0  \\\\  \n",
    "                               0 & 0 & 0 &  \\frac{\\Delta_1}{L} & \\frac{\\Delta_2}{L} 0 & 0 &   \\\\ \n",
    "                              0  & 0 & 0 & -\\frac{\\Delta_2}{L} & \\frac{\\Delta_1}{L} 0 & 0 &   \\\\ \n",
    "                               0 & 0 & 0 & 0 & 0 & 1  \\\\  \n",
    "                               \\end{bmatrix}$\n",
    "\n",
    "---\n",
    "\n",
    "**Local Stiffness Matrix**\n",
    "\n",
    "<img src=\"figures/column_stiffness_in_local_coordinates.png\" width=\"800\">\n",
    "\n",
    "**Global Stiffness Matrix**\n",
    "\n",
    "After applying the transformation matrix\n",
    "\n",
    "$ \\Large k^i = (T^i)^T \\hat{k}^i T^i$\n",
    "\n",
    "Than the stiffness matrix in global terms\n",
    "\n",
    "<img src=\"figures/9-EQE512-ColumnMemberStiffness.PNG\" width=\"1000\">"
   ]
  },
  {
   "cell_type": "markdown",
   "metadata": {},
   "source": [
    "**Transformation Matrix of Frame Element**"
   ]
  },
  {
   "cell_type": "code",
   "execution_count": null,
   "metadata": {
    "jupyter": {
     "source_hidden": true
    }
   },
   "outputs": [],
   "source": [
    "def transformation_matrix( x1,y1,x2,y2) :\n",
    "    delta_1 = (x1-x2)\n",
    "    delta_2 = (y1-y2)\n",
    "    L = ( (delta_1)**2 + (delta_2)**2)**(0.5)\n",
    "    \n",
    "    T = np.array( [ ???????? ])\n",
    "    \n",
    "    return( T)"
   ]
  },
  {
   "cell_type": "markdown",
   "metadata": {},
   "source": [
    "**Frame Element Member Stiffness Matrix in Local Coordinates**"
   ]
  },
  {
   "cell_type": "code",
   "execution_count": null,
   "metadata": {
    "jupyter": {
     "source_hidden": true
    }
   },
   "outputs": [],
   "source": [
    "def column_stiffness_matrix():\n",
    "    ?????????????\n",
    "    "
   ]
  },
  {
   "cell_type": "markdown",
   "metadata": {},
   "source": [
    "**Frame Element Member Stiffness Matrix in Global Coordinates**"
   ]
  },
  {
   "cell_type": "code",
   "execution_count": null,
   "metadata": {
    "jupyter": {
     "source_hidden": true
    }
   },
   "outputs": [],
   "source": [
    "K_global =  ????????"
   ]
  },
  {
   "cell_type": "code",
   "execution_count": null,
   "metadata": {
    "jupyter": {
     "source_hidden": true
    },
    "tags": []
   },
   "outputs": [],
   "source": []
  },
  {
   "cell_type": "markdown",
   "metadata": {},
   "source": [
    "---\n",
    "\n",
    "**NEXT WEEK**\n",
    "The topics for the next week \n",
    "\n",
    "- \"Frame Systems- MRF Support displacement\""
   ]
  }
 ],
 "metadata": {
  "anaconda-cloud": {},
  "celltoolbar": "Slideshow",
  "kernelspec": {
   "display_name": "Python 3",
   "language": "python",
   "name": "python3"
  },
  "language_info": {
   "codemirror_mode": {
    "name": "ipython",
    "version": 3
   },
   "file_extension": ".py",
   "mimetype": "text/x-python",
   "name": "python",
   "nbconvert_exporter": "python",
   "pygments_lexer": "ipython3",
   "version": "3.8.1"
  },
  "toc-autonumbering": false
 },
 "nbformat": 4,
 "nbformat_minor": 4
}
