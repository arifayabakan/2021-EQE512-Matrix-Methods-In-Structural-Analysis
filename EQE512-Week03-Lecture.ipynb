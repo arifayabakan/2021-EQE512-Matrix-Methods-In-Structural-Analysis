{
 "cells": [
  {
   "cell_type": "markdown",
   "metadata": {
    "slideshow": {
     "slide_type": "slide"
    }
   },
   "source": [
    "<h1 align=\"center\">EQE512 MATRIX METHODS IN STRUCTURAL ANALYSIS \n",
    "<br>\n",
    "<br>\n",
    "Week 03\n",
    "<br>\n",
    "<br>\n",
    "Truss Element & System - Stifness Matrix</h1> \n",
    "\n",
    "<h3 align=\"center\">Dr. Ahmet Anıl Dindar (adindar@gtu.edu.tr)</h3> \n",
    "<h4 align=\"center\">2021 Fall  </h4> "
   ]
  },
  {
   "cell_type": "markdown",
   "metadata": {},
   "source": [
    "**This week :**\n",
    "\n",
    "1. Truss systems explanation\n",
    "\n",
    "2. Local & global coordinates \n",
    "\n",
    "3. Truss member stiffness\n",
    "\n",
    "    3.1. Local coordinates\n",
    "\n",
    "    3.2. Global coordinates\n",
    "\n",
    "4. Assembling the system stiffness matrix\n",
    "\n",
    "---\n"
   ]
  },
  {
   "cell_type": "markdown",
   "metadata": {},
   "source": [
    "# Truss systems explanation\n",
    "\n",
    "_A truss is a structure composed of sleder members joined together at their end points._\n",
    "\n",
    "![](./figures/1-EQE512-TrussExample.png)"
   ]
  },
  {
   "cell_type": "markdown",
   "metadata": {},
   "source": [
    "---\n",
    "\n",
    "# Local & global coordinates \n",
    "\n",
    "<img src = \"./figures/2-Global-local-coordinates.png\" width = \"400\">\n",
    "\n",
    "## Transformation is required\n",
    "\n",
    "<img src = \"./figures/3-Global-local-coordinates-transformation.png\" width = \"400\">\n",
    "\n",
    "**The formula is**\n",
    "\n",
    "Denote as \n",
    "\n",
    "$$\\Delta_1 = x_{1j} - x_{1i} $$ and $$\\Delta_1 = x_{2j} - x_{2i} $$\n",
    "\n",
    "\n",
    "$$ L = \\sqrt{{\\Delta_1}^2 + {\\Delta_2}^2} $$ and $$ Cos\\alpha = \\frac{\\Delta_1}{}L $$ , $$Cos\\beta = \\frac{\\Delta_2}{}L$$\n",
    "\n",
    "Place in to \n",
    "\n",
    "$$\\hat{u}_1 = u_1 Cos\\alpha + u_3 Cos\\beta = \\frac{\\Delta_1}{L}u_1 + \\frac{\\Delta_2}{L}u_2 $$\n",
    "\n",
    "\n",
    "$$\\hat{u}_2 = u_3 Cos\\alpha + u_4 Cos\\beta = \\frac{\\Delta_1}{L}u_3 + \\frac{\\Delta_2}{L}u_4 $$\n",
    "\n",
    "\n",
    "$$ \\begin{bmatrix} \\hat{u}_1 \\\\ \\hat{u}_2 \\end{bmatrix} = \\begin{bmatrix} \\frac{\\Delta_1}{L} & \\frac{\\Delta_2}{L}  & 0 & 0  \\\\ 0 & 0 & \n",
    "\\frac{\\Delta_1}{L} & \\frac{\\Delta_2}{L}  \\end{bmatrix} \\begin{bmatrix} u_1 \\\\ u_2 \\\\ u_3 \\\\ u_4\\end{bmatrix}  $$\n",
    "\n",
    "\n",
    "$$\\hat{u}^i = T^i u^i$$"
   ]
  },
  {
   "cell_type": "markdown",
   "metadata": {},
   "source": [
    "# Truss member stiffness\n",
    "\n",
    "\n",
    "Let's think the systems"
   ]
  },
  {
   "cell_type": "markdown",
   "metadata": {},
   "source": [
    "## Local coordinates\n",
    "\n",
    "\n",
    "$$ \\hat{k}^i = \\frac{EA}{L} \\begin{bmatrix}1 & -1 \\\\ -1 & 1 \\end{bmatrix}$$\n",
    "\n",
    "\n",
    "## Global coordinates\n",
    "Remember the relation between local and global terms\n",
    "\n",
    "$$ k^i = (T^i) \\hat{k}^i T^i$$\n",
    "\n",
    "Remember the transformation matrix;\n",
    "\n",
    "$$ T^i = \\begin{bmatrix} \\frac{\\Delta_1}{L} & \\frac{\\Delta_2}{L}  & 0 & 0  \\\\ 0 & 0 & \n",
    "\\frac{\\Delta_1}{L} & \\frac{\\Delta_2}{L}  \\end{bmatrix}$$\n",
    "\n",
    "\n",
    "Stiffness matrix in local coordinates;\n",
    "\n",
    "$$ \\hat{k}^i = \\frac{EA}{L} \\begin{bmatrix}1 & -1 \\\\ -1 & 1 \\end{bmatrix} $$\n",
    "\n",
    "\n",
    "Remember the denoted terms;\n",
    "$$ c_1 = \\frac{\\Delta_1}{L} {\\quad,\\quad} c_2 = \\frac{\\Delta_2}{L}$$\n",
    "\n",
    "\n",
    "Place all above into place; \n",
    "$$ k^i = \\begin{bmatrix} c_1 & 0 \\\\ c_2 & 0 \\\\ 0 & c_1 \\\\ 0 & c_2\\end{bmatrix} \\frac{EA}{L} \\begin{bmatrix}1 & -1 \\\\ -1 & 1 \\end{bmatrix} = \\frac{EA}{L} \\begin{bmatrix} c_1^2 & c_1c_2& -c_1^2 & -c_1c_2 \\\\ c_1c_2 & c_2^2& -c_1c_2 & -c_22  \\\\ ^-c_1^2 & c_1c_2& c_1^2 & c_1c_2  \\\\ -c_1c_2 & -c_2^2& -_1c_2 & c_2^2 \\end{bmatrix} $$\n",
    "\n",
    "\n",
    "Stiffness matrix for a truss member in global coordinates is given as below: \n",
    "\n",
    "$$ k^i = \\frac{EA}{L} \\begin{bmatrix} c_1^2 & c_1c_2& -c_1^2 & -c_1c_2 \\\\ c_1c_2 & c_2^2& -c_1c_2 & -c_22  \\\\ ^-c_1^2 & c_1c_2& c_1^2 & c_1c_2  \\\\ -c_1c_2 & -c_2^2& -_1c_2 & c_2^2\\end{bmatrix} $$\n"
   ]
  },
  {
   "cell_type": "markdown",
   "metadata": {},
   "source": [
    "---\n",
    "---\n",
    "# Assembling the system stiffness matrix\n",
    "\n",
    "<img src=\"./figures/6-System-Stiffness-Assembly.png\" width = \"70%\">\n",
    "\n",
    "<img src=\"./figures/6b-System-Stiffness-Assembly.png\" width = \"70%\">\n",
    "\n",
    "<img src=\"./figures/6c-System-Stiffness-Assembly.png\" width = \"70%\">\n",
    "\n"
   ]
  },
  {
   "cell_type": "markdown",
   "metadata": {},
   "source": [
    "---\n",
    "\n",
    "## Example\n",
    "\n",
    "For the given Truss system, determine the followings\n",
    "- Nodal displacements\n",
    "- Support reactions\n",
    "- Member forces\n",
    "- Member deformations\n",
    "- Member Stresses\n",
    "- Deformed shape of the system\n",
    "\n",
    "Material is steel (E=210GPa).\n",
    "\n",
    "\n",
    "<img src=\"figures/1-EQE512-TrussExample_1.png\" width = \"400\">\n"
   ]
  },
  {
   "cell_type": "code",
   "execution_count": null,
   "metadata": {},
   "outputs": [],
   "source": []
  },
  {
   "cell_type": "code",
   "execution_count": null,
   "metadata": {},
   "outputs": [],
   "source": []
  },
  {
   "cell_type": "code",
   "execution_count": null,
   "metadata": {},
   "outputs": [],
   "source": []
  },
  {
   "cell_type": "code",
   "execution_count": null,
   "metadata": {},
   "outputs": [],
   "source": []
  },
  {
   "cell_type": "code",
   "execution_count": null,
   "metadata": {},
   "outputs": [],
   "source": []
  },
  {
   "cell_type": "code",
   "execution_count": null,
   "metadata": {},
   "outputs": [],
   "source": []
  },
  {
   "cell_type": "code",
   "execution_count": null,
   "metadata": {},
   "outputs": [],
   "source": []
  },
  {
   "cell_type": "code",
   "execution_count": null,
   "metadata": {},
   "outputs": [],
   "source": []
  },
  {
   "cell_type": "code",
   "execution_count": null,
   "metadata": {},
   "outputs": [],
   "source": []
  },
  {
   "cell_type": "code",
   "execution_count": null,
   "metadata": {},
   "outputs": [],
   "source": []
  },
  {
   "cell_type": "markdown",
   "metadata": {},
   "source": [
    "---\n",
    "\n",
    "**NEXT WEEK**\n",
    "\n",
    "<table >\n",
    "<tr>\n",
    "<td>\n",
    "<img src=\"http://worshiphousemedia.s3.amazonaws.com/images/main/s/st/bnt/st/seeyounextweek1.jpg\" width=\"50%\" >\n",
    "</td>\n",
    "<td align=\"left\">\n",
    "The topics for the next week \n",
    "<br><br>\n",
    "\"Beam Elemnt- w/ & w/o Loads\"\n",
    "<br>\n",
    "</td>\n",
    "</tr>\n",
    "</table>"
   ]
  }
 ],
 "metadata": {
  "anaconda-cloud": {},
  "celltoolbar": "Slideshow",
  "kernelspec": {
   "display_name": "Python 3",
   "language": "python",
   "name": "python3"
  },
  "language_info": {
   "codemirror_mode": {
    "name": "ipython",
    "version": 3
   },
   "file_extension": ".py",
   "mimetype": "text/x-python",
   "name": "python",
   "nbconvert_exporter": "python",
   "pygments_lexer": "ipython3",
   "version": "3.8.1"
  }
 },
 "nbformat": 4,
 "nbformat_minor": 4
}
